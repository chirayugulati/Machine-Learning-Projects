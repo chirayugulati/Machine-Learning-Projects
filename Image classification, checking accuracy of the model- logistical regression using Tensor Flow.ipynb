{
 "cells": [
  {
   "cell_type": "markdown",
   "metadata": {},
   "source": [
    "# Assignment 7\n",
    "\n",
    "\n",
    "You will demonstrate your ability to create and train Neural Network models.\n",
    "\n",
    "You will *only* use `Dense` layers."
   ]
  },
  {
   "cell_type": "markdown",
   "metadata": {},
   "source": [
    "# Objectives\n",
    "\n",
    "This is a \"doing\" rather than \"thinking\" assignment.\n",
    "\n",
    "Your goal is to checkpoint your skills to see if they are sufficient to create, train, and evaluate\n",
    "Neural Network models."
   ]
  },
  {
   "cell_type": "markdown",
   "metadata": {},
   "source": [
    "# Submission guidelines\n",
    "\n",
    "There are some specified tasks you must carry out, which involve playing around with a number of models.\n",
    "\n",
    "We want to be able to evaluate *your best model* on a holdout dataset.\n",
    "\n",
    "To faciliate this,\n",
    "in addition to providing your notebook, we will ask you to create the subroutine `MyModel`\n",
    "described below **and submit one additional file** to be described.\n",
    "\n",
    "You will choose your *best model* and using the code provided in the cell below, save the model to a file and **submit the file with your saved model** along with the notebook."
   ]
  },
  {
   "cell_type": "markdown",
   "metadata": {},
   "source": [
    "The code cell below **should be the last cell in your notebook**.\n",
    "\n",
    "The last cell:\n",
    "- defines a routine to save a \"model\" object to a file\n",
    "- defines a routine to load a model object from a file\n",
    "- asks you to save the model for one of the tasks\n",
    "- asks you to run `MyModel`\n",
    "\n",
    "`MyModel` takes as arguments\n",
    "- a test set: `x_test`, `y_test`\n",
    "- name of a file containing a model object for a specified task\n",
    "\n",
    "`MyModel` will load the file (i.e., restore the model) and run predictions on the test set.\n",
    "\n",
    "You will need to complete the body of the `MyModel` definition."
   ]
  },
  {
   "cell_type": "markdown",
   "metadata": {},
   "source": [
    "We will run `MyModel` in that cell in order to load your saved model and run it\n",
    "- We will not run any other cell in the notebook so if you need imports or anything else. put it there!  \n",
    "- We **will not** run cells that train your model: that would take too long)\n",
    "- If you need the holdout data to be transformed\n",
    "    - the transformations should be called from `MyModel`\n",
    "    - we will not run a cell to make the transformation happen"
   ]
  },
  {
   "cell_type": "markdown",
   "metadata": {},
   "source": [
    "# HINT\n",
    "**This is literally a give-away:** https://www.tensorflow.org/tutorials/keras/classification"
   ]
  },
  {
   "cell_type": "markdown",
   "metadata": {},
   "source": [
    "## Additional submission\n",
    "\n",
    "In addition to your notebook, please also submit the file whose name is stored in `model_path`.\n",
    "\n",
    "**DO NOT** rename the file!\n"
   ]
  },
  {
   "cell_type": "markdown",
   "metadata": {},
   "source": [
    "Here is the cell **that must appear as the last cell in your notebook**"
   ]
  },
  {
   "cell_type": "markdown",
   "metadata": {},
   "source": [
    "# The problem\n",
    "\n",
    "You will create several Neural Networks to solve a classification problem that is a slight variant\n",
    "of the MNIST digit classification problem.\n",
    "\n",
    "The assignment really involves little more than playing around with that example.\n",
    "\n",
    "The objective is to ensure that you are able to write and run simple programs using Keras."
   ]
  },
  {
   "cell_type": "markdown",
   "metadata": {},
   "source": [
    "# The Data\n",
    "\n",
    "The dataset is called Fashion MNIST.\n",
    "\n",
    "Rather than classifying images into one of ten digits,\n",
    "you will classify images of clothing items into one of ten classes.\n",
    "\n",
    "Here's the code to get the data."
   ]
  },
  {
   "cell_type": "code",
   "execution_count": 1,
   "metadata": {},
   "outputs": [],
   "source": [
    "from tensorflow.keras.datasets import mnist, fashion_mnist, cifar10\n",
    "import matplotlib.pyplot as plt\n",
    "\n",
    "(x_train, y_train), (x_test, y_test) = fashion_mnist.load_data()\n"
   ]
  },
  {
   "cell_type": "markdown",
   "metadata": {
    "id": "Brm0b_KACaWX"
   },
   "source": [
    "## Data exploration\n",
    "\n",
    "Let's explore the format of the dataset before training the model. The following shows there are 60,000 images in the training set, with each image represented as 28 x 28 pixels:"
   ]
  },
  {
   "cell_type": "code",
   "execution_count": 2,
   "metadata": {
    "execution": {
     "iopub.execute_input": "2020-10-15T01:28:55.934510Z",
     "iopub.status.busy": "2020-10-15T01:28:55.933579Z",
     "iopub.status.idle": "2020-10-15T01:28:55.937673Z",
     "shell.execute_reply": "2020-10-15T01:28:55.938105Z"
    },
    "id": "zW5k_xz1CaWX"
   },
   "outputs": [
    {
     "data": {
      "text/plain": [
       "(60000, 28, 28)"
      ]
     },
     "execution_count": 2,
     "metadata": {},
     "output_type": "execute_result"
    }
   ],
   "source": [
    "x_train.shape"
   ]
  },
  {
   "cell_type": "markdown",
   "metadata": {
    "id": "cIAcvQqMCaWf"
   },
   "source": [
    "Likewise, there are 60,000 labels in the training set:"
   ]
  },
  {
   "cell_type": "code",
   "execution_count": 3,
   "metadata": {
    "execution": {
     "iopub.execute_input": "2020-10-15T01:28:55.942785Z",
     "iopub.status.busy": "2020-10-15T01:28:55.941935Z",
     "iopub.status.idle": "2020-10-15T01:28:55.945134Z",
     "shell.execute_reply": "2020-10-15T01:28:55.945674Z"
    },
    "id": "TRFYHB2mCaWb"
   },
   "outputs": [
    {
     "data": {
      "text/plain": [
       "60000"
      ]
     },
     "execution_count": 3,
     "metadata": {},
     "output_type": "execute_result"
    }
   ],
   "source": [
    "len(y_train)"
   ]
  },
  {
   "cell_type": "markdown",
   "metadata": {
    "id": "YSlYxFuRCaWk"
   },
   "source": [
    "Labels are between 0 and 9 to designate a type of item :"
   ]
  },
  {
   "cell_type": "code",
   "execution_count": 4,
   "metadata": {
    "execution": {
     "iopub.execute_input": "2020-10-15T01:28:55.950046Z",
     "iopub.status.busy": "2020-10-15T01:28:55.949289Z",
     "iopub.status.idle": "2020-10-15T01:28:55.952794Z",
     "shell.execute_reply": "2020-10-15T01:28:55.952207Z"
    },
    "id": "XKnCTHz4CaWg"
   },
   "outputs": [
    {
     "data": {
      "text/plain": [
       "array([9, 0, 0, ..., 3, 0, 5], dtype=uint8)"
      ]
     },
     "execution_count": 4,
     "metadata": {},
     "output_type": "execute_result"
    }
   ],
   "source": [
    "y_train"
   ]
  },
  {
   "cell_type": "markdown",
   "metadata": {
    "id": "TMPI88iZpO2T"
   },
   "source": [
    "There are 10,000 images in the test set. Again, each image is represented as 28 x 28 pixels:"
   ]
  },
  {
   "cell_type": "code",
   "execution_count": 5,
   "metadata": {
    "execution": {
     "iopub.execute_input": "2020-10-15T01:28:55.957082Z",
     "iopub.status.busy": "2020-10-15T01:28:55.956303Z",
     "iopub.status.idle": "2020-10-15T01:28:55.959375Z",
     "shell.execute_reply": "2020-10-15T01:28:55.959771Z"
    },
    "id": "2KFnYlcwCaWl"
   },
   "outputs": [
    {
     "data": {
      "text/plain": [
       "(10000, 28, 28)"
      ]
     },
     "execution_count": 5,
     "metadata": {},
     "output_type": "execute_result"
    }
   ],
   "source": [
    "x_test.shape"
   ]
  },
  {
   "cell_type": "markdown",
   "metadata": {
    "id": "ES6uQoLKCaWr"
   },
   "source": [
    "## Preprocess the data\n",
    "\n",
    "Data have value between 0 and 255.\n",
    "We rescale them to values between 0 and 1."
   ]
  },
  {
   "cell_type": "code",
   "execution_count": 6,
   "metadata": {
    "execution": {
     "iopub.execute_input": "2020-10-15T01:28:55.984523Z",
     "iopub.status.busy": "2020-10-15T01:28:55.983443Z",
     "iopub.status.idle": "2020-10-15T01:28:56.147713Z",
     "shell.execute_reply": "2020-10-15T01:28:56.147090Z"
    },
    "id": "m4VEw8Ud9Quh"
   },
   "outputs": [
    {
     "data": {
      "image/png": "[encoded data removed]",
      "text/plain": [
       "<Figure size 432x288 with 2 Axes>"
      ]
     },
     "metadata": {
      "needs_background": "light"
     },
     "output_type": "display_data"
    }
   ],
   "source": [
    "plt.figure()\n",
    "plt.imshow(x_train[0])\n",
    "plt.colorbar()\n",
    "plt.grid(False)\n",
    "plt.show()"
   ]
  },
  {
   "cell_type": "code",
   "execution_count": 7,
   "metadata": {
    "execution": {
     "iopub.execute_input": "2020-10-15T01:28:56.152920Z",
     "iopub.status.busy": "2020-10-15T01:28:56.151644Z",
     "iopub.status.idle": "2020-10-15T01:28:56.309548Z",
     "shell.execute_reply": "2020-10-15T01:28:56.310021Z"
    },
    "id": "bW5WzIPlCaWv"
   },
   "outputs": [],
   "source": [
    "x_train = x_train / 255.0\n",
    "\n",
    "x_test = x_test / 255.0"
   ]
  },
  {
   "cell_type": "markdown",
   "metadata": {},
   "source": [
    "We can see now that the values are rescaled :"
   ]
  },
  {
   "cell_type": "code",
   "execution_count": 8,
   "metadata": {
    "execution": {
     "iopub.execute_input": "2020-10-15T01:28:55.984523Z",
     "iopub.status.busy": "2020-10-15T01:28:55.983443Z",
     "iopub.status.idle": "2020-10-15T01:28:56.147713Z",
     "shell.execute_reply": "2020-10-15T01:28:56.147090Z"
    },
    "id": "m4VEw8Ud9Quh"
   },
   "outputs": [
    {
     "data": {
      "image/png": "[encoded data removed]",
      "text/plain": [
       "<Figure size 432x288 with 2 Axes>"
      ]
     },
     "metadata": {
      "needs_background": "light"
     },
     "output_type": "display_data"
    }
   ],
   "source": [
    "plt.figure()\n",
    "plt.imshow(x_train[0])\n",
    "plt.colorbar()\n",
    "plt.grid(False)\n",
    "plt.show()"
   ]
  },
  {
   "cell_type": "markdown",
   "metadata": {
    "id": "Ee638AlnCaWz"
   },
   "source": [
    "To verify that the data is in the correct format and that you're ready to build and train the network, let's display the first 25 images from the *training set* and display the class name below each image."
   ]
  },
  {
   "cell_type": "code",
   "execution_count": 10,
   "metadata": {
    "execution": {
     "iopub.execute_input": "2020-10-15T01:28:56.350855Z",
     "iopub.status.busy": "2020-10-15T01:28:56.327945Z",
     "iopub.status.idle": "2020-10-15T01:28:57.224132Z",
     "shell.execute_reply": "2020-10-15T01:28:57.224604Z"
    },
    "id": "oZTImqg_CaW1",
    "scrolled": false
   },
   "outputs": [
    {
     "ename": "NameError",
     "evalue": "name 'class_names' is not defined",
     "output_type": "error",
     "traceback": [
      "\u001b[1;31m---------------------------------------------------------------------------\u001b[0m",
      "\u001b[1;31mNameError\u001b[0m                                 Traceback (most recent call last)",
      "\u001b[1;32m<ipython-input-10-73290c906ab6>\u001b[0m in \u001b[0;36m<module>\u001b[1;34m\u001b[0m\n\u001b[0;32m      6\u001b[0m     \u001b[0mplt\u001b[0m\u001b[1;33m.\u001b[0m\u001b[0mgrid\u001b[0m\u001b[1;33m(\u001b[0m\u001b[1;32mFalse\u001b[0m\u001b[1;33m)\u001b[0m\u001b[1;33m\u001b[0m\u001b[1;33m\u001b[0m\u001b[0m\n\u001b[0;32m      7\u001b[0m     \u001b[0mplt\u001b[0m\u001b[1;33m.\u001b[0m\u001b[0mimshow\u001b[0m\u001b[1;33m(\u001b[0m\u001b[0mx_train\u001b[0m\u001b[1;33m[\u001b[0m\u001b[0mi\u001b[0m\u001b[1;33m]\u001b[0m\u001b[1;33m,\u001b[0m \u001b[0mcmap\u001b[0m\u001b[1;33m=\u001b[0m\u001b[0mplt\u001b[0m\u001b[1;33m.\u001b[0m\u001b[0mcm\u001b[0m\u001b[1;33m.\u001b[0m\u001b[0mbinary\u001b[0m\u001b[1;33m)\u001b[0m\u001b[1;33m\u001b[0m\u001b[1;33m\u001b[0m\u001b[0m\n\u001b[1;32m----> 8\u001b[1;33m     \u001b[0mplt\u001b[0m\u001b[1;33m.\u001b[0m\u001b[0mxlabel\u001b[0m\u001b[1;33m(\u001b[0m\u001b[0mclass_names\u001b[0m\u001b[1;33m[\u001b[0m\u001b[0my_train\u001b[0m\u001b[1;33m[\u001b[0m\u001b[0mi\u001b[0m\u001b[1;33m]\u001b[0m\u001b[1;33m]\u001b[0m\u001b[1;33m)\u001b[0m\u001b[1;33m\u001b[0m\u001b[1;33m\u001b[0m\u001b[0m\n\u001b[0m\u001b[0;32m      9\u001b[0m \u001b[0mplt\u001b[0m\u001b[1;33m.\u001b[0m\u001b[0mshow\u001b[0m\u001b[1;33m(\u001b[0m\u001b[1;33m)\u001b[0m\u001b[1;33m\u001b[0m\u001b[1;33m\u001b[0m\u001b[0m\n",
      "\u001b[1;31mNameError\u001b[0m: name 'class_names' is not defined"
     ]
    },
    {
     "data": {
      "image/png": "[encoded data removed]",
      "text/plain": [
       "<Figure size 720x720 with 1 Axes>"
      ]
     },
     "metadata": {},
     "output_type": "display_data"
    }
   ],
   "source": [
    "plt.figure(figsize=(10,10))\n",
    "for i in range(25):\n",
    "    plt.subplot(5,5,i+1)\n",
    "    plt.xticks([])\n",
    "    plt.yticks([])\n",
    "    plt.grid(False)\n",
    "    plt.imshow(x_train[i], cmap=plt.cm.binary)\n",
    "    plt.xlabel(class_names[y_train[i]])\n",
    "plt.show()"
   ]
  },
  {
   "cell_type": "markdown",
   "metadata": {},
   "source": [
    "# Tasks\n",
    "\n",
    "For each task\n",
    "- create the Neural Network as specified\n",
    "- train it on the training data set\n",
    "- evaluate it on the test data set\n"
   ]
  },
  {
   "cell_type": "markdown",
   "metadata": {},
   "source": [
    "## Task 1\n",
    "\n",
    "Create a one layer Neural Network to perform classification (e.g., logistic regression) as we demonstrated in class.\n",
    "\n",
    "No layers other than the one for classification."
   ]
  },
  {
   "cell_type": "markdown",
   "metadata": {},
   "source": [
    "#### Imports"
   ]
  },
  {
   "cell_type": "code",
   "execution_count": 11,
   "metadata": {},
   "outputs": [],
   "source": [
    "import tensorflow as tf\n",
    "import matplotlib.pyplot as plt\n",
    "import numpy as np"
   ]
  },
  {
   "cell_type": "markdown",
   "metadata": {},
   "source": [
    "#### Create model"
   ]
  },
  {
   "cell_type": "code",
   "execution_count": 12,
   "metadata": {},
   "outputs": [],
   "source": [
    "model_1 = tf.keras.Sequential([\n",
    "    tf.keras.layers.Flatten(input_shape=(28, 28)),\n",
    "    tf.keras.layers.Dense(10,activation='sigmoid')\n",
    "])"
   ]
  },
  {
   "cell_type": "code",
   "execution_count": 13,
   "metadata": {},
   "outputs": [],
   "source": [
    "model_1.compile(optimizer='adam',\n",
    "              loss=tf.keras.losses.SparseCategoricalCrossentropy(from_logits=True),\n",
    "              metrics=['accuracy'])"
   ]
  },
  {
   "cell_type": "markdown",
   "metadata": {},
   "source": [
    "#### Train model"
   ]
  },
  {
   "cell_type": "code",
   "execution_count": 14,
   "metadata": {},
   "outputs": [
    {
     "name": "stdout",
     "output_type": "stream",
     "text": [
      "Epoch 1/10\n",
      "1875/1875 [==============================] - 2s 717us/step - loss: 0.7801 - accuracy: 0.7394\n",
      "Epoch 2/10\n",
      "1875/1875 [==============================] - 1s 622us/step - loss: 0.4763 - accuracy: 0.8378\n",
      "Epoch 3/10\n",
      "1875/1875 [==============================] - 1s 610us/step - loss: 0.4316 - accuracy: 0.8526\n",
      "Epoch 4/10\n",
      "1875/1875 [==============================] - 1s 605us/step - loss: 0.4261 - accuracy: 0.8524\n",
      "Epoch 5/10\n",
      "1875/1875 [==============================] - 1s 644us/step - loss: 0.4107 - accuracy: 0.8583\n",
      "Epoch 6/10\n",
      "1875/1875 [==============================] - 1s 680us/step - loss: 0.4017 - accuracy: 0.8609\n",
      "Epoch 7/10\n",
      "1875/1875 [==============================] - 1s 626us/step - loss: 0.3978 - accuracy: 0.8621\n",
      "Epoch 8/10\n",
      "1875/1875 [==============================] - 1s 627us/step - loss: 0.4012 - accuracy: 0.8614\n",
      "Epoch 9/10\n",
      "1875/1875 [==============================] - 1s 604us/step - loss: 0.3944 - accuracy: 0.8623\n",
      "Epoch 10/10\n",
      "1875/1875 [==============================] - 1s 603us/step - loss: 0.3915 - accuracy: 0.8634\n"
     ]
    },
    {
     "data": {
      "text/plain": [
       "<tensorflow.python.keras.callbacks.History at 0x1a408d5a730>"
      ]
     },
     "execution_count": 14,
     "metadata": {},
     "output_type": "execute_result"
    }
   ],
   "source": [
    "model_1.fit(x_train, y_train, epochs=10)"
   ]
  },
  {
   "cell_type": "markdown",
   "metadata": {},
   "source": [
    "#### Accuracy on holdout set"
   ]
  },
  {
   "cell_type": "code",
   "execution_count": 15,
   "metadata": {},
   "outputs": [
    {
     "name": "stdout",
     "output_type": "stream",
     "text": [
      "\n",
      "Test accuracy: 0.8428000211715698\n"
     ]
    }
   ],
   "source": [
    "test_loss, test_acc = model_1.evaluate(x_test,  y_test, verbose=0)\n",
    "\n",
    "print('\\nTest accuracy:', test_acc)"
   ]
  },
  {
   "cell_type": "markdown",
   "metadata": {},
   "source": [
    "# Task 2 (9 parts)\n",
    "\n",
    "You will evaluate out of sample accuracy for several models and create a plot\n",
    "- For number of layers in 2, 3,4 (more if you like)\n",
    "- For number of units per layer in 10, 50, 200 (more if you like)\n",
    "    - Using *same* number of units for each layer\n",
    "\n",
    "The combination of choices for number of layers and number of units per layer gives you (at least) 9 models.\n",
    "\n",
    "- Evaluate the out of sample accuracy for each of the 9 models.\n",
    "- Present the results in a table (created by code)\n",
    "- Create a *single plot*\n",
    "    - Horizontal axis: number of units per layer\n",
    "    - Vertical axis: out of sample accuracy\n",
    "    - 3 traces in the plot, one for each choice of number of layers\n",
    "        - e.g., one line in the plot for L=2, another line in the plot for L=3, and another line for L=4\n"
   ]
  },
  {
   "cell_type": "markdown",
   "metadata": {},
   "source": [
    "#### Create models"
   ]
  },
  {
   "cell_type": "code",
   "execution_count": 16,
   "metadata": {},
   "outputs": [],
   "source": [
    "def create_model(n_layers,n_units):\n",
    "    \n",
    "    l=[tf.keras.layers.Flatten(input_shape=(28, 28))]\n",
    "    l+=[tf.keras.layers.Dense(n_units,activation='relu') for i in range(n_layers-1)]\n",
    "    l+=[tf.keras.layers.Dense(10)]\n",
    "    \n",
    "    model = tf.keras.Sequential(l)\n",
    "    \n",
    "    model.compile(optimizer='adam',\n",
    "              loss=tf.keras.losses.SparseCategoricalCrossentropy(from_logits=True),\n",
    "              metrics=['accuracy'])\n",
    "    \n",
    "    return model"
   ]
  },
  {
   "cell_type": "code",
   "execution_count": 17,
   "metadata": {},
   "outputs": [],
   "source": [
    "models=[]\n",
    "layers=[2,3,4]\n",
    "units=[10,50,200]\n",
    "\n",
    "for n_layers in layers:\n",
    "    for n_units in units:\n",
    "        model=create_model(n_layers,n_units)\n",
    "        models.append(model)"
   ]
  },
  {
   "cell_type": "markdown",
   "metadata": {},
   "source": [
    "#### Training"
   ]
  },
  {
   "cell_type": "code",
   "execution_count": 18,
   "metadata": {
    "scrolled": true
   },
   "outputs": [
    {
     "name": "stdout",
     "output_type": "stream",
     "text": [
      "Epoch 1/10\n",
      "1875/1875 [==============================] - 2s 781us/step - loss: 0.8833 - accuracy: 0.7244\n",
      "Epoch 2/10\n",
      "1875/1875 [==============================] - 1s 735us/step - loss: 0.4615 - accuracy: 0.8411\n",
      "Epoch 3/10\n",
      "1875/1875 [==============================] - 1s 704us/step - loss: 0.4308 - accuracy: 0.8514\n",
      "Epoch 4/10\n",
      "1875/1875 [==============================] - 1s 698us/step - loss: 0.4039 - accuracy: 0.8584\n",
      "Epoch 5/10\n",
      "1875/1875 [==============================] - 1s 667us/step - loss: 0.3926 - accuracy: 0.8614\n",
      "Epoch 6/10\n",
      "1875/1875 [==============================] - 1s 662us/step - loss: 0.3857 - accuracy: 0.8659\n",
      "Epoch 7/10\n",
      "1875/1875 [==============================] - 1s 658us/step - loss: 0.3801 - accuracy: 0.8667\n",
      "Epoch 8/10\n",
      "1875/1875 [==============================] - 1s 659us/step - loss: 0.3738 - accuracy: 0.8664\n",
      "Epoch 9/10\n",
      "1875/1875 [==============================] - 1s 683us/step - loss: 0.3768 - accuracy: 0.8683\n",
      "Epoch 10/10\n",
      "1875/1875 [==============================] - 1s 761us/step - loss: 0.3745 - accuracy: 0.8696\n",
      "Epoch 1/10\n",
      "1875/1875 [==============================] - 3s 983us/step - loss: 0.6710 - accuracy: 0.7705\n",
      "Epoch 2/10\n",
      "1875/1875 [==============================] - 2s 865us/step - loss: 0.4029 - accuracy: 0.8552\n",
      "Epoch 3/10\n",
      "1875/1875 [==============================] - 2s 915us/step - loss: 0.3621 - accuracy: 0.8675\n",
      "Epoch 4/10\n",
      "1875/1875 [==============================] - 2s 1ms/step - loss: 0.3306 - accuracy: 0.8784\n",
      "Epoch 5/10\n",
      "1875/1875 [==============================] - 2s 892us/step - loss: 0.3153 - accuracy: 0.8859\n",
      "Epoch 6/10\n",
      "1875/1875 [==============================] - 2s 845us/step - loss: 0.3018 - accuracy: 0.8891\n",
      "Epoch 7/10\n",
      "1875/1875 [==============================] - 2s 834us/step - loss: 0.2901 - accuracy: 0.8930\n",
      "Epoch 8/10\n",
      "1875/1875 [==============================] - 2s 839us/step - loss: 0.2805 - accuracy: 0.8976\n",
      "Epoch 9/10\n",
      "1875/1875 [==============================] - 2s 1ms/step - loss: 0.2740 - accuracy: 0.8982\n",
      "Epoch 10/10\n",
      "1875/1875 [==============================] - 2s 901us/step - loss: 0.2608 - accuracy: 0.9028\n",
      "Epoch 1/10\n",
      "1875/1875 [==============================] - 4s 2ms/step - loss: 0.6133 - accuracy: 0.7844\n",
      "Epoch 2/10\n",
      "1875/1875 [==============================] - 2s 1ms/step - loss: 0.3743 - accuracy: 0.8642\n",
      "Epoch 3/10\n",
      "1875/1875 [==============================] - 3s 2ms/step - loss: 0.3336 - accuracy: 0.8797\n",
      "Epoch 4/10\n",
      "1875/1875 [==============================] - 4s 2ms/step - loss: 0.3063 - accuracy: 0.8883: 0s - loss: 0.3063 - accuracy: 0.88\n",
      "Epoch 5/10\n",
      "1875/1875 [==============================] - 3s 1ms/step - loss: 0.2878 - accuracy: 0.8952\n",
      "Epoch 6/10\n",
      "1875/1875 [==============================] - 2s 1ms/step - loss: 0.2686 - accuracy: 0.9019\n",
      "Epoch 7/10\n",
      "1875/1875 [==============================] - 2s 1ms/step - loss: 0.2571 - accuracy: 0.9056\n",
      "Epoch 8/10\n",
      "1875/1875 [==============================] - 3s 1ms/step - loss: 0.2481 - accuracy: 0.9061\n",
      "Epoch 9/10\n",
      "1875/1875 [==============================] - 2s 1ms/step - loss: 0.2390 - accuracy: 0.9109\n",
      "Epoch 10/10\n",
      "1875/1875 [==============================] - 3s 1ms/step - loss: 0.2276 - accuracy: 0.9143\n",
      "Epoch 1/10\n",
      "1875/1875 [==============================] - 2s 801us/step - loss: 0.9970 - accuracy: 0.6568\n",
      "Epoch 2/10\n",
      "1875/1875 [==============================] - 2s 936us/step - loss: 0.4528 - accuracy: 0.8422\n",
      "Epoch 3/10\n",
      "1875/1875 [==============================] - 1s 746us/step - loss: 0.4294 - accuracy: 0.8492\n",
      "Epoch 4/10\n",
      "1875/1875 [==============================] - 1s 639us/step - loss: 0.3982 - accuracy: 0.8621\n",
      "Epoch 5/10\n",
      "1875/1875 [==============================] - 1s 635us/step - loss: 0.3957 - accuracy: 0.8644\n",
      "Epoch 6/10\n",
      "1875/1875 [==============================] - 1s 640us/step - loss: 0.3885 - accuracy: 0.8621\n",
      "Epoch 7/10\n",
      "1875/1875 [==============================] - 1s 631us/step - loss: 0.3827 - accuracy: 0.8645\n",
      "Epoch 8/10\n",
      "1875/1875 [==============================] - 1s 629us/step - loss: 0.3722 - accuracy: 0.8678\n",
      "Epoch 9/10\n",
      "1875/1875 [==============================] - 1s 646us/step - loss: 0.3709 - accuracy: 0.8681\n",
      "Epoch 10/10\n",
      "1875/1875 [==============================] - 1s 648us/step - loss: 0.3704 - accuracy: 0.8689\n",
      "Epoch 1/10\n",
      "1875/1875 [==============================] - 2s 904us/step - loss: 0.6810 - accuracy: 0.7646\n",
      "Epoch 2/10\n",
      "1875/1875 [==============================] - 2s 842us/step - loss: 0.4004 - accuracy: 0.8569\n",
      "Epoch 3/10\n",
      "1875/1875 [==============================] - 2s 864us/step - loss: 0.3527 - accuracy: 0.8724\n",
      "Epoch 4/10\n",
      "1875/1875 [==============================] - 2s 827us/step - loss: 0.3318 - accuracy: 0.8783\n",
      "Epoch 5/10\n",
      "1875/1875 [==============================] - 2s 831us/step - loss: 0.3128 - accuracy: 0.8844\n",
      "Epoch 6/10\n",
      "1875/1875 [==============================] - 2s 844us/step - loss: 0.3010 - accuracy: 0.8880\n",
      "Epoch 7/10\n",
      "1875/1875 [==============================] - 2s 872us/step - loss: 0.2918 - accuracy: 0.8920\n",
      "Epoch 8/10\n",
      "1875/1875 [==============================] - 2s 826us/step - loss: 0.2741 - accuracy: 0.8982\n",
      "Epoch 9/10\n",
      "1875/1875 [==============================] - 2s 826us/step - loss: 0.2679 - accuracy: 0.8998\n",
      "Epoch 10/10\n",
      "1875/1875 [==============================] - 2s 818us/step - loss: 0.2616 - accuracy: 0.9024\n",
      "Epoch 1/10\n",
      "1875/1875 [==============================] - 4s 2ms/step - loss: 0.6056 - accuracy: 0.7868\n",
      "Epoch 2/10\n",
      "1875/1875 [==============================] - 3s 2ms/step - loss: 0.3701 - accuracy: 0.8629\n",
      "Epoch 3/10\n",
      "1875/1875 [==============================] - 3s 2ms/step - loss: 0.3236 - accuracy: 0.8821\n",
      "Epoch 4/10\n",
      "1875/1875 [==============================] - 3s 2ms/step - loss: 0.3005 - accuracy: 0.8869\n",
      "Epoch 5/10\n",
      "1875/1875 [==============================] - 4s 2ms/step - loss: 0.2821 - accuracy: 0.8950\n",
      "Epoch 6/10\n",
      "1875/1875 [==============================] - 3s 2ms/step - loss: 0.2672 - accuracy: 0.9009\n",
      "Epoch 7/10\n",
      "1875/1875 [==============================] - 3s 2ms/step - loss: 0.2578 - accuracy: 0.9046\n",
      "Epoch 8/10\n",
      "1875/1875 [==============================] - 3s 2ms/step - loss: 0.2458 - accuracy: 0.9067\n",
      "Epoch 9/10\n",
      "1875/1875 [==============================] - 4s 2ms/step - loss: 0.2372 - accuracy: 0.9111\n",
      "Epoch 10/10\n",
      "1875/1875 [==============================] - 3s 2ms/step - loss: 0.2258 - accuracy: 0.9140\n",
      "Epoch 1/10\n",
      "1875/1875 [==============================] - 2s 773us/step - loss: 1.2636 - accuracy: 0.5444\n",
      "Epoch 2/10\n",
      "1875/1875 [==============================] - 1s 702us/step - loss: 0.5261 - accuracy: 0.8156\n",
      "Epoch 3/10\n",
      "1875/1875 [==============================] - 1s 689us/step - loss: 0.4776 - accuracy: 0.8342\n",
      "Epoch 4/10\n",
      "1875/1875 [==============================] - 1s 703us/step - loss: 0.4475 - accuracy: 0.8419\n",
      "Epoch 5/10\n",
      "1875/1875 [==============================] - 1s 682us/step - loss: 0.4364 - accuracy: 0.8469\n",
      "Epoch 6/10\n",
      "1875/1875 [==============================] - 1s 685us/step - loss: 0.4170 - accuracy: 0.8498\n",
      "Epoch 7/10\n",
      "1875/1875 [==============================] - 1s 681us/step - loss: 0.4063 - accuracy: 0.8544\n",
      "Epoch 8/10\n",
      "1875/1875 [==============================] - 1s 680us/step - loss: 0.3984 - accuracy: 0.8573\n",
      "Epoch 9/10\n",
      "1875/1875 [==============================] - 1s 684us/step - loss: 0.3892 - accuracy: 0.8605\n",
      "Epoch 10/10\n",
      "1875/1875 [==============================] - 1s 684us/step - loss: 0.3816 - accuracy: 0.8609\n",
      "Epoch 1/10\n",
      "1875/1875 [==============================] - 4s 983us/step - loss: 0.7258 - accuracy: 0.7408\n",
      "Epoch 2/10\n",
      "1875/1875 [==============================] - 3s 1ms/step - loss: 0.3995 - accuracy: 0.8525\n",
      "Epoch 3/10\n",
      "1875/1875 [==============================] - 2s 1ms/step - loss: 0.3578 - accuracy: 0.8696\n",
      "Epoch 4/10\n",
      "1875/1875 [==============================] - 2s 917us/step - loss: 0.3259 - accuracy: 0.8810\n",
      "Epoch 5/10\n",
      "1875/1875 [==============================] - 2s 915us/step - loss: 0.3154 - accuracy: 0.8825\n",
      "Epoch 6/10\n",
      "1875/1875 [==============================] - 2s 908us/step - loss: 0.3038 - accuracy: 0.8883\n",
      "Epoch 7/10\n",
      "1875/1875 [==============================] - 2s 919us/step - loss: 0.2856 - accuracy: 0.8928\n",
      "Epoch 8/10\n",
      "1875/1875 [==============================] - 2s 938us/step - loss: 0.2773 - accuracy: 0.89810s - loss: 0.2771 - accu\n",
      "Epoch 9/10\n"
     ]
    },
    {
     "name": "stdout",
     "output_type": "stream",
     "text": [
      "1875/1875 [==============================] - 2s 896us/step - loss: 0.2751 - accuracy: 0.8964\n",
      "Epoch 10/10\n",
      "1875/1875 [==============================] - 2s 983us/step - loss: 0.2596 - accuracy: 0.9035\n",
      "Epoch 1/10\n",
      "1875/1875 [==============================] - 4s 2ms/step - loss: 0.6083 - accuracy: 0.7805\n",
      "Epoch 2/10\n",
      "1875/1875 [==============================] - 4s 2ms/step - loss: 0.3667 - accuracy: 0.8633\n",
      "Epoch 3/10\n",
      "1875/1875 [==============================] - 4s 2ms/step - loss: 0.3295 - accuracy: 0.8773\n",
      "Epoch 4/10\n",
      "1875/1875 [==============================] - 4s 2ms/step - loss: 0.3037 - accuracy: 0.8875\n",
      "Epoch 5/10\n",
      "1875/1875 [==============================] - 4s 2ms/step - loss: 0.2836 - accuracy: 0.8929\n",
      "Epoch 6/10\n",
      "1875/1875 [==============================] - 5s 2ms/step - loss: 0.2701 - accuracy: 0.8991\n",
      "Epoch 7/10\n",
      "1875/1875 [==============================] - 4s 2ms/step - loss: 0.2535 - accuracy: 0.9046\n",
      "Epoch 8/10\n",
      "1875/1875 [==============================] - 4s 2ms/step - loss: 0.2449 - accuracy: 0.9074\n",
      "Epoch 9/10\n",
      "1875/1875 [==============================] - 4s 2ms/step - loss: 0.2345 - accuracy: 0.9104\n",
      "Epoch 10/10\n",
      "1875/1875 [==============================] - 4s 2ms/step - loss: 0.2298 - accuracy: 0.9124\n"
     ]
    }
   ],
   "source": [
    "for model in models:\n",
    "    model.fit(x_train, y_train, epochs=10)"
   ]
  },
  {
   "cell_type": "markdown",
   "metadata": {},
   "source": [
    "#### Accuracy on houldout set"
   ]
  },
  {
   "cell_type": "code",
   "execution_count": 19,
   "metadata": {},
   "outputs": [
    {
     "name": "stdout",
     "output_type": "stream",
     "text": [
      "313/313 [==============================] - 0s 548us/step - loss: 0.4275 - accuracy: 0.8504\n",
      "313/313 [==============================] - 0s 715us/step - loss: 0.3577 - accuracy: 0.8748\n",
      "313/313 [==============================] - 1s 1ms/step - loss: 0.3230 - accuracy: 0.8849\n",
      "313/313 [==============================] - 0s 779us/step - loss: 0.4392 - accuracy: 0.8471\n",
      "313/313 [==============================] - 0s 680us/step - loss: 0.3487 - accuracy: 0.8736\n",
      "313/313 [==============================] - 0s 805us/step - loss: 0.3251 - accuracy: 0.8838\n",
      "313/313 [==============================] - 0s 676us/step - loss: 0.4319 - accuracy: 0.8460\n",
      "313/313 [==============================] - 0s 603us/step - loss: 0.3571 - accuracy: 0.8708\n",
      "313/313 [==============================] - 1s 2ms/step - loss: 0.3511 - accuracy: 0.8823\n"
     ]
    }
   ],
   "source": [
    "test_accuracies=[]\n",
    "for model in models:\n",
    "    _,test_acc = model.evaluate(x_test,  y_test, verbose=1)\n",
    "    test_accuracies.append(test_acc)"
   ]
  },
  {
   "cell_type": "markdown",
   "metadata": {},
   "source": [
    "#### Plot"
   ]
  },
  {
   "cell_type": "code",
   "execution_count": 20,
   "metadata": {
    "scrolled": true
   },
   "outputs": [
    {
     "data": {
      "image/png": "[encoded data removed]",
      "text/plain": [
       "<Figure size 432x288 with 1 Axes>"
      ]
     },
     "metadata": {
      "needs_background": "light"
     },
     "output_type": "display_data"
    }
   ],
   "source": [
    "test_accuracies_l2=test_accuracies[:3]\n",
    "test_accuracies_l3=test_accuracies[3:6]\n",
    "test_accuracies_l4=test_accuracies[6:]\n",
    "\n",
    "plt.plot(units,test_accuracies_l2,label='L = 2')\n",
    "plt.plot(units,test_accuracies_l3,label='L = 3')\n",
    "plt.plot(units,test_accuracies_l4,label='L = 4')\n",
    "\n",
    "plt.xlabel('number of units per layer')\n",
    "plt.ylabel('out of sample accuracy')\n",
    "\n",
    "plt.legend()\n",
    "\n",
    "plt.show()\n"
   ]
  },
  {
   "cell_type": "markdown",
   "metadata": {},
   "source": [
    "#### Best model"
   ]
  },
  {
   "cell_type": "code",
   "execution_count": 21,
   "metadata": {},
   "outputs": [
    {
     "name": "stdout",
     "output_type": "stream",
     "text": [
      "Best accuracy : 0.8848999738693237\n",
      "Best model index: 2\n"
     ]
    }
   ],
   "source": [
    "print('Best accuracy : ' + str(np.max(test_accuracies)))\n",
    "print('Best model index: ' + str(np.argmax(test_accuracies)))"
   ]
  },
  {
   "cell_type": "markdown",
   "metadata": {},
   "source": [
    "### The best model is : 4 layers and 200 units"
   ]
  },
  {
   "cell_type": "markdown",
   "metadata": {},
   "source": [
    "#### Overfitting"
   ]
  },
  {
   "cell_type": "code",
   "execution_count": 22,
   "metadata": {},
   "outputs": [
    {
     "name": "stdout",
     "output_type": "stream",
     "text": [
      "1875/1875 [==============================] - 2s 958us/step - loss: 0.3618 - accuracy: 0.8734\n",
      "1875/1875 [==============================] - 2s 886us/step - loss: 0.2551 - accuracy: 0.9053\n",
      "1875/1875 [==============================] - 2s 1ms/step - loss: 0.2092 - accuracy: 0.9212\n",
      "1875/1875 [==============================] - 2s 829us/step - loss: 0.3742 - accuracy: 0.8666\n",
      "1875/1875 [==============================] - 2s 1ms/step - loss: 0.2507 - accuracy: 0.9064\n",
      "1875/1875 [==============================] - 4s 1ms/step - loss: 0.2080 - accuracy: 0.9187\n",
      "1875/1875 [==============================] - 2s 845us/step - loss: 0.3795 - accuracy: 0.8647\n",
      "1875/1875 [==============================] - 2s 897us/step - loss: 0.2542 - accuracy: 0.9026\n",
      "1875/1875 [==============================] - 3s 1ms/step - loss: 0.2187 - accuracy: 0.9174\n"
     ]
    }
   ],
   "source": [
    "train_accuracies=[]\n",
    "for model in models:\n",
    "    _,train_acc = model.evaluate(x_train,  y_train, verbose=1)\n",
    "    train_accuracies.append(train_acc)"
   ]
  },
  {
   "cell_type": "code",
   "execution_count": 23,
   "metadata": {},
   "outputs": [
    {
     "name": "stdout",
     "output_type": "stream",
     "text": [
      "The model using 2 layers and 10 units is overfitting because test accuracy is less than train accuracy\n",
      "The model using 2 layers and 50 units is overfitting because test accuracy is less than train accuracy\n",
      "The model using 2 layers and 200 units is overfitting because test accuracy is less than train accuracy\n",
      "The model using 3 layers and 10 units is overfitting because test accuracy is less than train accuracy\n",
      "The model using 3 layers and 50 units is overfitting because test accuracy is less than train accuracy\n",
      "The model using 3 layers and 200 units is overfitting because test accuracy is less than train accuracy\n",
      "The model using 4 layers and 10 units is overfitting because test accuracy is less than train accuracy\n",
      "The model using 4 layers and 50 units is overfitting because test accuracy is less than train accuracy\n",
      "The model using 4 layers and 200 units is overfitting because test accuracy is less than train accuracy\n"
     ]
    }
   ],
   "source": [
    "layers=[2,3,4]\n",
    "units=[10,50,200]\n",
    "i=0\n",
    "for n_layers in layers:\n",
    "    for n_units in units:\n",
    "        if train_accuracies[i] > test_accuracies[i]:\n",
    "            print('The model using {} layers and {} units is overfitting because test accuracy is less than train accuracy'.format(n_layers,n_units))\n",
    "    i+=1"
   ]
  },
  {
   "cell_type": "markdown",
   "metadata": {},
   "source": [
    "### We can see that all model are overfitting"
   ]
  },
  {
   "cell_type": "markdown",
   "metadata": {},
   "source": [
    "# Extra credit\n",
    "- Do a more extensive experiment\n",
    "    - More layers\n",
    "    - More choices for number of units per layer\n",
    "    - Vary number of units per layer\n",
    "        - Increase number of units with increasing layer number\n",
    "        - Decrease number of units with increasing layer number\n",
    "        - Find some other pattern for varying the number of units per layer\n",
    "- Comment on when your models are either overfitting or underfitting\n",
    "    - Use numeric justification\n",
    "    "
   ]
  },
  {
   "cell_type": "markdown",
   "metadata": {},
   "source": [
    "#### Create more models"
   ]
  },
  {
   "cell_type": "code",
   "execution_count": 24,
   "metadata": {},
   "outputs": [],
   "source": [
    "def create_more_models(n_layers,n_units,pattern='fixed'):\n",
    "    \n",
    "    if pattern == 'fixed':\n",
    "        \n",
    "        l=[tf.keras.layers.Flatten(input_shape=(28, 28))]\n",
    "        l+=[tf.keras.layers.Dense(n_units,activation='relu') for i in range(1,n_layers)]\n",
    "        l+=[tf.keras.layers.Dense(10)]\n",
    "\n",
    "        model = tf.keras.Sequential(l)\n",
    "\n",
    "        model.compile(optimizer='adam',\n",
    "                  loss=tf.keras.losses.SparseCategoricalCrossentropy(from_logits=True),\n",
    "                  metrics=['accuracy'])\n",
    "\n",
    "        return model\n",
    "    \n",
    "    elif pattern == 'increasing':\n",
    "        \n",
    "        base=10\n",
    "        \n",
    "        l=[tf.keras.layers.Flatten(input_shape=(28, 28))]\n",
    "        l+=[tf.keras.layers.Dense(base*i,activation='relu') for i in range(1,n_layers)]\n",
    "        l+=[tf.keras.layers.Dense(10)]\n",
    "\n",
    "        model = tf.keras.Sequential(l)\n",
    "\n",
    "        model.compile(optimizer='adam',\n",
    "                  loss=tf.keras.losses.SparseCategoricalCrossentropy(from_logits=True),\n",
    "                  metrics=['accuracy'])\n",
    "\n",
    "        return model\n",
    "    \n",
    "    elif pattern == 'decreasing':\n",
    "\n",
    "        base=100\n",
    "\n",
    "        l=[tf.keras.layers.Flatten(input_shape=(28, 28))]\n",
    "        l+=[tf.keras.layers.Dense(int(base/i),activation='relu') for i in range(1,n_layers)]\n",
    "        l+=[tf.keras.layers.Dense(10)]\n",
    "\n",
    "        model = tf.keras.Sequential(l)\n",
    "\n",
    "        model.compile(optimizer='adam',\n",
    "                  loss=tf.keras.losses.SparseCategoricalCrossentropy(from_logits=True),\n",
    "                  metrics=['accuracy'])\n",
    "\n",
    "        return model\n",
    "\n",
    "    elif pattern == 'custom':\n",
    "    \n",
    "        def custom(n):\n",
    "            if (n<n_layers//2):\n",
    "                return int(10*n)\n",
    "            else :\n",
    "                return int(100-10*n)\n",
    "    \n",
    "        l=[tf.keras.layers.Flatten(input_shape=(28, 28))]\n",
    "        l+=[tf.keras.layers.Dense(custom(i),activation='relu') for i in range(1,n_layers)]\n",
    "        l+=[tf.keras.layers.Dense(10)]\n",
    "\n",
    "        model = tf.keras.Sequential(l)\n",
    "\n",
    "        model.compile(optimizer='adam',\n",
    "                  loss=tf.keras.losses.SparseCategoricalCrossentropy(from_logits=True),\n",
    "                  metrics=['accuracy'])\n",
    "\n",
    "        return model\n",
    "    \n",
    "    else :\n",
    "        raise Exception('pleace select a valid pattern')"
   ]
  },
  {
   "cell_type": "code",
   "execution_count": 25,
   "metadata": {},
   "outputs": [],
   "source": [
    "extra_models=[]\n",
    "layers=[5,7,9]\n",
    "units=[100,200,300]\n",
    "patterns=['fixed','increasing','decreasing','custom']\n",
    "\n",
    "for n_layers in layers:\n",
    "    for n_units in units:\n",
    "        for pattern in patterns:\n",
    "            model=create_more_models(n_layers,n_units,pattern)\n",
    "            extra_models.append(model)"
   ]
  },
  {
   "cell_type": "markdown",
   "metadata": {},
   "source": [
    "#### Train more models"
   ]
  },
  {
   "cell_type": "code",
   "execution_count": null,
   "metadata": {},
   "outputs": [
    {
     "name": "stdout",
     "output_type": "stream",
     "text": [
      "Epoch 1/10\n",
      "1875/1875 [==============================] - 3s 1ms/step - loss: 0.6622 - accuracy: 0.7608\n",
      "Epoch 2/10\n",
      "1875/1875 [==============================] - 3s 1ms/step - loss: 0.3799 - accuracy: 0.8588\n",
      "Epoch 3/10\n",
      "1875/1875 [==============================] - 3s 1ms/step - loss: 0.3456 - accuracy: 0.8722\n",
      "Epoch 4/10\n",
      "1875/1875 [==============================] - 5s 2ms/step - loss: 0.3174 - accuracy: 0.8826\n",
      "Epoch 5/10\n",
      "1875/1875 [==============================] - 3s 1ms/step - loss: 0.3012 - accuracy: 0.8864\n",
      "Epoch 6/10\n",
      "1875/1875 [==============================] - 2s 1ms/step - loss: 0.2842 - accuracy: 0.8939\n",
      "Epoch 7/10\n",
      "1875/1875 [==============================] - 3s 1ms/step - loss: 0.2667 - accuracy: 0.9001\n",
      "Epoch 8/10\n",
      "1875/1875 [==============================] - 2s 1ms/step - loss: 0.2575 - accuracy: 0.9041\n",
      "Epoch 9/10\n",
      "1875/1875 [==============================] - 3s 2ms/step - loss: 0.2520 - accuracy: 0.9050\n",
      "Epoch 10/10\n",
      "1875/1875 [==============================] - 2s 1ms/step - loss: 0.2427 - accuracy: 0.9090\n",
      "Epoch 1/10\n",
      "1875/1875 [==============================] - 2s 844us/step - loss: 0.8730 - accuracy: 0.6773\n",
      "Epoch 2/10\n",
      "1875/1875 [==============================] - 1s 797us/step - loss: 0.4606 - accuracy: 0.8362\n",
      "Epoch 3/10\n",
      "1875/1875 [==============================] - 2s 816us/step - loss: 0.4265 - accuracy: 0.8477\n",
      "Epoch 4/10\n",
      "1875/1875 [==============================] - 2s 928us/step - loss: 0.3990 - accuracy: 0.8558\n",
      "Epoch 5/10\n",
      "1875/1875 [==============================] - 1s 788us/step - loss: 0.3859 - accuracy: 0.8608\n",
      "Epoch 6/10\n",
      "1875/1875 [==============================] - 2s 801us/step - loss: 0.3802 - accuracy: 0.8638\n",
      "Epoch 7/10\n",
      "1875/1875 [==============================] - 1s 719us/step - loss: 0.3692 - accuracy: 0.8650\n",
      "Epoch 8/10\n",
      "1875/1875 [==============================] - 1s 714us/step - loss: 0.3628 - accuracy: 0.8678\n",
      "Epoch 9/10\n",
      "1875/1875 [==============================] - 1s 742us/step - loss: 0.3535 - accuracy: 0.8705\n",
      "Epoch 10/10\n",
      "1875/1875 [==============================] - 2s 804us/step - loss: 0.3559 - accuracy: 0.8717\n",
      "Epoch 1/10\n",
      "1875/1875 [==============================] - 4s 2ms/step - loss: 0.7222 - accuracy: 0.7534\n",
      "Epoch 2/10\n",
      "1875/1875 [==============================] - 3s 2ms/step - loss: 0.3899 - accuracy: 0.8581\n",
      "Epoch 3/10\n",
      "1875/1875 [==============================] - 3s 2ms/step - loss: 0.3433 - accuracy: 0.8757\n",
      "Epoch 4/10\n",
      "1875/1875 [==============================] - 2s 1ms/step - loss: 0.3264 - accuracy: 0.8795\n",
      "Epoch 5/10\n",
      "1875/1875 [==============================] - 2s 1ms/step - loss: 0.3086 - accuracy: 0.8875\n",
      "Epoch 6/10\n",
      "1875/1875 [==============================] - 2s 1ms/step - loss: 0.2933 - accuracy: 0.8928\n",
      "Epoch 7/10\n",
      "1875/1875 [==============================] - 3s 2ms/step - loss: 0.2801 - accuracy: 0.8974\n",
      "Epoch 8/10\n",
      "1875/1875 [==============================] - 2s 1ms/step - loss: 0.2714 - accuracy: 0.8981\n",
      "Epoch 9/10\n",
      "1875/1875 [==============================] - 2s 1ms/step - loss: 0.2594 - accuracy: 0.9011\n",
      "Epoch 10/10\n",
      "1875/1875 [==============================] - 3s 1ms/step - loss: 0.2545 - accuracy: 0.9055\n",
      "Epoch 1/10\n",
      "1875/1875 [==============================] - 5s 915us/step - loss: 0.8052 - accuracy: 0.7051\n",
      "Epoch 2/10\n",
      "1875/1875 [==============================] - 2s 876us/step - loss: 0.4382 - accuracy: 0.8421\n",
      "Epoch 3/10\n",
      "1875/1875 [==============================] - 2s 915us/step - loss: 0.4061 - accuracy: 0.8529\n",
      "Epoch 4/10\n",
      "1875/1875 [==============================] - 2s 876us/step - loss: 0.3822 - accuracy: 0.8581\n",
      "Epoch 5/10\n",
      "1875/1875 [==============================] - 2s 860us/step - loss: 0.3667 - accuracy: 0.8641\n",
      "Epoch 6/10\n",
      "1875/1875 [==============================] - 2s 848us/step - loss: 0.3601 - accuracy: 0.8671\n",
      "Epoch 7/10\n",
      "1875/1875 [==============================] - 2s 865us/step - loss: 0.3459 - accuracy: 0.8737\n",
      "Epoch 8/10\n",
      "1875/1875 [==============================] - 2s 855us/step - loss: 0.3420 - accuracy: 0.8715\n",
      "Epoch 9/10\n",
      "1875/1875 [==============================] - 2s 854us/step - loss: 0.3310 - accuracy: 0.8769\n",
      "Epoch 10/10\n",
      "1875/1875 [==============================] - 2s 870us/step - loss: 0.3290 - accuracy: 0.8773\n",
      "Epoch 1/10\n",
      "1875/1875 [==============================] - 5s 2ms/step - loss: 0.6147 - accuracy: 0.7804\n",
      "Epoch 2/10\n",
      "1875/1875 [==============================] - 4s 2ms/step - loss: 0.3837 - accuracy: 0.8593\n",
      "Epoch 3/10\n",
      "1875/1875 [==============================] - 4s 2ms/step - loss: 0.3380 - accuracy: 0.8780\n",
      "Epoch 4/10\n",
      "1875/1875 [==============================] - 5s 3ms/step - loss: 0.3122 - accuracy: 0.8853\n",
      "Epoch 5/10\n",
      "1875/1875 [==============================] - 4s 2ms/step - loss: 0.2939 - accuracy: 0.8904\n",
      "Epoch 6/10\n",
      "1875/1875 [==============================] - 4s 2ms/step - loss: 0.2833 - accuracy: 0.8942\n",
      "Epoch 7/10\n",
      "1875/1875 [==============================] - 4s 2ms/step - loss: 0.2640 - accuracy: 0.9018\n",
      "Epoch 8/10\n",
      "1875/1875 [==============================] - 4s 2ms/step - loss: 0.2558 - accuracy: 0.9033\n",
      "Epoch 9/10\n",
      "1875/1875 [==============================] - 5s 2ms/step - loss: 0.2450 - accuracy: 0.9078\n",
      "Epoch 10/10\n",
      "1875/1875 [==============================] - 4s 2ms/step - loss: 0.2368 - accuracy: 0.9116\n",
      "Epoch 1/10\n",
      "1875/1875 [==============================] - 2s 872us/step - loss: 0.8949 - accuracy: 0.6692\n",
      "Epoch 2/10\n",
      "1875/1875 [==============================] - 1s 751us/step - loss: 0.4592 - accuracy: 0.8380\n",
      "Epoch 3/10\n",
      "1875/1875 [==============================] - 1s 744us/step - loss: 0.4151 - accuracy: 0.8502\n",
      "Epoch 4/10\n",
      "1875/1875 [==============================] - 1s 740us/step - loss: 0.3931 - accuracy: 0.8574\n",
      "Epoch 5/10\n",
      "1875/1875 [==============================] - 1s 733us/step - loss: 0.3773 - accuracy: 0.8645\n",
      "Epoch 6/10\n",
      "1875/1875 [==============================] - 1s 729us/step - loss: 0.3686 - accuracy: 0.8659\n",
      "Epoch 7/10\n",
      "1875/1875 [==============================] - 1s 731us/step - loss: 0.3521 - accuracy: 0.8701\n",
      "Epoch 8/10\n",
      "1875/1875 [==============================] - 1s 732us/step - loss: 0.3416 - accuracy: 0.8755\n",
      "Epoch 9/10\n",
      "1875/1875 [==============================] - 2s 866us/step - loss: 0.3391 - accuracy: 0.8734\n",
      "Epoch 10/10\n",
      "1875/1875 [==============================] - 1s 733us/step - loss: 0.3408 - accuracy: 0.8724\n",
      "Epoch 1/10\n",
      "1875/1875 [==============================] - 3s 1ms/step - loss: 0.7240 - accuracy: 0.7461\n",
      "Epoch 2/10\n",
      "1875/1875 [==============================] - 2s 1ms/step - loss: 0.3903 - accuracy: 0.8572\n",
      "Epoch 3/10\n",
      "1875/1875 [==============================] - 2s 1ms/step - loss: 0.3436 - accuracy: 0.8736\n",
      "Epoch 4/10\n",
      "1875/1875 [==============================] - 2s 1ms/step - loss: 0.3273 - accuracy: 0.8787\n",
      "Epoch 5/10\n",
      "1875/1875 [==============================] - 2s 1ms/step - loss: 0.3019 - accuracy: 0.8883\n",
      "Epoch 6/10\n",
      "1875/1875 [==============================] - 2s 1ms/step - loss: 0.2984 - accuracy: 0.8879\n",
      "Epoch 7/10\n",
      "1875/1875 [==============================] - 2s 1ms/step - loss: 0.2834 - accuracy: 0.8933\n",
      "Epoch 8/10\n",
      "1875/1875 [==============================] - 2s 1ms/step - loss: 0.2728 - accuracy: 0.8978\n",
      "Epoch 9/10\n",
      "1875/1875 [==============================] - 2s 1ms/step - loss: 0.2613 - accuracy: 0.9018\n",
      "Epoch 10/10\n",
      "1875/1875 [==============================] - 2s 1ms/step - loss: 0.2586 - accuracy: 0.9029\n",
      "Epoch 1/10\n",
      "1875/1875 [==============================] - 2s 803us/step - loss: 0.7885 - accuracy: 0.7144\n",
      "Epoch 2/10\n",
      "1875/1875 [==============================] - 1s 787us/step - loss: 0.4363 - accuracy: 0.8420\n",
      "Epoch 3/10\n",
      "1875/1875 [==============================] - 2s 826us/step - loss: 0.3976 - accuracy: 0.8542\n",
      "Epoch 4/10\n",
      "1875/1875 [==============================] - 1s 768us/step - loss: 0.3753 - accuracy: 0.8618\n",
      "Epoch 5/10\n",
      "1875/1875 [==============================] - 1s 777us/step - loss: 0.3526 - accuracy: 0.8698\n",
      "Epoch 6/10\n",
      "1875/1875 [==============================] - 1s 766us/step - loss: 0.3537 - accuracy: 0.8680\n",
      "Epoch 7/10\n",
      "1875/1875 [==============================] - 1s 764us/step - loss: 0.3439 - accuracy: 0.8702\n",
      "Epoch 8/10\n",
      "1875/1875 [==============================] - 1s 773us/step - loss: 0.3337 - accuracy: 0.8756\n",
      "Epoch 9/10\n",
      "1875/1875 [==============================] - 2s 818us/step - loss: 0.3220 - accuracy: 0.8801\n",
      "Epoch 10/10\n"
     ]
    },
    {
     "name": "stdout",
     "output_type": "stream",
     "text": [
      "1875/1875 [==============================] - 1s 772us/step - loss: 0.3187 - accuracy: 0.8823\n",
      "Epoch 1/10\n",
      "1875/1875 [==============================] - 8s 3ms/step - loss: 0.6230 - accuracy: 0.7734\n",
      "Epoch 2/10\n",
      "1875/1875 [==============================] - 6s 3ms/step - loss: 0.3804 - accuracy: 0.8606\n",
      "Epoch 3/10\n",
      "1875/1875 [==============================] - 6s 3ms/step - loss: 0.3392 - accuracy: 0.8749\n",
      "Epoch 4/10\n",
      "1875/1875 [==============================] - 6s 3ms/step - loss: 0.3101 - accuracy: 0.8869\n",
      "Epoch 5/10\n",
      "1875/1875 [==============================] - 6s 3ms/step - loss: 0.2952 - accuracy: 0.8910\n",
      "Epoch 6/10\n",
      "1875/1875 [==============================] - 6s 3ms/step - loss: 0.2742 - accuracy: 0.8971\n",
      "Epoch 7/10\n",
      "1875/1875 [==============================] - 6s 3ms/step - loss: 0.2637 - accuracy: 0.9014\n",
      "Epoch 8/10\n",
      "1875/1875 [==============================] - 6s 3ms/step - loss: 0.2555 - accuracy: 0.9033\n",
      "Epoch 9/10\n",
      "1875/1875 [==============================] - 6s 3ms/step - loss: 0.2425 - accuracy: 0.9069\n",
      "Epoch 10/10\n",
      "1875/1875 [==============================] - 6s 3ms/step - loss: 0.2346 - accuracy: 0.9118\n",
      "Epoch 1/10\n",
      "1875/1875 [==============================] - 2s 938us/step - loss: 0.8795 - accuracy: 0.6776\n",
      "Epoch 2/10\n",
      "1875/1875 [==============================] - 1s 731us/step - loss: 0.4497 - accuracy: 0.8376\n",
      "Epoch 3/10\n",
      "1875/1875 [==============================] - 1s 692us/step - loss: 0.4157 - accuracy: 0.8485\n",
      "Epoch 4/10\n",
      "1875/1875 [==============================] - 1s 694us/step - loss: 0.3933 - accuracy: 0.8566\n",
      "Epoch 5/10\n",
      "1875/1875 [==============================] - 1s 698us/step - loss: 0.3746 - accuracy: 0.8630\n",
      "Epoch 6/10\n",
      "1875/1875 [==============================] - 1s 724us/step - loss: 0.3621 - accuracy: 0.8686\n",
      "Epoch 7/10\n",
      "1875/1875 [==============================] - 1s 794us/step - loss: 0.3532 - accuracy: 0.8683\n",
      "Epoch 8/10\n",
      "1875/1875 [==============================] - 2s 842us/step - loss: 0.3453 - accuracy: 0.8713\n",
      "Epoch 9/10\n",
      "1875/1875 [==============================] - 2s 976us/step - loss: 0.3390 - accuracy: 0.8754\n",
      "Epoch 10/10\n",
      "1875/1875 [==============================] - 1s 706us/step - loss: 0.3394 - accuracy: 0.8748\n",
      "Epoch 1/10\n",
      "1875/1875 [==============================] - 3s 1ms/step - loss: 0.7424 - accuracy: 0.7340\n",
      "Epoch 2/10\n",
      "1875/1875 [==============================] - 2s 1ms/step - loss: 0.3958 - accuracy: 0.8581\n",
      "Epoch 3/10\n",
      "1875/1875 [==============================] - 2s 1ms/step - loss: 0.3532 - accuracy: 0.8711\n",
      "Epoch 4/10\n",
      "1875/1875 [==============================] - 2s 1ms/step - loss: 0.3254 - accuracy: 0.8801\n",
      "Epoch 5/10\n",
      "1875/1875 [==============================] - 2s 1ms/step - loss: 0.3095 - accuracy: 0.8846\n",
      "Epoch 6/10\n",
      "1875/1875 [==============================] - 2s 1ms/step - loss: 0.2913 - accuracy: 0.8919\n",
      "Epoch 7/10\n",
      "1875/1875 [==============================] - 2s 1ms/step - loss: 0.2835 - accuracy: 0.8931\n",
      "Epoch 8/10\n",
      "1875/1875 [==============================] - 2s 1ms/step - loss: 0.2748 - accuracy: 0.8987\n",
      "Epoch 9/10\n",
      "1875/1875 [==============================] - 2s 1ms/step - loss: 0.2624 - accuracy: 0.9028\n",
      "Epoch 10/10\n",
      "1875/1875 [==============================] - 2s 1ms/step - loss: 0.2523 - accuracy: 0.9070\n",
      "Epoch 1/10\n",
      "1875/1875 [==============================] - 2s 778us/step - loss: 0.7857 - accuracy: 0.7140\n",
      "Epoch 2/10\n",
      "1875/1875 [==============================] - 1s 765us/step - loss: 0.4276 - accuracy: 0.8451\n",
      "Epoch 3/10\n",
      "1875/1875 [==============================] - 2s 843us/step - loss: 0.3973 - accuracy: 0.8525\n",
      "Epoch 4/10\n",
      "1875/1875 [==============================] - 1s 768us/step - loss: 0.3772 - accuracy: 0.8625\n",
      "Epoch 5/10\n",
      "1875/1875 [==============================] - 1s 756us/step - loss: 0.3583 - accuracy: 0.8688\n",
      "Epoch 6/10\n",
      "1525/1875 [=======================>......] - ETA: 0s - loss: 0.3533 - accuracy: 0.8689"
     ]
    }
   ],
   "source": [
    "for model in extra_models:\n",
    "    model.fit(x_train, y_train, epochs=10)"
   ]
  },
  {
   "cell_type": "markdown",
   "metadata": {},
   "source": [
    "#### Accuracy on hold-out set"
   ]
  },
  {
   "cell_type": "code",
   "execution_count": null,
   "metadata": {},
   "outputs": [],
   "source": [
    "extra_test_accuracies=[]\n",
    "for model in extra_models:\n",
    "    _,test_acc = model.evaluate(x_test,  y_test, verbose=0)\n",
    "    extra_test_accuracies.append(test_acc)"
   ]
  },
  {
   "cell_type": "code",
   "execution_count": null,
   "metadata": {},
   "outputs": [],
   "source": [
    "print('Best accuracy : ' + str(np.max(extra_test_accuracies)))\n",
    "print('Best model index: ' + str(np.argmax(extra_test_accuracies)))"
   ]
  },
  {
   "cell_type": "markdown",
   "metadata": {},
   "source": [
    "### The best model is : 5 layers and 100 units (fixed). But the prevous best model has better accuracy."
   ]
  },
  {
   "cell_type": "markdown",
   "metadata": {},
   "source": [
    "#### Overfitting"
   ]
  },
  {
   "cell_type": "code",
   "execution_count": null,
   "metadata": {},
   "outputs": [],
   "source": [
    "extra_train_accuracies=[]\n",
    "for model in extra_models:\n",
    "    _,train_acc = model.evaluate(x_train,  y_train, verbose=0)\n",
    "    extra_train_accuracies.append(train_acc)"
   ]
  },
  {
   "cell_type": "code",
   "execution_count": null,
   "metadata": {},
   "outputs": [],
   "source": [
    "layers=[5,7,9]\n",
    "units=[100,200,300]\n",
    "patterns=['fixed','increasing','decreasing','custom']\n",
    "i=0\n",
    "for n_layers in layers:\n",
    "    for n_units in units:\n",
    "        for pattern in patterns:\n",
    "            if extra_train_accuracies[i] > extra_test_accuracies[i]:\n",
    "                print('The model using {} layers and {} units is overfitting because test accuracy is less than train accuracy'.format(n_layers,n_units))\n",
    "    i+=1"
   ]
  },
  {
   "cell_type": "markdown",
   "metadata": {},
   "source": [
    "### We can see that all model are overfitting"
   ]
  },
  {
   "cell_type": "markdown",
   "metadata": {},
   "source": [
    "# Last Cell"
   ]
  },
  {
   "cell_type": "code",
   "execution_count": null,
   "metadata": {},
   "outputs": [],
   "source": [
    "import os\n",
    "from tensorflow.keras.models import load_model\n",
    "\n",
    "modelName = \"assignment7_best_model\"\n",
    "model_path = os.path.join(\".\", modelName)   \n",
    "\n",
    "def saveModel(model, model_path): \n",
    "    try:\n",
    "        os.makedirs(model_path)\n",
    "    except OSError:\n",
    "        print(\"Directory {dir:s} already exists, files will be over-written.\".format(dir=model_path))\n",
    "        \n",
    "    # Save JSON config to disk\n",
    "    json_config = model.to_json()\n",
    "    with open(os.path.join(model_path, 'config.json'), 'w') as json_file:\n",
    "        json_file.write(json_config)\n",
    "    # Save weights to disk\n",
    "    model.save_weights(os.path.join(model_path, 'weights.h5'))\n",
    "    \n",
    "    print(\"Model saved in directory {dir:s}; create an archive of this directory and submit with your assignment.\".format(dir=model_path))\n",
    "    \n",
    "def loadModel(model_path):\n",
    "    # Reload the model from the 2 files we saved\n",
    "    with open(os.path.join(model_path, 'config.json')) as json_file:\n",
    "        json_config = json_file.read()\n",
    "    model = tf.keras.models.model_from_json(json_config)\n",
    "    model.load_weights(os.path.join(model_path, 'weights.h5'))\n",
    "    \n",
    "    return model\n",
    "\n",
    "def MyModel(x_test, y_test, model_path):\n",
    "    # YOU MAY NOT change model after this statement !\n",
    "    model = loadModel(model_path)\n",
    "    \n",
    "    # It should run model to create an array of predictions; we initialize it to the empty array for convenience\n",
    "    predictions = []\n",
    "    \n",
    "    predictions = np.argmax(model.predict(x_test), axis=-1)\n",
    "    \n",
    "    \n",
    "    return predictions\n",
    "\n",
    "# Assign to variable my_model the model that solves task 3.2\n",
    "my_model = models[8]\n",
    "\n",
    "saveModel(my_model, model_path)\n",
    "predicts = MyModel(x_test, y_test, model_path)"
   ]
  },
  {
   "cell_type": "code",
   "execution_count": null,
   "metadata": {},
   "outputs": [],
   "source": []
  }
 ],
 "metadata": {
  "kernelspec": {
   "display_name": "Python 3",
   "language": "python",
   "name": "python3"
  },
  "language_info": {
   "codemirror_mode": {
    "name": "ipython",
    "version": 3
   },
   "file_extension": ".py",
   "mimetype": "text/x-python",
   "name": "python",
   "nbconvert_exporter": "python",
   "pygments_lexer": "ipython3",
   "version": "3.8.5"
  },
  "toc": {
   "base_numbering": 1,
   "nav_menu": {},
   "number_sections": true,
   "sideBar": true,
   "skip_h1_title": false,
   "title_cell": "Table of Contents",
   "title_sidebar": "Contents",
   "toc_cell": false,
   "toc_position": {},
   "toc_section_display": true,
   "toc_window_display": false
  }
 },
 "nbformat": 4,
 "nbformat_minor": 2
}
