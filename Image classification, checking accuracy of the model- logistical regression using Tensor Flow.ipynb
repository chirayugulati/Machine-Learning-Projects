{
 "cells": [
  {
   "cell_type": "markdown",
   "metadata": {},
   "source": [
    "# Assignment 7\n",
    "\n",
    "\n",
    "You will demonstrate your ability to create and train Neural Network models.\n",
    "\n",
    "You will *only* use `Dense` layers."
   ]
  },
  {
   "cell_type": "markdown",
   "metadata": {},
   "source": [
    "# Objectives\n",
    "\n",
    "This is a \"doing\" rather than \"thinking\" assignment.\n",
    "\n",
    "Your goal is to checkpoint your skills to see if they are sufficient to create, train, and evaluate\n",
    "Neural Network models."
   ]
  },
  {
   "cell_type": "markdown",
   "metadata": {},
   "source": [
    "# Submission guidelines\n",
    "\n",
    "There are some specified tasks you must carry out, which involve playing around with a number of models.\n",
    "\n",
    "We want to be able to evaluate *your best model* on a holdout dataset.\n",
    "\n",
    "To faciliate this,\n",
    "in addition to providing your notebook, we will ask you to create the subroutine `MyModel`\n",
    "described below **and submit one additional file** to be described.\n",
    "\n",
    "You will choose your *best model* and using the code provided in the cell below, save the model to a file and **submit the file with your saved model** along with the notebook."
   ]
  },
  {
   "cell_type": "markdown",
   "metadata": {},
   "source": [
    "The code cell below **should be the last cell in your notebook**.\n",
    "\n",
    "The last cell:\n",
    "- defines a routine to save a \"model\" object to a file\n",
    "- defines a routine to load a model object from a file\n",
    "- asks you to save the model for one of the tasks\n",
    "- asks you to run `MyModel`\n",
    "\n",
    "`MyModel` takes as arguments\n",
    "- a test set: `x_test`, `y_test`\n",
    "- name of a file containing a model object for a specified task\n",
    "\n",
    "`MyModel` will load the file (i.e., restore the model) and run predictions on the test set.\n",
    "\n",
    "You will need to complete the body of the `MyModel` definition."
   ]
  },
  {
   "cell_type": "markdown",
   "metadata": {},
   "source": [
    "We will run `MyModel` in that cell in order to load your saved model and run it\n",
    "- We will not run any other cell in the notebook so if you need imports or anything else. put it there!  \n",
    "- We **will not** run cells that train your model: that would take too long)\n",
    "- If you need the holdout data to be transformed\n",
    "    - the transformations should be called from `MyModel`\n",
    "    - we will not run a cell to make the transformation happen"
   ]
  },
  {
   "cell_type": "markdown",
   "metadata": {},
   "source": [
    "# HINT\n",
    "**This is literally a give-away:** https://www.tensorflow.org/tutorials/keras/classification"
   ]
  },
  {
   "cell_type": "markdown",
   "metadata": {},
   "source": [
    "## Additional submission\n",
    "\n",
    "In addition to your notebook, please also submit the file whose name is stored in `model_path`.\n",
    "\n",
    "**DO NOT** rename the file!\n"
   ]
  },
  {
   "cell_type": "markdown",
   "metadata": {},
   "source": [
    "Here is the cell **that must appear as the last cell in your notebook**"
   ]
  },
  {
   "cell_type": "markdown",
   "metadata": {},
   "source": [
    "# The problem\n",
    "\n",
    "You will create several Neural Networks to solve a classification problem that is a slight variant\n",
    "of the MNIST digit classification problem.\n",
    "\n",
    "The assignment really involves little more than playing around with that example.\n",
    "\n",
    "The objective is to ensure that you are able to write and run simple programs using Keras."
   ]
  },
  {
   "cell_type": "markdown",
   "metadata": {},
   "source": [
    "# The Data\n",
    "\n",
    "The dataset is called Fashion MNIST.\n",
    "\n",
    "Rather than classifying images into one of ten digits,\n",
    "you will classify images of clothing items into one of ten classes.\n",
    "\n",
    "Here's the code to get the data."
   ]
  },
  {
   "cell_type": "code",
   "execution_count": 7,
   "metadata": {},
   "outputs": [],
   "source": [
    "from tensorflow.keras.datasets import mnist, fashion_mnist, cifar10\n",
    "import matplotlib.pyplot as plt\n",
    "\n",
    "(x_train, y_train), (x_test, y_test) = fashion_mnist.load_data()\n"
   ]
  },
  {
   "cell_type": "markdown",
   "metadata": {
    "id": "Brm0b_KACaWX"
   },
   "source": [
    "## Data exploration\n",
    "\n",
    "Let's explore the format of the dataset before training the model. The following shows there are 60,000 images in the training set, with each image represented as 28 x 28 pixels:"
   ]
  },
  {
   "cell_type": "code",
   "execution_count": 8,
   "metadata": {
    "execution": {
     "iopub.execute_input": "2020-10-15T01:28:55.934510Z",
     "iopub.status.busy": "2020-10-15T01:28:55.933579Z",
     "iopub.status.idle": "2020-10-15T01:28:55.937673Z",
     "shell.execute_reply": "2020-10-15T01:28:55.938105Z"
    },
    "id": "zW5k_xz1CaWX"
   },
   "outputs": [
    {
     "data": {
      "text/plain": [
       "(60000, 28, 28)"
      ]
     },
     "execution_count": 8,
     "metadata": {},
     "output_type": "execute_result"
    }
   ],
   "source": [
    "x_train.shape"
   ]
  },
  {
   "cell_type": "markdown",
   "metadata": {
    "id": "cIAcvQqMCaWf"
   },
   "source": [
    "Likewise, there are 60,000 labels in the training set:"
   ]
  },
  {
   "cell_type": "code",
   "execution_count": 9,
   "metadata": {
    "execution": {
     "iopub.execute_input": "2020-10-15T01:28:55.942785Z",
     "iopub.status.busy": "2020-10-15T01:28:55.941935Z",
     "iopub.status.idle": "2020-10-15T01:28:55.945134Z",
     "shell.execute_reply": "2020-10-15T01:28:55.945674Z"
    },
    "id": "TRFYHB2mCaWb"
   },
   "outputs": [
    {
     "data": {
      "text/plain": [
       "60000"
      ]
     },
     "execution_count": 9,
     "metadata": {},
     "output_type": "execute_result"
    }
   ],
   "source": [
    "len(y_train)"
   ]
  },
  {
   "cell_type": "markdown",
   "metadata": {
    "id": "YSlYxFuRCaWk"
   },
   "source": [
    "Labels are between 0 and 9 to designate a type of item :"
   ]
  },
  {
   "cell_type": "code",
   "execution_count": 10,
   "metadata": {
    "execution": {
     "iopub.execute_input": "2020-10-15T01:28:55.950046Z",
     "iopub.status.busy": "2020-10-15T01:28:55.949289Z",
     "iopub.status.idle": "2020-10-15T01:28:55.952794Z",
     "shell.execute_reply": "2020-10-15T01:28:55.952207Z"
    },
    "id": "XKnCTHz4CaWg"
   },
   "outputs": [
    {
     "data": {
      "text/plain": [
       "array([9, 0, 0, ..., 3, 0, 5], dtype=uint8)"
      ]
     },
     "execution_count": 10,
     "metadata": {},
     "output_type": "execute_result"
    }
   ],
   "source": [
    "y_train"
   ]
  },
  {
   "cell_type": "markdown",
   "metadata": {
    "id": "TMPI88iZpO2T"
   },
   "source": [
    "There are 10,000 images in the test set. Again, each image is represented as 28 x 28 pixels:"
   ]
  },
  {
   "cell_type": "code",
   "execution_count": 11,
   "metadata": {
    "execution": {
     "iopub.execute_input": "2020-10-15T01:28:55.957082Z",
     "iopub.status.busy": "2020-10-15T01:28:55.956303Z",
     "iopub.status.idle": "2020-10-15T01:28:55.959375Z",
     "shell.execute_reply": "2020-10-15T01:28:55.959771Z"
    },
    "id": "2KFnYlcwCaWl"
   },
   "outputs": [
    {
     "data": {
      "text/plain": [
       "(10000, 28, 28)"
      ]
     },
     "execution_count": 11,
     "metadata": {},
     "output_type": "execute_result"
    }
   ],
   "source": [
    "x_test.shape"
   ]
  },
  {
   "cell_type": "markdown",
   "metadata": {
    "id": "ES6uQoLKCaWr"
   },
   "source": [
    "## Preprocess the data\n",
    "\n",
    "Data have value between 0 and 255.\n",
    "We rescale them to values between 0 and 1."
   ]
  },
  {
   "cell_type": "code",
   "execution_count": 12,
   "metadata": {
    "execution": {
     "iopub.execute_input": "2020-10-15T01:28:55.984523Z",
     "iopub.status.busy": "2020-10-15T01:28:55.983443Z",
     "iopub.status.idle": "2020-10-15T01:28:56.147713Z",
     "shell.execute_reply": "2020-10-15T01:28:56.147090Z"
    },
    "id": "m4VEw8Ud9Quh"
   },
   "outputs": [
    {
     "data": {
      "image/png": "[encoded data removed]",
      "text/plain": [
       "<Figure size 432x288 with 2 Axes>"
      ]
     },
     "metadata": {
      "needs_background": "light"
     },
     "output_type": "display_data"
    }
   ],
   "source": [
    "plt.figure()\n",
    "plt.imshow(x_train[0])\n",
    "plt.colorbar()\n",
    "plt.grid(False)\n",
    "plt.show()"
   ]
  },
  {
   "cell_type": "code",
   "execution_count": 13,
   "metadata": {
    "execution": {
     "iopub.execute_input": "2020-10-15T01:28:56.152920Z",
     "iopub.status.busy": "2020-10-15T01:28:56.151644Z",
     "iopub.status.idle": "2020-10-15T01:28:56.309548Z",
     "shell.execute_reply": "2020-10-15T01:28:56.310021Z"
    },
    "id": "bW5WzIPlCaWv"
   },
   "outputs": [],
   "source": [
    "x_train = x_train / 255.0\n",
    "\n",
    "x_test = x_test / 255.0"
   ]
  },
  {
   "cell_type": "markdown",
   "metadata": {},
   "source": [
    "We can see now that the values are rescaled :"
   ]
  },
  {
   "cell_type": "code",
   "execution_count": 14,
   "metadata": {
    "execution": {
     "iopub.execute_input": "2020-10-15T01:28:55.984523Z",
     "iopub.status.busy": "2020-10-15T01:28:55.983443Z",
     "iopub.status.idle": "2020-10-15T01:28:56.147713Z",
     "shell.execute_reply": "2020-10-15T01:28:56.147090Z"
    },
    "id": "m4VEw8Ud9Quh"
   },
   "outputs": [
    {
     "data": {
      "image/png": "[encoded data removed]",
      "text/plain": [
       "<Figure size 432x288 with 2 Axes>"
      ]
     },
     "metadata": {
      "needs_background": "light"
     },
     "output_type": "display_data"
    }
   ],
   "source": [
    "plt.figure()\n",
    "plt.imshow(x_train[0])\n",
    "plt.colorbar()\n",
    "plt.grid(False)\n",
    "plt.show()"
   ]
  },
  {
   "cell_type": "markdown",
   "metadata": {
    "id": "Ee638AlnCaWz"
   },
   "source": [
    "To verify that the data is in the correct format and that you're ready to build and train the network, let's display the first 25 images from the *training set* and display the class name below each image."
   ]
  },
  {
   "cell_type": "code",
   "execution_count": 13,
   "metadata": {
    "execution": {
     "iopub.execute_input": "2020-10-15T01:28:56.350855Z",
     "iopub.status.busy": "2020-10-15T01:28:56.327945Z",
     "iopub.status.idle": "2020-10-15T01:28:57.224132Z",
     "shell.execute_reply": "2020-10-15T01:28:57.224604Z"
    },
    "id": "oZTImqg_CaW1",
    "scrolled": false
   },
   "outputs": [
    {
     "data": {
      "image/png": "[encoded data removed]",
      "text/plain": [
       "<Figure size 720x720 with 25 Axes>"
      ]
     },
     "metadata": {},
     "output_type": "display_data"
    }
   ],
   "source": [
    "plt.figure(figsize=(10,10))\n",
    "for i in range(25):\n",
    "    plt.subplot(5,5,i+1)\n",
    "    plt.xticks([])\n",
    "    plt.yticks([])\n",
    "    plt.grid(False)\n",
    "    plt.imshow(x_train[i], cmap=plt.cm.binary)\n",
    "    plt.xlabel(class_names[y_train[i]])\n",
    "plt.show()"
   ]
  },
  {
   "cell_type": "markdown",
   "metadata": {},
   "source": [
    "# Tasks\n",
    "\n",
    "For each task\n",
    "- create the Neural Network as specified\n",
    "- train it on the training data set\n",
    "- evaluate it on the test data set\n"
   ]
  },
  {
   "cell_type": "markdown",
   "metadata": {},
   "source": [
    "## Task 1\n",
    "\n",
    "Create a one layer Neural Network to perform classification (e.g., logistic regression) as we demonstrated in class.\n",
    "\n",
    "No layers other than the one for classification."
   ]
  },
  {
   "cell_type": "markdown",
   "metadata": {},
   "source": [
    "#### Imports"
   ]
  },
  {
   "cell_type": "code",
   "execution_count": 29,
   "metadata": {},
   "outputs": [],
   "source": [
    "import tensorflow as tf\n",
    "import matplotlib.pyplot as plt\n",
    "import numpy as np"
   ]
  },
  {
   "cell_type": "markdown",
   "metadata": {},
   "source": [
    "#### Create model"
   ]
  },
  {
   "cell_type": "code",
   "execution_count": 8,
   "metadata": {},
   "outputs": [],
   "source": [
    "model_1 = tf.keras.Sequential([\n",
    "    tf.keras.layers.Flatten(input_shape=(28, 28)),\n",
    "    tf.keras.layers.Dense(10,activation='sigmoid')\n",
    "])"
   ]
  },
  {
   "cell_type": "code",
   "execution_count": 9,
   "metadata": {},
   "outputs": [],
   "source": [
    "model_1.compile(optimizer='adam',\n",
    "              loss=tf.keras.losses.SparseCategoricalCrossentropy(from_logits=True),\n",
    "              metrics=['accuracy'])"
   ]
  },
  {
   "cell_type": "markdown",
   "metadata": {},
   "source": [
    "#### Train model"
   ]
  },
  {
   "cell_type": "code",
   "execution_count": 10,
   "metadata": {},
   "outputs": [
    {
     "name": "stdout",
     "output_type": "stream",
     "text": [
      "Epoch 1/10\n",
      "1875/1875 [==============================] - 1s 466us/step - loss: 0.7689 - accuracy: 0.7465\n",
      "Epoch 2/10\n",
      "1875/1875 [==============================] - 1s 469us/step - loss: 0.4690 - accuracy: 0.8399\n",
      "Epoch 3/10\n",
      "1875/1875 [==============================] - 1s 460us/step - loss: 0.4324 - accuracy: 0.8532\n",
      "Epoch 4/10\n",
      "1875/1875 [==============================] - 1s 503us/step - loss: 0.4210 - accuracy: 0.8556\n",
      "Epoch 5/10\n",
      "1875/1875 [==============================] - 1s 461us/step - loss: 0.4208 - accuracy: 0.8569\n",
      "Epoch 6/10\n",
      "1875/1875 [==============================] - 1s 460us/step - loss: 0.4083 - accuracy: 0.8585\n",
      "Epoch 7/10\n",
      "1875/1875 [==============================] - 1s 449us/step - loss: 0.3969 - accuracy: 0.8609\n",
      "Epoch 8/10\n",
      "1875/1875 [==============================] - 1s 452us/step - loss: 0.3945 - accuracy: 0.8647\n",
      "Epoch 9/10\n",
      "1875/1875 [==============================] - 1s 448us/step - loss: 0.3929 - accuracy: 0.8641\n",
      "Epoch 10/10\n",
      "1875/1875 [==============================] - 1s 455us/step - loss: 0.3890 - accuracy: 0.8652\n"
     ]
    },
    {
     "data": {
      "text/plain": [
       "<tensorflow.python.keras.callbacks.History at 0x7f62a1e3a6a0>"
      ]
     },
     "execution_count": 10,
     "metadata": {},
     "output_type": "execute_result"
    }
   ],
   "source": [
    "model_1.fit(x_train, y_train, epochs=10)"
   ]
  },
  {
   "cell_type": "markdown",
   "metadata": {},
   "source": [
    "#### Accuracy on holdout set"
   ]
  },
  {
   "cell_type": "code",
   "execution_count": 11,
   "metadata": {},
   "outputs": [
    {
     "name": "stdout",
     "output_type": "stream",
     "text": [
      "\n",
      "Test accuracy: 0.8440999984741211\n"
     ]
    }
   ],
   "source": [
    "test_loss, test_acc = model_1.evaluate(x_test,  y_test, verbose=0)\n",
    "\n",
    "print('\\nTest accuracy:', test_acc)"
   ]
  },
  {
   "cell_type": "markdown",
   "metadata": {},
   "source": [
    "# Task 2 (9 parts)\n",
    "\n",
    "You will evaluate out of sample accuracy for several models and create a plot\n",
    "- For number of layers in 2, 3,4 (more if you like)\n",
    "- For number of units per layer in 10, 50, 200 (more if you like)\n",
    "    - Using *same* number of units for each layer\n",
    "\n",
    "The combination of choices for number of layers and number of units per layer gives you (at least) 9 models.\n",
    "\n",
    "- Evaluate the out of sample accuracy for each of the 9 models.\n",
    "- Present the results in a table (created by code)\n",
    "- Create a *single plot*\n",
    "    - Horizontal axis: number of units per layer\n",
    "    - Vertical axis: out of sample accuracy\n",
    "    - 3 traces in the plot, one for each choice of number of layers\n",
    "        - e.g., one line in the plot for L=2, another line in the plot for L=3, and another line for L=4\n"
   ]
  },
  {
   "cell_type": "markdown",
   "metadata": {},
   "source": [
    "#### Create models"
   ]
  },
  {
   "cell_type": "code",
   "execution_count": 12,
   "metadata": {},
   "outputs": [],
   "source": [
    "def create_model(n_layers,n_units):\n",
    "    \n",
    "    l=[tf.keras.layers.Flatten(input_shape=(28, 28))]\n",
    "    l+=[tf.keras.layers.Dense(n_units,activation='relu') for i in range(n_layers-1)]\n",
    "    l+=[tf.keras.layers.Dense(10)]\n",
    "    \n",
    "    model = tf.keras.Sequential(l)\n",
    "    \n",
    "    model.compile(optimizer='adam',\n",
    "              loss=tf.keras.losses.SparseCategoricalCrossentropy(from_logits=True),\n",
    "              metrics=['accuracy'])\n",
    "    \n",
    "    return model"
   ]
  },
  {
   "cell_type": "code",
   "execution_count": 50,
   "metadata": {},
   "outputs": [],
   "source": [
    "models=[]\n",
    "layers=[2,3,4]\n",
    "units=[10,50,200]\n",
    "\n",
    "for n_layers in layers:\n",
    "    for n_units in units:\n",
    "        model=create_model(n_layers,n_units)\n",
    "        models.append(model)"
   ]
  },
  {
   "cell_type": "markdown",
   "metadata": {},
   "source": [
    "#### Training"
   ]
  },
  {
   "cell_type": "code",
   "execution_count": 51,
   "metadata": {
    "scrolled": true
   },
   "outputs": [
    {
     "name": "stdout",
     "output_type": "stream",
     "text": [
      "Epoch 1/10\n",
      "1875/1875 [==============================] - 1s 494us/step - loss: 0.9352 - accuracy: 0.6689\n",
      "Epoch 2/10\n",
      "1875/1875 [==============================] - 1s 487us/step - loss: 0.4956 - accuracy: 0.8276\n",
      "Epoch 3/10\n",
      "1875/1875 [==============================] - 1s 482us/step - loss: 0.4413 - accuracy: 0.8457\n",
      "Epoch 4/10\n",
      "1875/1875 [==============================] - 1s 490us/step - loss: 0.4280 - accuracy: 0.8510\n",
      "Epoch 5/10\n",
      "1875/1875 [==============================] - 1s 513us/step - loss: 0.4156 - accuracy: 0.8541\n",
      "Epoch 6/10\n",
      "1875/1875 [==============================] - 1s 539us/step - loss: 0.4046 - accuracy: 0.8567\n",
      "Epoch 7/10\n",
      "1875/1875 [==============================] - 1s 502us/step - loss: 0.3961 - accuracy: 0.8609\n",
      "Epoch 8/10\n",
      "1875/1875 [==============================] - 1s 483us/step - loss: 0.3894 - accuracy: 0.8605\n",
      "Epoch 9/10\n",
      "1875/1875 [==============================] - 1s 501us/step - loss: 0.3823 - accuracy: 0.8643\n",
      "Epoch 10/10\n",
      "1875/1875 [==============================] - 1s 514us/step - loss: 0.3824 - accuracy: 0.8651\n",
      "Epoch 1/10\n",
      "1875/1875 [==============================] - 1s 561us/step - loss: 0.6832 - accuracy: 0.7675\n",
      "Epoch 2/10\n",
      "1875/1875 [==============================] - 1s 571us/step - loss: 0.4098 - accuracy: 0.8544\n",
      "Epoch 3/10\n",
      "1875/1875 [==============================] - 1s 560us/step - loss: 0.3727 - accuracy: 0.8663\n",
      "Epoch 4/10\n",
      "1875/1875 [==============================] - 1s 540us/step - loss: 0.3390 - accuracy: 0.8777\n",
      "Epoch 5/10\n",
      "1875/1875 [==============================] - 1s 543us/step - loss: 0.3271 - accuracy: 0.8820\n",
      "Epoch 6/10\n",
      "1875/1875 [==============================] - 1s 563us/step - loss: 0.3094 - accuracy: 0.8893\n",
      "Epoch 7/10\n",
      "1875/1875 [==============================] - 1s 561us/step - loss: 0.3041 - accuracy: 0.8899\n",
      "Epoch 8/10\n",
      "1875/1875 [==============================] - 1s 559us/step - loss: 0.2868 - accuracy: 0.8962\n",
      "Epoch 9/10\n",
      "1875/1875 [==============================] - 1s 576us/step - loss: 0.2820 - accuracy: 0.8962\n",
      "Epoch 10/10\n",
      "1875/1875 [==============================] - 1s 554us/step - loss: 0.2772 - accuracy: 0.8982\n",
      "Epoch 1/10\n",
      "1875/1875 [==============================] - 2s 749us/step - loss: 0.6083 - accuracy: 0.7851\n",
      "Epoch 2/10\n",
      "1875/1875 [==============================] - 1s 796us/step - loss: 0.3695 - accuracy: 0.8676\n",
      "Epoch 3/10\n",
      "1875/1875 [==============================] - 2s 800us/step - loss: 0.3366 - accuracy: 0.8765\n",
      "Epoch 4/10\n",
      "1875/1875 [==============================] - 2s 859us/step - loss: 0.3080 - accuracy: 0.8877\n",
      "Epoch 5/10\n",
      "1875/1875 [==============================] - 1s 790us/step - loss: 0.2872 - accuracy: 0.8958\n",
      "Epoch 6/10\n",
      "1875/1875 [==============================] - 1s 786us/step - loss: 0.2661 - accuracy: 0.9015\n",
      "Epoch 7/10\n",
      "1875/1875 [==============================] - 1s 772us/step - loss: 0.2628 - accuracy: 0.9017\n",
      "Epoch 8/10\n",
      "1875/1875 [==============================] - 2s 831us/step - loss: 0.2454 - accuracy: 0.9077\n",
      "Epoch 9/10\n",
      "1875/1875 [==============================] - 1s 741us/step - loss: 0.2355 - accuracy: 0.9109\n",
      "Epoch 10/10\n",
      "1875/1875 [==============================] - 1s 786us/step - loss: 0.2322 - accuracy: 0.9118\n",
      "Epoch 1/10\n",
      "1875/1875 [==============================] - 1s 493us/step - loss: 1.1321 - accuracy: 0.5865\n",
      "Epoch 2/10\n",
      "1875/1875 [==============================] - 1s 491us/step - loss: 0.4880 - accuracy: 0.8271\n",
      "Epoch 3/10\n",
      "1875/1875 [==============================] - 1s 490us/step - loss: 0.4469 - accuracy: 0.8389\n",
      "Epoch 4/10\n",
      "1875/1875 [==============================] - 1s 495us/step - loss: 0.4181 - accuracy: 0.8504\n",
      "Epoch 5/10\n",
      "1875/1875 [==============================] - 1s 505us/step - loss: 0.4067 - accuracy: 0.8545\n",
      "Epoch 6/10\n",
      "1875/1875 [==============================] - 1s 506us/step - loss: 0.3954 - accuracy: 0.8581\n",
      "Epoch 7/10\n",
      "1875/1875 [==============================] - 1s 500us/step - loss: 0.3888 - accuracy: 0.8594\n",
      "Epoch 8/10\n",
      "1875/1875 [==============================] - 1s 491us/step - loss: 0.3829 - accuracy: 0.8642\n",
      "Epoch 9/10\n",
      "1875/1875 [==============================] - 1s 512us/step - loss: 0.3804 - accuracy: 0.8630\n",
      "Epoch 10/10\n",
      "1875/1875 [==============================] - 1s 518us/step - loss: 0.3781 - accuracy: 0.8641\n",
      "Epoch 1/10\n",
      "1875/1875 [==============================] - 1s 602us/step - loss: 0.6851 - accuracy: 0.7628\n",
      "Epoch 2/10\n",
      "1875/1875 [==============================] - 1s 585us/step - loss: 0.3953 - accuracy: 0.8574\n",
      "Epoch 3/10\n",
      "1875/1875 [==============================] - 1s 705us/step - loss: 0.3525 - accuracy: 0.8724\n",
      "Epoch 4/10\n",
      "1875/1875 [==============================] - 1s 713us/step - loss: 0.3286 - accuracy: 0.8807\n",
      "Epoch 5/10\n",
      "1875/1875 [==============================] - 1s 621us/step - loss: 0.3127 - accuracy: 0.8850\n",
      "Epoch 6/10\n",
      "1875/1875 [==============================] - 1s 624us/step - loss: 0.2991 - accuracy: 0.8901\n",
      "Epoch 7/10\n",
      "1875/1875 [==============================] - 1s 621us/step - loss: 0.2885 - accuracy: 0.8933\n",
      "Epoch 8/10\n",
      "1875/1875 [==============================] - 1s 592us/step - loss: 0.2701 - accuracy: 0.9006\n",
      "Epoch 9/10\n",
      "1875/1875 [==============================] - 1s 621us/step - loss: 0.2697 - accuracy: 0.8985\n",
      "Epoch 10/10\n",
      "1875/1875 [==============================] - 1s 594us/step - loss: 0.2611 - accuracy: 0.9018\n",
      "Epoch 1/10\n",
      "1875/1875 [==============================] - 2s 1ms/step - loss: 0.6055 - accuracy: 0.7881\n",
      "Epoch 2/10\n",
      "1875/1875 [==============================] - 2s 1ms/step - loss: 0.3669 - accuracy: 0.8654\n",
      "Epoch 3/10\n",
      "1875/1875 [==============================] - 2s 1ms/step - loss: 0.3232 - accuracy: 0.8788\n",
      "Epoch 4/10\n",
      "1875/1875 [==============================] - 2s 974us/step - loss: 0.2950 - accuracy: 0.8910\n",
      "Epoch 5/10\n",
      "1875/1875 [==============================] - 2s 1ms/step - loss: 0.2793 - accuracy: 0.8949\n",
      "Epoch 6/10\n",
      "1875/1875 [==============================] - 2s 1ms/step - loss: 0.2664 - accuracy: 0.8990\n",
      "Epoch 7/10\n",
      "1875/1875 [==============================] - 2s 1ms/step - loss: 0.2558 - accuracy: 0.9024\n",
      "Epoch 8/10\n",
      "1875/1875 [==============================] - 2s 1ms/step - loss: 0.2401 - accuracy: 0.9080\n",
      "Epoch 9/10\n",
      "1875/1875 [==============================] - 2s 1ms/step - loss: 0.2318 - accuracy: 0.9125\n",
      "Epoch 10/10\n",
      "1875/1875 [==============================] - 2s 972us/step - loss: 0.2237 - accuracy: 0.9154\n",
      "Epoch 1/10\n",
      "1875/1875 [==============================] - 1s 518us/step - loss: 1.1734 - accuracy: 0.5585\n",
      "Epoch 2/10\n",
      "1875/1875 [==============================] - 1s 524us/step - loss: 0.5076 - accuracy: 0.8230\n",
      "Epoch 3/10\n",
      "1875/1875 [==============================] - 1s 534us/step - loss: 0.4630 - accuracy: 0.8390\n",
      "Epoch 4/10\n",
      "1875/1875 [==============================] - 1s 554us/step - loss: 0.4437 - accuracy: 0.8449\n",
      "Epoch 5/10\n",
      "1875/1875 [==============================] - 1s 557us/step - loss: 0.4125 - accuracy: 0.8560\n",
      "Epoch 6/10\n",
      "1875/1875 [==============================] - 1s 541us/step - loss: 0.4078 - accuracy: 0.8561\n",
      "Epoch 7/10\n",
      "1875/1875 [==============================] - 1s 533us/step - loss: 0.3963 - accuracy: 0.8593\n",
      "Epoch 8/10\n",
      "1875/1875 [==============================] - 1s 549us/step - loss: 0.3943 - accuracy: 0.8582\n",
      "Epoch 9/10\n",
      "1875/1875 [==============================] - 1s 533us/step - loss: 0.3838 - accuracy: 0.8646\n",
      "Epoch 10/10\n",
      "1875/1875 [==============================] - 1s 521us/step - loss: 0.3776 - accuracy: 0.8643\n",
      "Epoch 1/10\n",
      "1875/1875 [==============================] - 1s 648us/step - loss: 0.7099 - accuracy: 0.7569\n",
      "Epoch 2/10\n",
      "1875/1875 [==============================] - 1s 642us/step - loss: 0.3941 - accuracy: 0.8563\n",
      "Epoch 3/10\n",
      "1875/1875 [==============================] - 1s 623us/step - loss: 0.3536 - accuracy: 0.8705\n",
      "Epoch 4/10\n",
      "1875/1875 [==============================] - 1s 636us/step - loss: 0.3262 - accuracy: 0.8805\n",
      "Epoch 5/10\n",
      "1875/1875 [==============================] - 1s 667us/step - loss: 0.3069 - accuracy: 0.8867\n",
      "Epoch 6/10\n",
      "1875/1875 [==============================] - 1s 648us/step - loss: 0.3002 - accuracy: 0.8880\n",
      "Epoch 7/10\n",
      "1875/1875 [==============================] - 1s 627us/step - loss: 0.2859 - accuracy: 0.8925\n",
      "Epoch 8/10\n",
      "1875/1875 [==============================] - 1s 643us/step - loss: 0.2748 - accuracy: 0.8976\n",
      "Epoch 9/10\n",
      "1875/1875 [==============================] - 1s 660us/step - loss: 0.2645 - accuracy: 0.9008\n",
      "Epoch 10/10\n",
      "1875/1875 [==============================] - 1s 650us/step - loss: 0.2588 - accuracy: 0.9043\n",
      "Epoch 1/10\n",
      "1875/1875 [==============================] - 3s 1ms/step - loss: 0.6073 - accuracy: 0.7782\n",
      "Epoch 2/10\n",
      "1875/1875 [==============================] - 4s 2ms/step - loss: 0.3655 - accuracy: 0.8649\n",
      "Epoch 3/10\n",
      "1875/1875 [==============================] - 5s 3ms/step - loss: 0.3289 - accuracy: 0.8770\n",
      "Epoch 4/10\n",
      "1875/1875 [==============================] - 5s 2ms/step - loss: 0.3059 - accuracy: 0.8863\n",
      "Epoch 5/10\n",
      "1875/1875 [==============================] - 5s 2ms/step - loss: 0.2852 - accuracy: 0.8910\n",
      "Epoch 6/10\n",
      "1875/1875 [==============================] - 4s 2ms/step - loss: 0.2711 - accuracy: 0.8976\n",
      "Epoch 7/10\n",
      "1875/1875 [==============================] - 4s 2ms/step - loss: 0.2560 - accuracy: 0.9039\n",
      "Epoch 8/10\n",
      "1875/1875 [==============================] - 5s 3ms/step - loss: 0.2450 - accuracy: 0.9045\n",
      "Epoch 9/10\n",
      "1875/1875 [==============================] - 5s 3ms/step - loss: 0.2352 - accuracy: 0.9102\n",
      "Epoch 10/10\n",
      "1875/1875 [==============================] - 5s 3ms/step - loss: 0.2260 - accuracy: 0.9128\n"
     ]
    }
   ],
   "source": [
    "for model in models:\n",
    "    model.fit(x_train, y_train, epochs=10)"
   ]
  },
  {
   "cell_type": "markdown",
   "metadata": {},
   "source": [
    "#### Accuracy on houldout set"
   ]
  },
  {
   "cell_type": "code",
   "execution_count": 52,
   "metadata": {},
   "outputs": [
    {
     "name": "stdout",
     "output_type": "stream",
     "text": [
      "313/313 [==============================] - 0s 1ms/step - loss: 0.4418 - accuracy: 0.8425\n",
      "313/313 [==============================] - 0s 1ms/step - loss: 0.3585 - accuracy: 0.8723\n",
      "313/313 [==============================] - 1s 1ms/step - loss: 0.3269 - accuracy: 0.8870\n",
      "313/313 [==============================] - 0s 757us/step - loss: 0.4381 - accuracy: 0.8412\n",
      "313/313 [==============================] - 0s 1ms/step - loss: 0.3391 - accuracy: 0.8776\n",
      "313/313 [==============================] - 1s 1ms/step - loss: 0.3357 - accuracy: 0.8864\n",
      "313/313 [==============================] - 0s 959us/step - loss: 0.4373 - accuracy: 0.8435\n",
      "313/313 [==============================] - 1s 1ms/step - loss: 0.3452 - accuracy: 0.8768\n",
      "313/313 [==============================] - 1s 2ms/step - loss: 0.3465 - accuracy: 0.8873\n"
     ]
    }
   ],
   "source": [
    "test_accuracies=[]\n",
    "for model in models:\n",
    "    _,test_acc = model.evaluate(x_test,  y_test, verbose=1)\n",
    "    test_accuracies.append(test_acc)"
   ]
  },
  {
   "cell_type": "markdown",
   "metadata": {},
   "source": [
    "#### Plot"
   ]
  },
  {
   "cell_type": "code",
   "execution_count": 53,
   "metadata": {
    "scrolled": true
   },
   "outputs": [
    {
     "data": {
      "image/png": "[encoded data removed]",
      "text/plain": [
       "<Figure size 432x288 with 1 Axes>"
      ]
     },
     "metadata": {
      "needs_background": "light"
     },
     "output_type": "display_data"
    }
   ],
   "source": [
    "test_accuracies_l2=test_accuracies[:3]\n",
    "test_accuracies_l3=test_accuracies[3:6]\n",
    "test_accuracies_l4=test_accuracies[6:]\n",
    "\n",
    "plt.plot(units,test_accuracies_l2,label='L = 2')\n",
    "plt.plot(units,test_accuracies_l3,label='L = 3')\n",
    "plt.plot(units,test_accuracies_l4,label='L = 4')\n",
    "\n",
    "plt.xlabel('number of units per layer')\n",
    "plt.ylabel('out of sample accuracy')\n",
    "\n",
    "plt.legend()\n",
    "\n",
    "plt.show()\n"
   ]
  },
  {
   "cell_type": "markdown",
   "metadata": {},
   "source": [
    "#### Best model"
   ]
  },
  {
   "cell_type": "code",
   "execution_count": 54,
   "metadata": {},
   "outputs": [
    {
     "name": "stdout",
     "output_type": "stream",
     "text": [
      "Best accuracy : 0.8873000144958496\n",
      "Best model index: 8\n"
     ]
    }
   ],
   "source": [
    "print('Best accuracy : ' + str(np.max(test_accuracies)))\n",
    "print('Best model index: ' + str(np.argmax(test_accuracies)))"
   ]
  },
  {
   "cell_type": "markdown",
   "metadata": {},
   "source": [
    "### The best model is : 4 layers and 200 units"
   ]
  },
  {
   "cell_type": "markdown",
   "metadata": {},
   "source": [
    "#### Overfitting"
   ]
  },
  {
   "cell_type": "code",
   "execution_count": 17,
   "metadata": {},
   "outputs": [
    {
     "name": "stdout",
     "output_type": "stream",
     "text": [
      "1875/1875 [==============================] - 1s 559us/step - loss: 0.3672 - accuracy: 0.8715\n",
      "1875/1875 [==============================] - 1s 586us/step - loss: 0.2666 - accuracy: 0.9014\n",
      "1875/1875 [==============================] - 1s 647us/step - loss: 0.2119 - accuracy: 0.9209\n",
      "1875/1875 [==============================] - 1s 562us/step - loss: 0.3778 - accuracy: 0.8648\n",
      "1875/1875 [==============================] - 1s 598us/step - loss: 0.2456 - accuracy: 0.9096\n",
      "1875/1875 [==============================] - 1s 711us/step - loss: 0.1990 - accuracy: 0.9246\n",
      "1875/1875 [==============================] - 1s 569us/step - loss: 0.3723 - accuracy: 0.8666\n",
      "1875/1875 [==============================] - 1s 608us/step - loss: 0.2377 - accuracy: 0.9104\n",
      "1875/1875 [==============================] - 1s 741us/step - loss: 0.2206 - accuracy: 0.9165\n"
     ]
    }
   ],
   "source": [
    "train_accuracies=[]\n",
    "for model in models:\n",
    "    _,train_acc = model.evaluate(x_train,  y_train, verbose=1)\n",
    "    train_accuracies.append(train_acc)"
   ]
  },
  {
   "cell_type": "code",
   "execution_count": 46,
   "metadata": {},
   "outputs": [
    {
     "name": "stdout",
     "output_type": "stream",
     "text": [
      "The model using 2 layers and 10 units is overfitting because test accuracy is less than train accuracy\n",
      "The model using 2 layers and 50 units is overfitting because test accuracy is less than train accuracy\n",
      "The model using 2 layers and 200 units is overfitting because test accuracy is less than train accuracy\n",
      "The model using 3 layers and 10 units is overfitting because test accuracy is less than train accuracy\n",
      "The model using 3 layers and 50 units is overfitting because test accuracy is less than train accuracy\n",
      "The model using 3 layers and 200 units is overfitting because test accuracy is less than train accuracy\n",
      "The model using 4 layers and 10 units is overfitting because test accuracy is less than train accuracy\n",
      "The model using 4 layers and 50 units is overfitting because test accuracy is less than train accuracy\n",
      "The model using 4 layers and 200 units is overfitting because test accuracy is less than train accuracy\n"
     ]
    }
   ],
   "source": [
    "layers=[2,3,4]\n",
    "units=[10,50,200]\n",
    "i=0\n",
    "for n_layers in layers:\n",
    "    for n_units in units:\n",
    "        if train_accuracies[i] > test_accuracies[i]:\n",
    "            print('The model using {} layers and {} units is overfitting because test accuracy is less than train accuracy'.format(n_layers,n_units))\n",
    "    i+=1"
   ]
  },
  {
   "cell_type": "markdown",
   "metadata": {},
   "source": [
    "### We can see that all model are overfitting"
   ]
  },
  {
   "cell_type": "markdown",
   "metadata": {},
   "source": [
    "# Extra credit\n",
    "- Do a more extensive experiment\n",
    "    - More layers\n",
    "    - More choices for number of units per layer\n",
    "    - Vary number of units per layer\n",
    "        - Increase number of units with increasing layer number\n",
    "        - Decrease number of units with increasing layer number\n",
    "        - Find some other pattern for varying the number of units per layer\n",
    "- Comment on when your models are either overfitting or underfitting\n",
    "    - Use numeric justification\n",
    "    "
   ]
  },
  {
   "cell_type": "markdown",
   "metadata": {},
   "source": [
    "#### Create more models"
   ]
  },
  {
   "cell_type": "code",
   "execution_count": 18,
   "metadata": {},
   "outputs": [],
   "source": [
    "def create_more_models(n_layers,n_units,pattern='fixed'):\n",
    "    \n",
    "    if pattern == 'fixed':\n",
    "        \n",
    "        l=[tf.keras.layers.Flatten(input_shape=(28, 28))]\n",
    "        l+=[tf.keras.layers.Dense(n_units,activation='relu') for i in range(1,n_layers)]\n",
    "        l+=[tf.keras.layers.Dense(10)]\n",
    "\n",
    "        model = tf.keras.Sequential(l)\n",
    "\n",
    "        model.compile(optimizer='adam',\n",
    "                  loss=tf.keras.losses.SparseCategoricalCrossentropy(from_logits=True),\n",
    "                  metrics=['accuracy'])\n",
    "\n",
    "        return model\n",
    "    \n",
    "    elif pattern == 'increasing':\n",
    "        \n",
    "        base=10\n",
    "        \n",
    "        l=[tf.keras.layers.Flatten(input_shape=(28, 28))]\n",
    "        l+=[tf.keras.layers.Dense(base*i,activation='relu') for i in range(1,n_layers)]\n",
    "        l+=[tf.keras.layers.Dense(10)]\n",
    "\n",
    "        model = tf.keras.Sequential(l)\n",
    "\n",
    "        model.compile(optimizer='adam',\n",
    "                  loss=tf.keras.losses.SparseCategoricalCrossentropy(from_logits=True),\n",
    "                  metrics=['accuracy'])\n",
    "\n",
    "        return model\n",
    "    \n",
    "    elif pattern == 'decreasing':\n",
    "\n",
    "        base=100\n",
    "\n",
    "        l=[tf.keras.layers.Flatten(input_shape=(28, 28))]\n",
    "        l+=[tf.keras.layers.Dense(int(base/i),activation='relu') for i in range(1,n_layers)]\n",
    "        l+=[tf.keras.layers.Dense(10)]\n",
    "\n",
    "        model = tf.keras.Sequential(l)\n",
    "\n",
    "        model.compile(optimizer='adam',\n",
    "                  loss=tf.keras.losses.SparseCategoricalCrossentropy(from_logits=True),\n",
    "                  metrics=['accuracy'])\n",
    "\n",
    "        return model\n",
    "\n",
    "    elif pattern == 'custom':\n",
    "    \n",
    "        def custom(n):\n",
    "            if (n<n_layers//2):\n",
    "                return int(10*n)\n",
    "            else :\n",
    "                return int(100-10*n)\n",
    "    \n",
    "        l=[tf.keras.layers.Flatten(input_shape=(28, 28))]\n",
    "        l+=[tf.keras.layers.Dense(custom(i),activation='relu') for i in range(1,n_layers)]\n",
    "        l+=[tf.keras.layers.Dense(10)]\n",
    "\n",
    "        model = tf.keras.Sequential(l)\n",
    "\n",
    "        model.compile(optimizer='adam',\n",
    "                  loss=tf.keras.losses.SparseCategoricalCrossentropy(from_logits=True),\n",
    "                  metrics=['accuracy'])\n",
    "\n",
    "        return model\n",
    "    \n",
    "    else :\n",
    "        raise Exception('pleace select a valid pattern')"
   ]
  },
  {
   "cell_type": "code",
   "execution_count": 19,
   "metadata": {},
   "outputs": [],
   "source": [
    "extra_models=[]\n",
    "layers=[5,7,9]\n",
    "units=[100,200,300]\n",
    "patterns=['fixed','increasing','decreasing','custom']\n",
    "\n",
    "for n_layers in layers:\n",
    "    for n_units in units:\n",
    "        for pattern in patterns:\n",
    "            model=create_more_models(n_layers,n_units,pattern)\n",
    "            extra_models.append(model)"
   ]
  },
  {
   "cell_type": "markdown",
   "metadata": {},
   "source": [
    "#### Train more models"
   ]
  },
  {
   "cell_type": "code",
   "execution_count": 20,
   "metadata": {},
   "outputs": [
    {
     "name": "stdout",
     "output_type": "stream",
     "text": [
      "Epoch 1/10\n",
      "1875/1875 [==============================] - 2s 750us/step - loss: 0.6513 - accuracy: 0.7609\n",
      "Epoch 2/10\n",
      "1875/1875 [==============================] - 1s 760us/step - loss: 0.3820 - accuracy: 0.8586\n",
      "Epoch 3/10\n",
      "1875/1875 [==============================] - 1s 770us/step - loss: 0.3397 - accuracy: 0.8727\n",
      "Epoch 4/10\n",
      "1875/1875 [==============================] - 2s 801us/step - loss: 0.3143 - accuracy: 0.8847\n",
      "Epoch 5/10\n",
      "1875/1875 [==============================] - 1s 793us/step - loss: 0.2966 - accuracy: 0.8883\n",
      "Epoch 6/10\n",
      "1875/1875 [==============================] - 1s 793us/step - loss: 0.2856 - accuracy: 0.8929\n",
      "Epoch 7/10\n",
      "1875/1875 [==============================] - 2s 801us/step - loss: 0.2666 - accuracy: 0.8991\n",
      "Epoch 8/10\n",
      "1875/1875 [==============================] - 2s 813us/step - loss: 0.2584 - accuracy: 0.9027\n",
      "Epoch 9/10\n",
      "1875/1875 [==============================] - 2s 803us/step - loss: 0.2490 - accuracy: 0.9062\n",
      "Epoch 10/10\n",
      "1875/1875 [==============================] - 2s 807us/step - loss: 0.2420 - accuracy: 0.9090\n",
      "Epoch 1/10\n",
      "1875/1875 [==============================] - 1s 554us/step - loss: 0.8976 - accuracy: 0.6630\n",
      "Epoch 2/10\n",
      "1875/1875 [==============================] - 1s 553us/step - loss: 0.4625 - accuracy: 0.8354\n",
      "Epoch 3/10\n",
      "1875/1875 [==============================] - 1s 549us/step - loss: 0.4173 - accuracy: 0.8497\n",
      "Epoch 4/10\n",
      "1875/1875 [==============================] - 1s 550us/step - loss: 0.3947 - accuracy: 0.8567\n",
      "Epoch 5/10\n",
      "1875/1875 [==============================] - 1s 550us/step - loss: 0.3804 - accuracy: 0.8623\n",
      "Epoch 6/10\n",
      "1875/1875 [==============================] - 1s 549us/step - loss: 0.3638 - accuracy: 0.8674\n",
      "Epoch 7/10\n",
      "1875/1875 [==============================] - 1s 571us/step - loss: 0.3575 - accuracy: 0.8670\n",
      "Epoch 8/10\n",
      "1875/1875 [==============================] - 1s 556us/step - loss: 0.3470 - accuracy: 0.8711\n",
      "Epoch 9/10\n",
      "1875/1875 [==============================] - 1s 557us/step - loss: 0.3418 - accuracy: 0.8726\n",
      "Epoch 10/10\n",
      "1875/1875 [==============================] - 1s 555us/step - loss: 0.3348 - accuracy: 0.8763\n",
      "Epoch 1/10\n",
      "1875/1875 [==============================] - 2s 731us/step - loss: 0.7108 - accuracy: 0.7490\n",
      "Epoch 2/10\n",
      "1875/1875 [==============================] - 1s 727us/step - loss: 0.3949 - accuracy: 0.8583\n",
      "Epoch 3/10\n",
      "1875/1875 [==============================] - 1s 732us/step - loss: 0.3502 - accuracy: 0.8718\n",
      "Epoch 4/10\n",
      "1875/1875 [==============================] - 1s 731us/step - loss: 0.3185 - accuracy: 0.8817\n",
      "Epoch 5/10\n",
      "1875/1875 [==============================] - 1s 723us/step - loss: 0.3087 - accuracy: 0.8861\n",
      "Epoch 6/10\n",
      "1875/1875 [==============================] - 1s 727us/step - loss: 0.2851 - accuracy: 0.8944\n",
      "Epoch 7/10\n",
      "1875/1875 [==============================] - 1s 728us/step - loss: 0.2773 - accuracy: 0.8979\n",
      "Epoch 8/10\n",
      "1875/1875 [==============================] - 1s 726us/step - loss: 0.2628 - accuracy: 0.9015\n",
      "Epoch 9/10\n",
      "1875/1875 [==============================] - 1s 724us/step - loss: 0.2574 - accuracy: 0.9048\n",
      "Epoch 10/10\n",
      "1875/1875 [==============================] - 1s 731us/step - loss: 0.2517 - accuracy: 0.9062\n",
      "Epoch 1/10\n",
      "1875/1875 [==============================] - 1s 611us/step - loss: 0.8134 - accuracy: 0.6938\n",
      "Epoch 2/10\n",
      "1875/1875 [==============================] - 1s 605us/step - loss: 0.4280 - accuracy: 0.8445\n",
      "Epoch 3/10\n",
      "1875/1875 [==============================] - 1s 607us/step - loss: 0.4027 - accuracy: 0.8522\n",
      "Epoch 4/10\n",
      "1875/1875 [==============================] - 1s 610us/step - loss: 0.3702 - accuracy: 0.8661\n",
      "Epoch 5/10\n",
      "1875/1875 [==============================] - 1s 606us/step - loss: 0.3681 - accuracy: 0.8643\n",
      "Epoch 6/10\n",
      "1875/1875 [==============================] - 1s 606us/step - loss: 0.3479 - accuracy: 0.8715\n",
      "Epoch 7/10\n",
      "1875/1875 [==============================] - 1s 606us/step - loss: 0.3388 - accuracy: 0.8759\n",
      "Epoch 8/10\n",
      "1875/1875 [==============================] - 1s 605us/step - loss: 0.3302 - accuracy: 0.8780\n",
      "Epoch 9/10\n",
      "1875/1875 [==============================] - 1s 611us/step - loss: 0.3233 - accuracy: 0.8794\n",
      "Epoch 10/10\n",
      "1875/1875 [==============================] - 1s 619us/step - loss: 0.3205 - accuracy: 0.8811\n",
      "Epoch 1/10\n",
      "1875/1875 [==============================] - 3s 2ms/step - loss: 0.6260 - accuracy: 0.7721\n",
      "Epoch 2/10\n",
      "1875/1875 [==============================] - 3s 2ms/step - loss: 0.3727 - accuracy: 0.8629\n",
      "Epoch 3/10\n",
      "1875/1875 [==============================] - 3s 2ms/step - loss: 0.3307 - accuracy: 0.8803\n",
      "Epoch 4/10\n",
      "1875/1875 [==============================] - 3s 2ms/step - loss: 0.3094 - accuracy: 0.8842\n",
      "Epoch 5/10\n",
      "1875/1875 [==============================] - 3s 2ms/step - loss: 0.2956 - accuracy: 0.8889\n",
      "Epoch 6/10\n",
      "1875/1875 [==============================] - 3s 2ms/step - loss: 0.2849 - accuracy: 0.8941\n",
      "Epoch 7/10\n",
      "1875/1875 [==============================] - 3s 2ms/step - loss: 0.2637 - accuracy: 0.8996\n",
      "Epoch 8/10\n",
      "1875/1875 [==============================] - 3s 2ms/step - loss: 0.2563 - accuracy: 0.9036\n",
      "Epoch 9/10\n",
      "1875/1875 [==============================] - 3s 2ms/step - loss: 0.2424 - accuracy: 0.9090\n",
      "Epoch 10/10\n",
      "1875/1875 [==============================] - 3s 2ms/step - loss: 0.2390 - accuracy: 0.9110\n",
      "Epoch 1/10\n",
      "1875/1875 [==============================] - 1s 557us/step - loss: 0.8575 - accuracy: 0.6919\n",
      "Epoch 2/10\n",
      "1875/1875 [==============================] - 1s 555us/step - loss: 0.4466 - accuracy: 0.8399\n",
      "Epoch 3/10\n",
      "1875/1875 [==============================] - 1s 559us/step - loss: 0.4123 - accuracy: 0.8515\n",
      "Epoch 4/10\n",
      "1875/1875 [==============================] - 1s 557us/step - loss: 0.3917 - accuracy: 0.8571\n",
      "Epoch 5/10\n",
      "1875/1875 [==============================] - 1s 555us/step - loss: 0.3766 - accuracy: 0.8634\n",
      "Epoch 6/10\n",
      "1875/1875 [==============================] - 1s 555us/step - loss: 0.3653 - accuracy: 0.8659\n",
      "Epoch 7/10\n",
      "1875/1875 [==============================] - 1s 567us/step - loss: 0.3585 - accuracy: 0.8668\n",
      "Epoch 8/10\n",
      "1875/1875 [==============================] - 1s 550us/step - loss: 0.3532 - accuracy: 0.8707\n",
      "Epoch 9/10\n",
      "1875/1875 [==============================] - 1s 553us/step - loss: 0.3476 - accuracy: 0.8721\n",
      "Epoch 10/10\n",
      "1875/1875 [==============================] - 1s 550us/step - loss: 0.3398 - accuracy: 0.8736\n",
      "Epoch 1/10\n",
      "1875/1875 [==============================] - 2s 735us/step - loss: 0.7472 - accuracy: 0.7395\n",
      "Epoch 2/10\n",
      "1875/1875 [==============================] - 1s 737us/step - loss: 0.3976 - accuracy: 0.8544\n",
      "Epoch 3/10\n",
      "1875/1875 [==============================] - 1s 732us/step - loss: 0.3566 - accuracy: 0.8705\n",
      "Epoch 4/10\n",
      "1875/1875 [==============================] - 1s 735us/step - loss: 0.3246 - accuracy: 0.8809\n",
      "Epoch 5/10\n",
      "1875/1875 [==============================] - 1s 738us/step - loss: 0.3132 - accuracy: 0.8834\n",
      "Epoch 6/10\n",
      "1875/1875 [==============================] - 1s 734us/step - loss: 0.2958 - accuracy: 0.8911\n",
      "Epoch 7/10\n",
      "1875/1875 [==============================] - 1s 734us/step - loss: 0.2829 - accuracy: 0.8950\n",
      "Epoch 8/10\n",
      "1875/1875 [==============================] - 1s 730us/step - loss: 0.2718 - accuracy: 0.8977\n",
      "Epoch 9/10\n",
      "1875/1875 [==============================] - 1s 732us/step - loss: 0.2620 - accuracy: 0.9007\n",
      "Epoch 10/10\n",
      "1875/1875 [==============================] - 1s 734us/step - loss: 0.2538 - accuracy: 0.9045\n",
      "Epoch 1/10\n",
      "1875/1875 [==============================] - 1s 603us/step - loss: 0.8270 - accuracy: 0.6933\n",
      "Epoch 2/10\n",
      "1875/1875 [==============================] - 1s 603us/step - loss: 0.4521 - accuracy: 0.8378\n",
      "Epoch 3/10\n",
      "1875/1875 [==============================] - 1s 601us/step - loss: 0.4071 - accuracy: 0.8488\n",
      "Epoch 4/10\n",
      "1875/1875 [==============================] - 1s 604us/step - loss: 0.3855 - accuracy: 0.8610\n",
      "Epoch 5/10\n",
      "1875/1875 [==============================] - 1s 605us/step - loss: 0.3712 - accuracy: 0.8648\n",
      "Epoch 6/10\n",
      "1875/1875 [==============================] - 1s 602us/step - loss: 0.3600 - accuracy: 0.8660\n",
      "Epoch 7/10\n",
      "1875/1875 [==============================] - 1s 604us/step - loss: 0.3532 - accuracy: 0.8694\n",
      "Epoch 8/10\n",
      "1875/1875 [==============================] - 1s 621us/step - loss: 0.3355 - accuracy: 0.8762\n",
      "Epoch 9/10\n",
      "1875/1875 [==============================] - 1s 610us/step - loss: 0.3380 - accuracy: 0.8744\n",
      "Epoch 10/10\n",
      "1875/1875 [==============================] - 1s 603us/step - loss: 0.3379 - accuracy: 0.8741\n",
      "Epoch 1/10\n",
      "1875/1875 [==============================] - 5s 3ms/step - loss: 0.6115 - accuracy: 0.7764\n",
      "Epoch 2/10\n",
      "1875/1875 [==============================] - 5s 3ms/step - loss: 0.3770 - accuracy: 0.8607\n",
      "Epoch 3/10\n",
      "1875/1875 [==============================] - 5s 3ms/step - loss: 0.3378 - accuracy: 0.8766\n",
      "Epoch 4/10\n",
      "1875/1875 [==============================] - 5s 3ms/step - loss: 0.3179 - accuracy: 0.8819\n",
      "Epoch 5/10\n",
      "1875/1875 [==============================] - 5s 3ms/step - loss: 0.2898 - accuracy: 0.8933\n",
      "Epoch 6/10\n",
      "1875/1875 [==============================] - 5s 3ms/step - loss: 0.2824 - accuracy: 0.8955\n",
      "Epoch 7/10\n",
      "1875/1875 [==============================] - 5s 3ms/step - loss: 0.2691 - accuracy: 0.8976\n",
      "Epoch 8/10\n",
      "1875/1875 [==============================] - 5s 3ms/step - loss: 0.2581 - accuracy: 0.9014\n",
      "Epoch 9/10\n",
      "1875/1875 [==============================] - 5s 3ms/step - loss: 0.2474 - accuracy: 0.9081\n",
      "Epoch 10/10\n",
      "1875/1875 [==============================] - 5s 3ms/step - loss: 0.2366 - accuracy: 0.9106\n",
      "Epoch 1/10\n",
      "1875/1875 [==============================] - 1s 552us/step - loss: 0.8789 - accuracy: 0.6885\n",
      "Epoch 2/10\n",
      "1875/1875 [==============================] - 1s 551us/step - loss: 0.4684 - accuracy: 0.8332\n",
      "Epoch 3/10\n",
      "1875/1875 [==============================] - 1s 550us/step - loss: 0.4315 - accuracy: 0.8456\n",
      "Epoch 4/10\n",
      "1875/1875 [==============================] - 1s 550us/step - loss: 0.4082 - accuracy: 0.8536\n",
      "Epoch 5/10\n",
      "1875/1875 [==============================] - 1s 550us/step - loss: 0.3916 - accuracy: 0.8599\n",
      "Epoch 6/10\n",
      "1875/1875 [==============================] - 1s 554us/step - loss: 0.3820 - accuracy: 0.8633\n",
      "Epoch 7/10\n",
      "1875/1875 [==============================] - 1s 550us/step - loss: 0.3704 - accuracy: 0.8647\n",
      "Epoch 8/10\n",
      "1875/1875 [==============================] - 1s 551us/step - loss: 0.3640 - accuracy: 0.8691\n",
      "Epoch 9/10\n",
      "1875/1875 [==============================] - 1s 553us/step - loss: 0.3591 - accuracy: 0.8695\n",
      "Epoch 10/10\n",
      "1875/1875 [==============================] - 1s 554us/step - loss: 0.3502 - accuracy: 0.8738\n",
      "Epoch 1/10\n",
      "1875/1875 [==============================] - 2s 733us/step - loss: 0.7177 - accuracy: 0.7400\n",
      "Epoch 2/10\n",
      "1875/1875 [==============================] - 1s 737us/step - loss: 0.3969 - accuracy: 0.8583\n",
      "Epoch 3/10\n",
      "1875/1875 [==============================] - 1s 732us/step - loss: 0.3478 - accuracy: 0.8723\n",
      "Epoch 4/10\n",
      "1875/1875 [==============================] - 1s 729us/step - loss: 0.3266 - accuracy: 0.8782\n",
      "Epoch 5/10\n",
      "1875/1875 [==============================] - 1s 736us/step - loss: 0.3053 - accuracy: 0.8872\n",
      "Epoch 6/10\n",
      "1875/1875 [==============================] - 1s 738us/step - loss: 0.2910 - accuracy: 0.8910\n",
      "Epoch 7/10\n",
      "1875/1875 [==============================] - 1s 734us/step - loss: 0.2765 - accuracy: 0.8967\n",
      "Epoch 8/10\n",
      "1875/1875 [==============================] - 1s 734us/step - loss: 0.2678 - accuracy: 0.9006\n",
      "Epoch 9/10\n",
      "1875/1875 [==============================] - 1s 732us/step - loss: 0.2606 - accuracy: 0.9027\n",
      "Epoch 10/10\n",
      "1875/1875 [==============================] - 1s 738us/step - loss: 0.2552 - accuracy: 0.9039\n",
      "Epoch 1/10\n",
      "1875/1875 [==============================] - 1s 606us/step - loss: 0.8162 - accuracy: 0.6965\n",
      "Epoch 2/10\n",
      "1875/1875 [==============================] - 1s 601us/step - loss: 0.4361 - accuracy: 0.8404\n",
      "Epoch 3/10\n",
      "1875/1875 [==============================] - 1s 600us/step - loss: 0.3969 - accuracy: 0.8550\n",
      "Epoch 4/10\n",
      "1875/1875 [==============================] - 1s 602us/step - loss: 0.3656 - accuracy: 0.8639\n",
      "Epoch 5/10\n",
      "1875/1875 [==============================] - 1s 602us/step - loss: 0.3557 - accuracy: 0.8670\n",
      "Epoch 6/10\n",
      "1875/1875 [==============================] - 1s 614us/step - loss: 0.3409 - accuracy: 0.8760\n",
      "Epoch 7/10\n",
      "1875/1875 [==============================] - 1s 598us/step - loss: 0.3289 - accuracy: 0.8783\n",
      "Epoch 8/10\n",
      "1875/1875 [==============================] - 1s 604us/step - loss: 0.3262 - accuracy: 0.8785\n",
      "Epoch 9/10\n",
      "1875/1875 [==============================] - 1s 606us/step - loss: 0.3185 - accuracy: 0.8809\n",
      "Epoch 10/10\n",
      "1875/1875 [==============================] - 1s 599us/step - loss: 0.3141 - accuracy: 0.8811\n",
      "Epoch 1/10\n",
      "1875/1875 [==============================] - 2s 924us/step - loss: 0.6905 - accuracy: 0.7475\n",
      "Epoch 2/10\n",
      "1875/1875 [==============================] - 2s 1ms/step - loss: 0.3965 - accuracy: 0.8568\n",
      "Epoch 3/10\n",
      "1875/1875 [==============================] - 2s 1ms/step - loss: 0.3466 - accuracy: 0.8720\n",
      "Epoch 4/10\n",
      "1875/1875 [==============================] - 2s 1ms/step - loss: 0.3335 - accuracy: 0.8775\n",
      "Epoch 5/10\n",
      "1875/1875 [==============================] - 2s 1ms/step - loss: 0.3093 - accuracy: 0.8855\n",
      "Epoch 6/10\n",
      "1875/1875 [==============================] - 2s 1ms/step - loss: 0.2997 - accuracy: 0.8913\n",
      "Epoch 7/10\n",
      "1875/1875 [==============================] - 2s 1ms/step - loss: 0.2852 - accuracy: 0.8950\n",
      "Epoch 8/10\n",
      "1875/1875 [==============================] - 2s 1ms/step - loss: 0.2775 - accuracy: 0.8982\n",
      "Epoch 9/10\n",
      "1875/1875 [==============================] - 2s 1ms/step - loss: 0.2624 - accuracy: 0.9023\n",
      "Epoch 10/10\n",
      "1875/1875 [==============================] - 2s 1ms/step - loss: 0.2594 - accuracy: 0.9037\n",
      "Epoch 1/10\n",
      "1875/1875 [==============================] - 1s 631us/step - loss: 0.8785 - accuracy: 0.6717\n",
      "Epoch 2/10\n",
      "1875/1875 [==============================] - 1s 629us/step - loss: 0.4699 - accuracy: 0.8294\n",
      "Epoch 3/10\n",
      "1875/1875 [==============================] - 1s 635us/step - loss: 0.4228 - accuracy: 0.8456\n",
      "Epoch 4/10\n",
      "1875/1875 [==============================] - 1s 650us/step - loss: 0.4011 - accuracy: 0.8550\n",
      "Epoch 5/10\n",
      "1875/1875 [==============================] - 1s 630us/step - loss: 0.3870 - accuracy: 0.8587\n",
      "Epoch 6/10\n",
      "1875/1875 [==============================] - 1s 632us/step - loss: 0.3723 - accuracy: 0.8664\n",
      "Epoch 7/10\n",
      "1875/1875 [==============================] - 1s 638us/step - loss: 0.3662 - accuracy: 0.8650\n",
      "Epoch 8/10\n",
      "1875/1875 [==============================] - 1s 636us/step - loss: 0.3557 - accuracy: 0.8685\n",
      "Epoch 9/10\n",
      "1875/1875 [==============================] - 1s 629us/step - loss: 0.3524 - accuracy: 0.8705\n",
      "Epoch 10/10\n",
      "1875/1875 [==============================] - 1s 631us/step - loss: 0.3506 - accuracy: 0.8698\n",
      "Epoch 1/10\n",
      "1875/1875 [==============================] - 2s 771us/step - loss: 0.8425 - accuracy: 0.7084\n",
      "Epoch 2/10\n",
      "1875/1875 [==============================] - 1s 782us/step - loss: 0.4129 - accuracy: 0.8515\n",
      "Epoch 3/10\n",
      "1875/1875 [==============================] - 1s 785us/step - loss: 0.3655 - accuracy: 0.8672\n",
      "Epoch 4/10\n",
      "1875/1875 [==============================] - 1s 769us/step - loss: 0.3387 - accuracy: 0.8769\n",
      "Epoch 5/10\n",
      "1875/1875 [==============================] - 1s 771us/step - loss: 0.3207 - accuracy: 0.8834\n",
      "Epoch 6/10\n",
      "1875/1875 [==============================] - 1s 765us/step - loss: 0.3034 - accuracy: 0.8881\n",
      "Epoch 7/10\n",
      "1875/1875 [==============================] - 1s 768us/step - loss: 0.2940 - accuracy: 0.8902\n",
      "Epoch 8/10\n",
      "1875/1875 [==============================] - 1s 775us/step - loss: 0.2882 - accuracy: 0.8930\n",
      "Epoch 9/10\n",
      "1875/1875 [==============================] - 1s 765us/step - loss: 0.2710 - accuracy: 0.9008\n",
      "Epoch 10/10\n",
      "1875/1875 [==============================] - 1s 776us/step - loss: 0.2653 - accuracy: 0.9011\n",
      "Epoch 1/10\n",
      "1875/1875 [==============================] - 1s 653us/step - loss: 0.8900 - accuracy: 0.6660\n",
      "Epoch 2/10\n",
      "1875/1875 [==============================] - 1s 655us/step - loss: 0.4802 - accuracy: 0.8264\n",
      "Epoch 3/10\n",
      "1875/1875 [==============================] - 1s 651us/step - loss: 0.4232 - accuracy: 0.8441\n",
      "Epoch 4/10\n",
      "1875/1875 [==============================] - 1s 655us/step - loss: 0.3964 - accuracy: 0.8530\n",
      "Epoch 5/10\n",
      "1875/1875 [==============================] - 1s 648us/step - loss: 0.3879 - accuracy: 0.8568\n",
      "Epoch 6/10\n",
      "1875/1875 [==============================] - 1s 649us/step - loss: 0.3708 - accuracy: 0.8627\n",
      "Epoch 7/10\n",
      "1875/1875 [==============================] - 1s 652us/step - loss: 0.3615 - accuracy: 0.8654\n",
      "Epoch 8/10\n"
     ]
    },
    {
     "name": "stdout",
     "output_type": "stream",
     "text": [
      "1875/1875 [==============================] - 1s 651us/step - loss: 0.3536 - accuracy: 0.8690\n",
      "Epoch 9/10\n",
      "1875/1875 [==============================] - 1s 649us/step - loss: 0.3421 - accuracy: 0.8732\n",
      "Epoch 10/10\n",
      "1875/1875 [==============================] - 1s 645us/step - loss: 0.3375 - accuracy: 0.8742\n",
      "Epoch 1/10\n",
      "1875/1875 [==============================] - 4s 2ms/step - loss: 0.6638 - accuracy: 0.7558\n",
      "Epoch 2/10\n",
      "1875/1875 [==============================] - 4s 2ms/step - loss: 0.3965 - accuracy: 0.8554\n",
      "Epoch 3/10\n",
      "1875/1875 [==============================] - 4s 2ms/step - loss: 0.3530 - accuracy: 0.8745\n",
      "Epoch 4/10\n",
      "1875/1875 [==============================] - 4s 2ms/step - loss: 0.3248 - accuracy: 0.8810\n",
      "Epoch 5/10\n",
      "1875/1875 [==============================] - 4s 2ms/step - loss: 0.3088 - accuracy: 0.8888\n",
      "Epoch 6/10\n",
      "1875/1875 [==============================] - 4s 2ms/step - loss: 0.2995 - accuracy: 0.8911\n",
      "Epoch 7/10\n",
      "1875/1875 [==============================] - 4s 2ms/step - loss: 0.2889 - accuracy: 0.8954\n",
      "Epoch 8/10\n",
      "1875/1875 [==============================] - 4s 2ms/step - loss: 0.2734 - accuracy: 0.8987\n",
      "Epoch 9/10\n",
      "1875/1875 [==============================] - 4s 2ms/step - loss: 0.2591 - accuracy: 0.9040\n",
      "Epoch 10/10\n",
      "1875/1875 [==============================] - 4s 2ms/step - loss: 0.2497 - accuracy: 0.9079\n",
      "Epoch 1/10\n",
      "1875/1875 [==============================] - 1s 637us/step - loss: 0.8657 - accuracy: 0.6764\n",
      "Epoch 2/10\n",
      "1875/1875 [==============================] - 1s 632us/step - loss: 0.4747 - accuracy: 0.8287\n",
      "Epoch 3/10\n",
      "1875/1875 [==============================] - 1s 638us/step - loss: 0.4450 - accuracy: 0.8381\n",
      "Epoch 4/10\n",
      "1875/1875 [==============================] - 1s 633us/step - loss: 0.4162 - accuracy: 0.8470\n",
      "Epoch 5/10\n",
      "1875/1875 [==============================] - 1s 632us/step - loss: 0.4058 - accuracy: 0.8509\n",
      "Epoch 6/10\n",
      "1875/1875 [==============================] - 1s 633us/step - loss: 0.3910 - accuracy: 0.8545\n",
      "Epoch 7/10\n",
      "1875/1875 [==============================] - 1s 636us/step - loss: 0.3831 - accuracy: 0.8554\n",
      "Epoch 8/10\n",
      "1875/1875 [==============================] - 1s 632us/step - loss: 0.3699 - accuracy: 0.8630\n",
      "Epoch 9/10\n",
      "1875/1875 [==============================] - 1s 635us/step - loss: 0.3726 - accuracy: 0.8622\n",
      "Epoch 10/10\n",
      "1875/1875 [==============================] - 1s 637us/step - loss: 0.3572 - accuracy: 0.8657\n",
      "Epoch 1/10\n",
      "1875/1875 [==============================] - 2s 774us/step - loss: 0.8127 - accuracy: 0.7071\n",
      "Epoch 2/10\n",
      "1875/1875 [==============================] - 1s 767us/step - loss: 0.4118 - accuracy: 0.8509\n",
      "Epoch 3/10\n",
      "1875/1875 [==============================] - 1s 775us/step - loss: 0.3574 - accuracy: 0.8718\n",
      "Epoch 4/10\n",
      "1875/1875 [==============================] - 1s 778us/step - loss: 0.3313 - accuracy: 0.8779\n",
      "Epoch 5/10\n",
      "1875/1875 [==============================] - 1s 778us/step - loss: 0.3173 - accuracy: 0.8836\n",
      "Epoch 6/10\n",
      "1875/1875 [==============================] - 1s 777us/step - loss: 0.3037 - accuracy: 0.8892\n",
      "Epoch 7/10\n",
      "1875/1875 [==============================] - 1s 772us/step - loss: 0.2923 - accuracy: 0.8920\n",
      "Epoch 8/10\n",
      "1875/1875 [==============================] - 1s 773us/step - loss: 0.2777 - accuracy: 0.8967\n",
      "Epoch 9/10\n",
      "1875/1875 [==============================] - 1s 773us/step - loss: 0.2748 - accuracy: 0.8968\n",
      "Epoch 10/10\n",
      "1875/1875 [==============================] - 1s 776us/step - loss: 0.2680 - accuracy: 0.8992\n",
      "Epoch 1/10\n",
      "1875/1875 [==============================] - 1s 655us/step - loss: 0.8677 - accuracy: 0.6842\n",
      "Epoch 2/10\n",
      "1875/1875 [==============================] - 1s 652us/step - loss: 0.4727 - accuracy: 0.8289\n",
      "Epoch 3/10\n",
      "1875/1875 [==============================] - 1s 651us/step - loss: 0.4256 - accuracy: 0.8445\n",
      "Epoch 4/10\n",
      "1875/1875 [==============================] - 1s 655us/step - loss: 0.4050 - accuracy: 0.8523\n",
      "Epoch 5/10\n",
      "1875/1875 [==============================] - 1s 649us/step - loss: 0.3881 - accuracy: 0.8577\n",
      "Epoch 6/10\n",
      "1875/1875 [==============================] - 1s 653us/step - loss: 0.3741 - accuracy: 0.8624\n",
      "Epoch 7/10\n",
      "1875/1875 [==============================] - 1s 656us/step - loss: 0.3670 - accuracy: 0.8649\n",
      "Epoch 8/10\n",
      "1875/1875 [==============================] - 1s 648us/step - loss: 0.3575 - accuracy: 0.8679\n",
      "Epoch 9/10\n",
      "1875/1875 [==============================] - 1s 655us/step - loss: 0.3480 - accuracy: 0.8694\n",
      "Epoch 10/10\n",
      "1875/1875 [==============================] - 1s 657us/step - loss: 0.3395 - accuracy: 0.8715\n",
      "Epoch 1/10\n",
      "1875/1875 [==============================] - 6s 3ms/step - loss: 0.6786 - accuracy: 0.7524\n",
      "Epoch 2/10\n",
      "1875/1875 [==============================] - 6s 3ms/step - loss: 0.4081 - accuracy: 0.8530\n",
      "Epoch 3/10\n",
      "1875/1875 [==============================] - 6s 3ms/step - loss: 0.3601 - accuracy: 0.8699\n",
      "Epoch 4/10\n",
      "1875/1875 [==============================] - 6s 3ms/step - loss: 0.3400 - accuracy: 0.8768\n",
      "Epoch 5/10\n",
      "1875/1875 [==============================] - 6s 3ms/step - loss: 0.3171 - accuracy: 0.8850\n",
      "Epoch 6/10\n",
      "1875/1875 [==============================] - 6s 3ms/step - loss: 0.3057 - accuracy: 0.8893\n",
      "Epoch 7/10\n",
      "1875/1875 [==============================] - 6s 3ms/step - loss: 0.2862 - accuracy: 0.8946\n",
      "Epoch 8/10\n",
      "1875/1875 [==============================] - 6s 3ms/step - loss: 0.2797 - accuracy: 0.8968\n",
      "Epoch 9/10\n",
      "1875/1875 [==============================] - 6s 3ms/step - loss: 0.2658 - accuracy: 0.9012\n",
      "Epoch 10/10\n",
      "1875/1875 [==============================] - 6s 3ms/step - loss: 0.2554 - accuracy: 0.9046\n",
      "Epoch 1/10\n",
      "1875/1875 [==============================] - 1s 638us/step - loss: 0.8741 - accuracy: 0.6755\n",
      "Epoch 2/10\n",
      "1875/1875 [==============================] - 1s 640us/step - loss: 0.4733 - accuracy: 0.8300\n",
      "Epoch 3/10\n",
      "1875/1875 [==============================] - 1s 645us/step - loss: 0.4308 - accuracy: 0.8429\n",
      "Epoch 4/10\n",
      "1875/1875 [==============================] - 1s 648us/step - loss: 0.4096 - accuracy: 0.8497\n",
      "Epoch 5/10\n",
      "1875/1875 [==============================] - 1s 649us/step - loss: 0.3905 - accuracy: 0.8550\n",
      "Epoch 6/10\n",
      "1875/1875 [==============================] - 1s 651us/step - loss: 0.3689 - accuracy: 0.8645\n",
      "Epoch 7/10\n",
      "1875/1875 [==============================] - 1s 649us/step - loss: 0.3634 - accuracy: 0.8652\n",
      "Epoch 8/10\n",
      "1875/1875 [==============================] - 1s 651us/step - loss: 0.3544 - accuracy: 0.8702\n",
      "Epoch 9/10\n",
      "1875/1875 [==============================] - 1s 649us/step - loss: 0.3491 - accuracy: 0.8699\n",
      "Epoch 10/10\n",
      "1875/1875 [==============================] - 1s 650us/step - loss: 0.3463 - accuracy: 0.8723\n",
      "Epoch 1/10\n",
      "1875/1875 [==============================] - 2s 778us/step - loss: 0.8595 - accuracy: 0.6845\n",
      "Epoch 2/10\n",
      "1875/1875 [==============================] - 2s 805us/step - loss: 0.4041 - accuracy: 0.8526\n",
      "Epoch 3/10\n",
      "1875/1875 [==============================] - 1s 784us/step - loss: 0.3681 - accuracy: 0.8657\n",
      "Epoch 4/10\n",
      "1875/1875 [==============================] - 1s 790us/step - loss: 0.3385 - accuracy: 0.8768\n",
      "Epoch 5/10\n",
      "1875/1875 [==============================] - 1s 790us/step - loss: 0.3176 - accuracy: 0.8827\n",
      "Epoch 6/10\n",
      "1875/1875 [==============================] - 1s 791us/step - loss: 0.3080 - accuracy: 0.8858\n",
      "Epoch 7/10\n",
      "1875/1875 [==============================] - 1s 789us/step - loss: 0.2960 - accuracy: 0.8912\n",
      "Epoch 8/10\n",
      "1875/1875 [==============================] - 1s 793us/step - loss: 0.2837 - accuracy: 0.8937\n",
      "Epoch 9/10\n",
      "1875/1875 [==============================] - 1s 798us/step - loss: 0.2737 - accuracy: 0.8981\n",
      "Epoch 10/10\n",
      "1875/1875 [==============================] - 1s 794us/step - loss: 0.2647 - accuracy: 0.9021\n",
      "Epoch 1/10\n",
      "1875/1875 [==============================] - 1s 655us/step - loss: 0.8255 - accuracy: 0.6957\n",
      "Epoch 2/10\n",
      "1875/1875 [==============================] - 1s 651us/step - loss: 0.4571 - accuracy: 0.8359\n",
      "Epoch 3/10\n",
      "1875/1875 [==============================] - 1s 662us/step - loss: 0.4135 - accuracy: 0.8512\n",
      "Epoch 4/10\n",
      "1875/1875 [==============================] - 1s 654us/step - loss: 0.3896 - accuracy: 0.8559\n",
      "Epoch 5/10\n",
      "1875/1875 [==============================] - 1s 658us/step - loss: 0.3802 - accuracy: 0.8607\n",
      "Epoch 6/10\n",
      "1875/1875 [==============================] - 1s 673us/step - loss: 0.3642 - accuracy: 0.8644\n",
      "Epoch 7/10\n",
      "1875/1875 [==============================] - 1s 654us/step - loss: 0.3595 - accuracy: 0.8661\n",
      "Epoch 8/10\n",
      "1875/1875 [==============================] - 1s 664us/step - loss: 0.3480 - accuracy: 0.8716\n",
      "Epoch 9/10\n",
      "1875/1875 [==============================] - 1s 651us/step - loss: 0.3465 - accuracy: 0.8733\n",
      "Epoch 10/10\n",
      "1875/1875 [==============================] - 1s 655us/step - loss: 0.3377 - accuracy: 0.8748\n",
      "Epoch 1/10\n",
      "1875/1875 [==============================] - 3s 1ms/step - loss: 0.7536 - accuracy: 0.7190\n",
      "Epoch 2/10\n",
      "1875/1875 [==============================] - 2s 1ms/step - loss: 0.4064 - accuracy: 0.8518\n",
      "Epoch 3/10\n",
      "1875/1875 [==============================] - 2s 1ms/step - loss: 0.3654 - accuracy: 0.8678\n",
      "Epoch 4/10\n",
      "1875/1875 [==============================] - 2s 1ms/step - loss: 0.3410 - accuracy: 0.8780\n",
      "Epoch 5/10\n",
      "1875/1875 [==============================] - 2s 1ms/step - loss: 0.3227 - accuracy: 0.8833\n",
      "Epoch 6/10\n",
      "1875/1875 [==============================] - 2s 1ms/step - loss: 0.3140 - accuracy: 0.8860\n",
      "Epoch 7/10\n",
      "1875/1875 [==============================] - 2s 1ms/step - loss: 0.2999 - accuracy: 0.8905\n",
      "Epoch 8/10\n",
      "1875/1875 [==============================] - 2s 1ms/step - loss: 0.2851 - accuracy: 0.8963\n",
      "Epoch 9/10\n",
      "1875/1875 [==============================] - 2s 1ms/step - loss: 0.2796 - accuracy: 0.8971\n",
      "Epoch 10/10\n",
      "1875/1875 [==============================] - 2s 1ms/step - loss: 0.2685 - accuracy: 0.8999\n",
      "Epoch 1/10\n",
      "1875/1875 [==============================] - 2s 727us/step - loss: 0.8761 - accuracy: 0.6697\n",
      "Epoch 2/10\n",
      "1875/1875 [==============================] - 1s 740us/step - loss: 0.4834 - accuracy: 0.8259\n",
      "Epoch 3/10\n",
      "1875/1875 [==============================] - 1s 742us/step - loss: 0.4370 - accuracy: 0.8410\n",
      "Epoch 4/10\n",
      "1875/1875 [==============================] - 1s 740us/step - loss: 0.4068 - accuracy: 0.8530\n",
      "Epoch 5/10\n",
      "1875/1875 [==============================] - 1s 742us/step - loss: 0.3940 - accuracy: 0.8562\n",
      "Epoch 6/10\n",
      "1875/1875 [==============================] - 1s 741us/step - loss: 0.3842 - accuracy: 0.8607\n",
      "Epoch 7/10\n",
      "1875/1875 [==============================] - 1s 753us/step - loss: 0.3751 - accuracy: 0.8621\n",
      "Epoch 8/10\n",
      "1875/1875 [==============================] - 1s 751us/step - loss: 0.3694 - accuracy: 0.8654\n",
      "Epoch 9/10\n",
      "1875/1875 [==============================] - 1s 743us/step - loss: 0.3584 - accuracy: 0.8678\n",
      "Epoch 10/10\n",
      "1875/1875 [==============================] - 1s 741us/step - loss: 0.3511 - accuracy: 0.8730\n",
      "Epoch 1/10\n",
      "1875/1875 [==============================] - 2s 815us/step - loss: 0.9093 - accuracy: 0.6745\n",
      "Epoch 2/10\n",
      "1875/1875 [==============================] - 2s 828us/step - loss: 0.4226 - accuracy: 0.8450\n",
      "Epoch 3/10\n",
      "1875/1875 [==============================] - 2s 830us/step - loss: 0.3690 - accuracy: 0.8669\n",
      "Epoch 4/10\n",
      "1875/1875 [==============================] - 2s 827us/step - loss: 0.3466 - accuracy: 0.8738\n",
      "Epoch 5/10\n",
      "1875/1875 [==============================] - 2s 829us/step - loss: 0.3213 - accuracy: 0.8815\n",
      "Epoch 6/10\n",
      "1875/1875 [==============================] - 2s 829us/step - loss: 0.3095 - accuracy: 0.8857\n",
      "Epoch 7/10\n",
      "1875/1875 [==============================] - 2s 833us/step - loss: 0.2966 - accuracy: 0.8914\n",
      "Epoch 8/10\n",
      "1875/1875 [==============================] - 2s 838us/step - loss: 0.2848 - accuracy: 0.8966\n",
      "Epoch 9/10\n",
      "1875/1875 [==============================] - 2s 832us/step - loss: 0.2772 - accuracy: 0.8950\n",
      "Epoch 10/10\n",
      "1875/1875 [==============================] - 2s 830us/step - loss: 0.2702 - accuracy: 0.8985\n",
      "Epoch 1/10\n",
      "1875/1875 [==============================] - 2s 688us/step - loss: 0.9752 - accuracy: 0.6365\n",
      "Epoch 2/10\n",
      "1875/1875 [==============================] - 1s 692us/step - loss: 0.5122 - accuracy: 0.8144\n",
      "Epoch 3/10\n",
      "1875/1875 [==============================] - 1s 693us/step - loss: 0.4535 - accuracy: 0.8360\n",
      "Epoch 4/10\n",
      "1875/1875 [==============================] - 1s 695us/step - loss: 0.4182 - accuracy: 0.8478\n",
      "Epoch 5/10\n",
      "1875/1875 [==============================] - 1s 697us/step - loss: 0.4085 - accuracy: 0.8521\n",
      "Epoch 6/10\n",
      "1875/1875 [==============================] - 1s 695us/step - loss: 0.3933 - accuracy: 0.8573\n",
      "Epoch 7/10\n",
      "1875/1875 [==============================] - 1s 696us/step - loss: 0.3792 - accuracy: 0.8630\n",
      "Epoch 8/10\n",
      "1875/1875 [==============================] - 1s 700us/step - loss: 0.3737 - accuracy: 0.8655\n",
      "Epoch 9/10\n",
      "1875/1875 [==============================] - 1s 695us/step - loss: 0.3595 - accuracy: 0.8680\n",
      "Epoch 10/10\n",
      "1875/1875 [==============================] - 1s 697us/step - loss: 0.3552 - accuracy: 0.8687\n",
      "Epoch 1/10\n",
      "1875/1875 [==============================] - 5s 3ms/step - loss: 0.7438 - accuracy: 0.7194\n",
      "Epoch 2/10\n",
      "1875/1875 [==============================] - 5s 3ms/step - loss: 0.4172 - accuracy: 0.8519\n",
      "Epoch 3/10\n",
      "1875/1875 [==============================] - 5s 3ms/step - loss: 0.3763 - accuracy: 0.8665\n",
      "Epoch 4/10\n",
      "1875/1875 [==============================] - 5s 2ms/step - loss: 0.3485 - accuracy: 0.8751\n",
      "Epoch 5/10\n",
      "1875/1875 [==============================] - 5s 2ms/step - loss: 0.3296 - accuracy: 0.8811\n",
      "Epoch 6/10\n",
      "1875/1875 [==============================] - 5s 2ms/step - loss: 0.3105 - accuracy: 0.8885\n",
      "Epoch 7/10\n",
      "1875/1875 [==============================] - 5s 2ms/step - loss: 0.2991 - accuracy: 0.8930\n",
      "Epoch 8/10\n",
      "1875/1875 [==============================] - 5s 2ms/step - loss: 0.2866 - accuracy: 0.8970\n",
      "Epoch 9/10\n",
      "1875/1875 [==============================] - 5s 3ms/step - loss: 0.2776 - accuracy: 0.8988\n",
      "Epoch 10/10\n",
      "1875/1875 [==============================] - 5s 2ms/step - loss: 0.2689 - accuracy: 0.9013\n",
      "Epoch 1/10\n",
      "1875/1875 [==============================] - 2s 824us/step - loss: 0.8844 - accuracy: 0.6666\n",
      "Epoch 2/10\n",
      "1875/1875 [==============================] - 1s 729us/step - loss: 0.4869 - accuracy: 0.8224\n",
      "Epoch 3/10\n",
      "1875/1875 [==============================] - 1s 723us/step - loss: 0.4407 - accuracy: 0.8401\n",
      "Epoch 4/10\n",
      "1875/1875 [==============================] - 1s 723us/step - loss: 0.4152 - accuracy: 0.8493\n",
      "Epoch 5/10\n",
      "1875/1875 [==============================] - 1s 724us/step - loss: 0.4074 - accuracy: 0.8522\n",
      "Epoch 6/10\n",
      "1875/1875 [==============================] - 1s 723us/step - loss: 0.3982 - accuracy: 0.8561\n",
      "Epoch 7/10\n",
      "1875/1875 [==============================] - 1s 728us/step - loss: 0.3883 - accuracy: 0.8585\n",
      "Epoch 8/10\n",
      "1875/1875 [==============================] - 1s 784us/step - loss: 0.3856 - accuracy: 0.8591\n",
      "Epoch 9/10\n",
      "1875/1875 [==============================] - 1s 724us/step - loss: 0.3733 - accuracy: 0.8643\n",
      "Epoch 10/10\n",
      "1875/1875 [==============================] - 1s 721us/step - loss: 0.3672 - accuracy: 0.8656\n",
      "Epoch 1/10\n",
      "1875/1875 [==============================] - 2s 813us/step - loss: 1.0824 - accuracy: 0.5902\n",
      "Epoch 2/10\n",
      "1875/1875 [==============================] - 2s 809us/step - loss: 0.4383 - accuracy: 0.8417\n",
      "Epoch 3/10\n",
      "1875/1875 [==============================] - 2s 813us/step - loss: 0.3762 - accuracy: 0.8639\n",
      "Epoch 4/10\n",
      "1875/1875 [==============================] - 2s 814us/step - loss: 0.3494 - accuracy: 0.8730\n",
      "Epoch 5/10\n",
      "1875/1875 [==============================] - 2s 813us/step - loss: 0.3292 - accuracy: 0.8819\n",
      "Epoch 6/10\n",
      "1875/1875 [==============================] - 2s 810us/step - loss: 0.3112 - accuracy: 0.8858\n",
      "Epoch 7/10\n",
      "1875/1875 [==============================] - 2s 821us/step - loss: 0.2983 - accuracy: 0.8893\n",
      "Epoch 8/10\n",
      "1875/1875 [==============================] - 2s 809us/step - loss: 0.2923 - accuracy: 0.8932\n",
      "Epoch 9/10\n",
      "1875/1875 [==============================] - 2s 811us/step - loss: 0.2787 - accuracy: 0.8981\n",
      "Epoch 10/10\n",
      "1875/1875 [==============================] - 2s 812us/step - loss: 0.2720 - accuracy: 0.8990\n",
      "Epoch 1/10\n",
      "1875/1875 [==============================] - 2s 691us/step - loss: 1.0811 - accuracy: 0.5875\n",
      "Epoch 2/10\n",
      "1875/1875 [==============================] - 1s 690us/step - loss: 0.5284 - accuracy: 0.8078\n",
      "Epoch 3/10\n",
      "1875/1875 [==============================] - 1s 690us/step - loss: 0.4500 - accuracy: 0.8383\n",
      "Epoch 4/10\n",
      "1875/1875 [==============================] - 1s 691us/step - loss: 0.4158 - accuracy: 0.8495\n",
      "Epoch 5/10\n",
      "1875/1875 [==============================] - 1s 686us/step - loss: 0.3949 - accuracy: 0.8579\n",
      "Epoch 6/10\n"
     ]
    },
    {
     "name": "stdout",
     "output_type": "stream",
     "text": [
      "1875/1875 [==============================] - 1s 691us/step - loss: 0.3868 - accuracy: 0.8583\n",
      "Epoch 7/10\n",
      "1875/1875 [==============================] - 1s 689us/step - loss: 0.3748 - accuracy: 0.8628\n",
      "Epoch 8/10\n",
      "1875/1875 [==============================] - 1s 689us/step - loss: 0.3760 - accuracy: 0.8607\n",
      "Epoch 9/10\n",
      "1875/1875 [==============================] - 1s 691us/step - loss: 0.3655 - accuracy: 0.8669\n",
      "Epoch 10/10\n",
      "1875/1875 [==============================] - 1s 686us/step - loss: 0.3552 - accuracy: 0.8691\n",
      "Epoch 1/10\n",
      "1875/1875 [==============================] - 8s 4ms/step - loss: 0.7489 - accuracy: 0.7235\n",
      "Epoch 2/10\n",
      "1875/1875 [==============================] - 8s 4ms/step - loss: 0.4419 - accuracy: 0.8456\n",
      "Epoch 3/10\n",
      "1875/1875 [==============================] - 8s 4ms/step - loss: 0.3878 - accuracy: 0.8644\n",
      "Epoch 4/10\n",
      "1875/1875 [==============================] - 8s 4ms/step - loss: 0.3539 - accuracy: 0.8763\n",
      "Epoch 5/10\n",
      "1875/1875 [==============================] - 8s 4ms/step - loss: 0.3388 - accuracy: 0.8806\n",
      "Epoch 6/10\n",
      "1875/1875 [==============================] - 8s 4ms/step - loss: 0.3209 - accuracy: 0.8852\n",
      "Epoch 7/10\n",
      "1875/1875 [==============================] - 8s 4ms/step - loss: 0.3136 - accuracy: 0.8877\n",
      "Epoch 8/10\n",
      "1875/1875 [==============================] - 8s 4ms/step - loss: 0.2965 - accuracy: 0.8935\n",
      "Epoch 9/10\n",
      "1875/1875 [==============================] - 8s 4ms/step - loss: 0.2887 - accuracy: 0.8956\n",
      "Epoch 10/10\n",
      "1875/1875 [==============================] - 8s 4ms/step - loss: 0.2816 - accuracy: 0.8983\n",
      "Epoch 1/10\n",
      "1875/1875 [==============================] - 2s 724us/step - loss: 0.8947 - accuracy: 0.6664\n",
      "Epoch 2/10\n",
      "1875/1875 [==============================] - 1s 751us/step - loss: 0.4788 - accuracy: 0.8275\n",
      "Epoch 3/10\n",
      "1875/1875 [==============================] - 1s 777us/step - loss: 0.4403 - accuracy: 0.8413\n",
      "Epoch 4/10\n",
      "1875/1875 [==============================] - 1s 723us/step - loss: 0.4120 - accuracy: 0.8496\n",
      "Epoch 5/10\n",
      "1875/1875 [==============================] - 1s 727us/step - loss: 0.3901 - accuracy: 0.8583\n",
      "Epoch 6/10\n",
      "1875/1875 [==============================] - 1s 727us/step - loss: 0.3774 - accuracy: 0.8634\n",
      "Epoch 7/10\n",
      "1875/1875 [==============================] - 1s 730us/step - loss: 0.3696 - accuracy: 0.8642\n",
      "Epoch 8/10\n",
      "1875/1875 [==============================] - 1s 730us/step - loss: 0.3618 - accuracy: 0.8658\n",
      "Epoch 9/10\n",
      "1875/1875 [==============================] - 1s 729us/step - loss: 0.3591 - accuracy: 0.8682\n",
      "Epoch 10/10\n",
      "1875/1875 [==============================] - 1s 724us/step - loss: 0.3434 - accuracy: 0.8734\n",
      "Epoch 1/10\n",
      "1875/1875 [==============================] - 2s 808us/step - loss: 0.8653 - accuracy: 0.6774\n",
      "Epoch 2/10\n",
      "1875/1875 [==============================] - 2s 810us/step - loss: 0.4302 - accuracy: 0.8445\n",
      "Epoch 3/10\n",
      "1875/1875 [==============================] - 2s 810us/step - loss: 0.3714 - accuracy: 0.8654\n",
      "Epoch 4/10\n",
      "1875/1875 [==============================] - 2s 810us/step - loss: 0.3475 - accuracy: 0.8721\n",
      "Epoch 5/10\n",
      "1875/1875 [==============================] - 2s 815us/step - loss: 0.3354 - accuracy: 0.8774\n",
      "Epoch 6/10\n",
      "1875/1875 [==============================] - 2s 819us/step - loss: 0.3142 - accuracy: 0.8855\n",
      "Epoch 7/10\n",
      "1875/1875 [==============================] - 2s 816us/step - loss: 0.2999 - accuracy: 0.8910\n",
      "Epoch 8/10\n",
      "1875/1875 [==============================] - 2s 816us/step - loss: 0.2987 - accuracy: 0.8900\n",
      "Epoch 9/10\n",
      "1875/1875 [==============================] - 2s 813us/step - loss: 0.2827 - accuracy: 0.8967\n",
      "Epoch 10/10\n",
      "1875/1875 [==============================] - 2s 822us/step - loss: 0.2728 - accuracy: 0.8990\n",
      "Epoch 1/10\n",
      "1875/1875 [==============================] - 2s 682us/step - loss: 0.9886 - accuracy: 0.6281\n",
      "Epoch 2/10\n",
      "1875/1875 [==============================] - 1s 681us/step - loss: 0.4916 - accuracy: 0.8268\n",
      "Epoch 3/10\n",
      "1875/1875 [==============================] - 1s 683us/step - loss: 0.4513 - accuracy: 0.8382\n",
      "Epoch 4/10\n",
      "1875/1875 [==============================] - 1s 692us/step - loss: 0.4258 - accuracy: 0.8446\n",
      "Epoch 5/10\n",
      "1875/1875 [==============================] - 1s 688us/step - loss: 0.4051 - accuracy: 0.8520\n",
      "Epoch 6/10\n",
      "1875/1875 [==============================] - 1s 690us/step - loss: 0.3949 - accuracy: 0.8518\n",
      "Epoch 7/10\n",
      "1875/1875 [==============================] - 1s 690us/step - loss: 0.3876 - accuracy: 0.8559\n",
      "Epoch 8/10\n",
      "1875/1875 [==============================] - 1s 692us/step - loss: 0.3760 - accuracy: 0.8616\n",
      "Epoch 9/10\n",
      "1875/1875 [==============================] - 1s 702us/step - loss: 0.3734 - accuracy: 0.8621\n",
      "Epoch 10/10\n",
      "1875/1875 [==============================] - 1s 692us/step - loss: 0.3682 - accuracy: 0.8645\n"
     ]
    }
   ],
   "source": [
    "for model in extra_models:\n",
    "    model.fit(x_train, y_train, epochs=10)"
   ]
  },
  {
   "cell_type": "markdown",
   "metadata": {},
   "source": [
    "#### Accuracy on hold-out set"
   ]
  },
  {
   "cell_type": "code",
   "execution_count": 32,
   "metadata": {},
   "outputs": [],
   "source": [
    "extra_test_accuracies=[]\n",
    "for model in extra_models:\n",
    "    _,test_acc = model.evaluate(x_test,  y_test, verbose=0)\n",
    "    extra_test_accuracies.append(test_acc)"
   ]
  },
  {
   "cell_type": "code",
   "execution_count": 34,
   "metadata": {},
   "outputs": [
    {
     "name": "stdout",
     "output_type": "stream",
     "text": [
      "Best accuracy : 0.8841999769210815\n",
      "Best model index: 0\n"
     ]
    }
   ],
   "source": [
    "print('Best accuracy : ' + str(np.max(extra_test_accuracies)))\n",
    "print('Best model index: ' + str(np.argmax(extra_test_accuracies)))"
   ]
  },
  {
   "cell_type": "markdown",
   "metadata": {},
   "source": [
    "### The best model is : 5 layers and 100 units (fixed). But the prevous best model has better accuracy."
   ]
  },
  {
   "cell_type": "markdown",
   "metadata": {},
   "source": [
    "#### Overfitting"
   ]
  },
  {
   "cell_type": "code",
   "execution_count": 33,
   "metadata": {},
   "outputs": [],
   "source": [
    "extra_train_accuracies=[]\n",
    "for model in extra_models:\n",
    "    _,train_acc = model.evaluate(x_train,  y_train, verbose=0)\n",
    "    extra_train_accuracies.append(train_acc)"
   ]
  },
  {
   "cell_type": "code",
   "execution_count": 49,
   "metadata": {},
   "outputs": [
    {
     "name": "stdout",
     "output_type": "stream",
     "text": [
      "The model using 5 layers and 100 units is overfitting because test accuracy is less than train accuracy\n",
      "The model using 5 layers and 100 units is overfitting because test accuracy is less than train accuracy\n",
      "The model using 5 layers and 100 units is overfitting because test accuracy is less than train accuracy\n",
      "The model using 5 layers and 100 units is overfitting because test accuracy is less than train accuracy\n",
      "The model using 5 layers and 200 units is overfitting because test accuracy is less than train accuracy\n",
      "The model using 5 layers and 200 units is overfitting because test accuracy is less than train accuracy\n",
      "The model using 5 layers and 200 units is overfitting because test accuracy is less than train accuracy\n",
      "The model using 5 layers and 200 units is overfitting because test accuracy is less than train accuracy\n",
      "The model using 5 layers and 300 units is overfitting because test accuracy is less than train accuracy\n",
      "The model using 5 layers and 300 units is overfitting because test accuracy is less than train accuracy\n",
      "The model using 5 layers and 300 units is overfitting because test accuracy is less than train accuracy\n",
      "The model using 5 layers and 300 units is overfitting because test accuracy is less than train accuracy\n",
      "The model using 7 layers and 100 units is overfitting because test accuracy is less than train accuracy\n",
      "The model using 7 layers and 100 units is overfitting because test accuracy is less than train accuracy\n",
      "The model using 7 layers and 100 units is overfitting because test accuracy is less than train accuracy\n",
      "The model using 7 layers and 100 units is overfitting because test accuracy is less than train accuracy\n",
      "The model using 7 layers and 200 units is overfitting because test accuracy is less than train accuracy\n",
      "The model using 7 layers and 200 units is overfitting because test accuracy is less than train accuracy\n",
      "The model using 7 layers and 200 units is overfitting because test accuracy is less than train accuracy\n",
      "The model using 7 layers and 200 units is overfitting because test accuracy is less than train accuracy\n",
      "The model using 7 layers and 300 units is overfitting because test accuracy is less than train accuracy\n",
      "The model using 7 layers and 300 units is overfitting because test accuracy is less than train accuracy\n",
      "The model using 7 layers and 300 units is overfitting because test accuracy is less than train accuracy\n",
      "The model using 7 layers and 300 units is overfitting because test accuracy is less than train accuracy\n",
      "The model using 9 layers and 100 units is overfitting because test accuracy is less than train accuracy\n",
      "The model using 9 layers and 100 units is overfitting because test accuracy is less than train accuracy\n",
      "The model using 9 layers and 100 units is overfitting because test accuracy is less than train accuracy\n",
      "The model using 9 layers and 100 units is overfitting because test accuracy is less than train accuracy\n",
      "The model using 9 layers and 200 units is overfitting because test accuracy is less than train accuracy\n",
      "The model using 9 layers and 200 units is overfitting because test accuracy is less than train accuracy\n",
      "The model using 9 layers and 200 units is overfitting because test accuracy is less than train accuracy\n",
      "The model using 9 layers and 200 units is overfitting because test accuracy is less than train accuracy\n",
      "The model using 9 layers and 300 units is overfitting because test accuracy is less than train accuracy\n",
      "The model using 9 layers and 300 units is overfitting because test accuracy is less than train accuracy\n",
      "The model using 9 layers and 300 units is overfitting because test accuracy is less than train accuracy\n",
      "The model using 9 layers and 300 units is overfitting because test accuracy is less than train accuracy\n"
     ]
    }
   ],
   "source": [
    "layers=[5,7,9]\n",
    "units=[100,200,300]\n",
    "patterns=['fixed','increasing','decreasing','custom']\n",
    "i=0\n",
    "for n_layers in layers:\n",
    "    for n_units in units:\n",
    "        for pattern in patterns:\n",
    "            if extra_train_accuracies[i] > extra_test_accuracies[i]:\n",
    "                print('The model using {} layers and {} units is overfitting because test accuracy is less than train accuracy'.format(n_layers,n_units))\n",
    "    i+=1"
   ]
  },
  {
   "cell_type": "markdown",
   "metadata": {},
   "source": [
    "### We can see that all model are overfitting"
   ]
  },
  {
   "cell_type": "markdown",
   "metadata": {},
   "source": [
    "# Last Cell"
   ]
  },
  {
   "cell_type": "code",
   "execution_count": 17,
   "metadata": {},
   "outputs": [],
   "source": [
    "import os\n",
    "from tensorflow.keras.models import load_model\n",
    "import numpy as np\n",
    "import tensorflow as tf\n",
    "\n",
    "modelName = \"assignment7_best_model\"\n",
    "model_path = os.path.join(\".\", modelName)   \n",
    "\n",
    "def saveModel(model, model_path): \n",
    "    try:\n",
    "        os.makedirs(model_path)\n",
    "    except OSError:\n",
    "        print(\"Directory {dir:s} already exists, files will be over-written.\".format(dir=model_path))\n",
    "        \n",
    "    # Save JSON config to disk\n",
    "    json_config = model.to_json()\n",
    "    with open(os.path.join(model_path, 'config.json'), 'w') as json_file:\n",
    "        json_file.write(json_config)\n",
    "    # Save weights to disk\n",
    "    model.save_weights(os.path.join(model_path, 'weights.h5'))\n",
    "    \n",
    "    print(\"Model saved in directory {dir:s}; create an archive of this directory and submit with your assignment.\".format(dir=model_path))\n",
    "    \n",
    "def loadModel(model_path):\n",
    "    # Reload the model from the 2 files we saved\n",
    "    with open(os.path.join(model_path, 'config.json')) as json_file:\n",
    "        json_config = json_file.read()\n",
    "    model = tf.keras.models.model_from_json(json_config)\n",
    "    model.load_weights(os.path.join(model_path, 'weights.h5'))\n",
    "    \n",
    "    return model\n",
    "\n",
    "def MyModel(x_test, y_test, model_path):\n",
    "    # YOU MAY NOT change model after this statement !\n",
    "    model = loadModel(model_path)\n",
    "    \n",
    "    # It should run model to create an array of predictions; we initialize it to the empty array for convenience\n",
    "    predictions = []\n",
    "    \n",
    "    x_test = x_test / 255.0\n",
    "    \n",
    "    predictions = np.argmax(model.predict(x_test), axis=-1)\n",
    "    \n",
    "    \n",
    "    return predictions\n",
    "\n",
    "# Assign to variable my_model the model that solves task 3.2\n",
    "my_model = models[8]\n",
    "\n",
    "saveModel(my_model, model_path)\n",
    "predicts = MyModel(x_test, y_test, model_path)"
   ]
  },
  {
   "cell_type": "code",
   "execution_count": null,
   "metadata": {},
   "outputs": [],
   "source": []
  }
 ],
 "metadata": {
  "kernelspec": {
   "display_name": "Python 3",
   "language": "python",
   "name": "python3"
  },
  "language_info": {
   "codemirror_mode": {
    "name": "ipython",
    "version": 3
   },
   "file_extension": ".py",
   "mimetype": "text/x-python",
   "name": "python",
   "nbconvert_exporter": "python",
   "pygments_lexer": "ipython3",
   "version": "3.8.5"
  },
  "toc": {
   "base_numbering": 1,
   "nav_menu": {},
   "number_sections": true,
   "sideBar": true,
   "skip_h1_title": false,
   "title_cell": "Table of Contents",
   "title_sidebar": "Contents",
   "toc_cell": false,
   "toc_position": {},
   "toc_section_display": true,
   "toc_window_display": false
  }
 },
 "nbformat": 4,
 "nbformat_minor": 2
}
