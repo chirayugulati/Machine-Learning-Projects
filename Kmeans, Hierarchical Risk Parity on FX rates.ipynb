{
 "cells": [
  {
   "cell_type": "markdown",
   "metadata": {},
   "source": [
    "Author: Chirayu Gulati"
   ]
  },
  {
   "cell_type": "markdown",
   "metadata": {},
   "source": [
    "# Problem 1:"
   ]
  },
  {
   "cell_type": "code",
   "execution_count": 1,
   "metadata": {},
   "outputs": [],
   "source": [
    "import numpy as np\n",
    "import pandas as pd\n",
    "\n",
    "%matplotlib inline\n",
    "import matplotlib.pyplot as plt\n",
    "import seaborn as sns; sns.set()"
   ]
  },
  {
   "cell_type": "markdown",
   "metadata": {},
   "source": [
    "### a) Importing FX spot rates"
   ]
  },
  {
   "cell_type": "code",
   "execution_count": 2,
   "metadata": {},
   "outputs": [],
   "source": [
    "FX_spot = pd.read_excel('Currencies_1yr.xlsx')\n",
    "FX_spot = FX_spot.iloc[1:len(FX_spot),:]\n",
    "FX_spot.iloc[:,0] = pd.to_datetime(FX_spot.iloc[:,0])\n",
    "FX_spot = FX_spot.set_index(FX_spot.iloc[:,0].values)\n",
    "FX_spot = FX_spot.iloc[:,2:len(FX_spot.columns)]"
   ]
  },
  {
   "cell_type": "code",
   "execution_count": 3,
   "metadata": {},
   "outputs": [
    {
     "data": {
      "text/html": [
       "<div>\n",
       "<style scoped>\n",
       "    .dataframe tbody tr th:only-of-type {\n",
       "        vertical-align: middle;\n",
       "    }\n",
       "\n",
       "    .dataframe tbody tr th {\n",
       "        vertical-align: top;\n",
       "    }\n",
       "\n",
       "    .dataframe thead th {\n",
       "        text-align: right;\n",
       "    }\n",
       "</style>\n",
       "<table border=\"1\" class=\"dataframe\">\n",
       "  <thead>\n",
       "    <tr style=\"text-align: right;\">\n",
       "      <th></th>\n",
       "      <th>EUR Curncy</th>\n",
       "      <th>GBP Curncy</th>\n",
       "      <th>JPY Curncy</th>\n",
       "      <th>AUD Curncy</th>\n",
       "      <th>NZD Curncy</th>\n",
       "      <th>CAD Curncy</th>\n",
       "      <th>CHF Curncy</th>\n",
       "      <th>NOK Curncy</th>\n",
       "      <th>SEK Curncy</th>\n",
       "      <th>RUB Curncy</th>\n",
       "      <th>CNY Curncy</th>\n",
       "      <th>INR Curncy</th>\n",
       "      <th>TRY Curncy</th>\n",
       "      <th>SGD Curncy</th>\n",
       "      <th>CZK Curncy</th>\n",
       "      <th>DKK Curncy</th>\n",
       "      <th>HRK Curncy</th>\n",
       "      <th>RSD Curncy</th>\n",
       "      <th>AMD Curncy</th>\n",
       "    </tr>\n",
       "  </thead>\n",
       "  <tbody>\n",
       "    <tr>\n",
       "      <th>2019-08-15</th>\n",
       "      <td>1.1107</td>\n",
       "      <td>1.2088</td>\n",
       "      <td>106.12</td>\n",
       "      <td>0.6775</td>\n",
       "      <td>0.6449</td>\n",
       "      <td>1.3313</td>\n",
       "      <td>0.9765</td>\n",
       "      <td>9.0209</td>\n",
       "      <td>9.6436</td>\n",
       "      <td>66.0558</td>\n",
       "      <td>7.0340</td>\n",
       "      <td>71.2738</td>\n",
       "      <td>5.5672</td>\n",
       "      <td>1.3890</td>\n",
       "      <td>23.2636</td>\n",
       "      <td>6.7157</td>\n",
       "      <td>6.6518</td>\n",
       "      <td>105.9878</td>\n",
       "      <td>475.85</td>\n",
       "    </tr>\n",
       "    <tr>\n",
       "      <th>2019-08-16</th>\n",
       "      <td>1.1090</td>\n",
       "      <td>1.2149</td>\n",
       "      <td>106.38</td>\n",
       "      <td>0.6779</td>\n",
       "      <td>0.6429</td>\n",
       "      <td>1.3269</td>\n",
       "      <td>0.9783</td>\n",
       "      <td>9.0053</td>\n",
       "      <td>9.6648</td>\n",
       "      <td>66.5160</td>\n",
       "      <td>7.0428</td>\n",
       "      <td>71.1550</td>\n",
       "      <td>5.5796</td>\n",
       "      <td>1.3845</td>\n",
       "      <td>23.2085</td>\n",
       "      <td>6.7232</td>\n",
       "      <td>6.6618</td>\n",
       "      <td>106.1769</td>\n",
       "      <td>475.90</td>\n",
       "    </tr>\n",
       "    <tr>\n",
       "      <th>2019-08-19</th>\n",
       "      <td>1.1078</td>\n",
       "      <td>1.2126</td>\n",
       "      <td>106.64</td>\n",
       "      <td>0.6764</td>\n",
       "      <td>0.6411</td>\n",
       "      <td>1.3324</td>\n",
       "      <td>0.9817</td>\n",
       "      <td>8.9784</td>\n",
       "      <td>9.6872</td>\n",
       "      <td>66.9160</td>\n",
       "      <td>7.0507</td>\n",
       "      <td>71.4425</td>\n",
       "      <td>5.6603</td>\n",
       "      <td>1.3866</td>\n",
       "      <td>23.2839</td>\n",
       "      <td>6.7316</td>\n",
       "      <td>6.6681</td>\n",
       "      <td>106.2881</td>\n",
       "      <td>476.00</td>\n",
       "    </tr>\n",
       "    <tr>\n",
       "      <th>2019-08-20</th>\n",
       "      <td>1.1100</td>\n",
       "      <td>1.2170</td>\n",
       "      <td>106.23</td>\n",
       "      <td>0.6778</td>\n",
       "      <td>0.6416</td>\n",
       "      <td>1.3319</td>\n",
       "      <td>0.9780</td>\n",
       "      <td>8.9829</td>\n",
       "      <td>9.6934</td>\n",
       "      <td>66.5471</td>\n",
       "      <td>7.0605</td>\n",
       "      <td>71.7100</td>\n",
       "      <td>5.7314</td>\n",
       "      <td>1.3849</td>\n",
       "      <td>23.2332</td>\n",
       "      <td>6.7166</td>\n",
       "      <td>6.6514</td>\n",
       "      <td>106.1138</td>\n",
       "      <td>475.85</td>\n",
       "    </tr>\n",
       "    <tr>\n",
       "      <th>2019-08-21</th>\n",
       "      <td>1.1085</td>\n",
       "      <td>1.2130</td>\n",
       "      <td>106.62</td>\n",
       "      <td>0.6781</td>\n",
       "      <td>0.6404</td>\n",
       "      <td>1.3291</td>\n",
       "      <td>0.9819</td>\n",
       "      <td>8.9448</td>\n",
       "      <td>9.6258</td>\n",
       "      <td>65.7629</td>\n",
       "      <td>7.0627</td>\n",
       "      <td>71.5587</td>\n",
       "      <td>5.7166</td>\n",
       "      <td>1.3836</td>\n",
       "      <td>23.2620</td>\n",
       "      <td>6.7260</td>\n",
       "      <td>6.6602</td>\n",
       "      <td>106.2256</td>\n",
       "      <td>475.84</td>\n",
       "    </tr>\n",
       "  </tbody>\n",
       "</table>\n",
       "</div>"
      ],
      "text/plain": [
       "            EUR Curncy  GBP Curncy  JPY Curncy  AUD Curncy  NZD Curncy  \\\n",
       "2019-08-15      1.1107      1.2088      106.12      0.6775      0.6449   \n",
       "2019-08-16      1.1090      1.2149      106.38      0.6779      0.6429   \n",
       "2019-08-19      1.1078      1.2126      106.64      0.6764      0.6411   \n",
       "2019-08-20      1.1100      1.2170      106.23      0.6778      0.6416   \n",
       "2019-08-21      1.1085      1.2130      106.62      0.6781      0.6404   \n",
       "\n",
       "            CAD Curncy  CHF Curncy  NOK Curncy  SEK Curncy  RUB Curncy  \\\n",
       "2019-08-15      1.3313      0.9765      9.0209      9.6436     66.0558   \n",
       "2019-08-16      1.3269      0.9783      9.0053      9.6648     66.5160   \n",
       "2019-08-19      1.3324      0.9817      8.9784      9.6872     66.9160   \n",
       "2019-08-20      1.3319      0.9780      8.9829      9.6934     66.5471   \n",
       "2019-08-21      1.3291      0.9819      8.9448      9.6258     65.7629   \n",
       "\n",
       "            CNY Curncy  INR Curncy  TRY Curncy  SGD Curncy  CZK Curncy  \\\n",
       "2019-08-15      7.0340     71.2738      5.5672      1.3890     23.2636   \n",
       "2019-08-16      7.0428     71.1550      5.5796      1.3845     23.2085   \n",
       "2019-08-19      7.0507     71.4425      5.6603      1.3866     23.2839   \n",
       "2019-08-20      7.0605     71.7100      5.7314      1.3849     23.2332   \n",
       "2019-08-21      7.0627     71.5587      5.7166      1.3836     23.2620   \n",
       "\n",
       "            DKK Curncy  HRK Curncy  RSD Curncy  AMD Curncy  \n",
       "2019-08-15      6.7157      6.6518    105.9878      475.85  \n",
       "2019-08-16      6.7232      6.6618    106.1769      475.90  \n",
       "2019-08-19      6.7316      6.6681    106.2881      476.00  \n",
       "2019-08-20      6.7166      6.6514    106.1138      475.85  \n",
       "2019-08-21      6.7260      6.6602    106.2256      475.84  "
      ]
     },
     "execution_count": 3,
     "metadata": {},
     "output_type": "execute_result"
    }
   ],
   "source": [
    "FX_spot.head()"
   ]
  },
  {
   "cell_type": "code",
   "execution_count": 4,
   "metadata": {},
   "outputs": [
    {
     "data": {
      "text/html": [
       "<div>\n",
       "<style scoped>\n",
       "    .dataframe tbody tr th:only-of-type {\n",
       "        vertical-align: middle;\n",
       "    }\n",
       "\n",
       "    .dataframe tbody tr th {\n",
       "        vertical-align: top;\n",
       "    }\n",
       "\n",
       "    .dataframe thead th {\n",
       "        text-align: right;\n",
       "    }\n",
       "</style>\n",
       "<table border=\"1\" class=\"dataframe\">\n",
       "  <thead>\n",
       "    <tr style=\"text-align: right;\">\n",
       "      <th></th>\n",
       "      <th>EUR Curncy</th>\n",
       "      <th>GBP Curncy</th>\n",
       "      <th>JPY Curncy</th>\n",
       "      <th>AUD Curncy</th>\n",
       "      <th>NZD Curncy</th>\n",
       "      <th>CAD Curncy</th>\n",
       "      <th>CHF Curncy</th>\n",
       "      <th>NOK Curncy</th>\n",
       "      <th>SEK Curncy</th>\n",
       "      <th>RUB Curncy</th>\n",
       "      <th>CNY Curncy</th>\n",
       "      <th>INR Curncy</th>\n",
       "      <th>TRY Curncy</th>\n",
       "      <th>SGD Curncy</th>\n",
       "      <th>CZK Curncy</th>\n",
       "      <th>DKK Curncy</th>\n",
       "      <th>HRK Curncy</th>\n",
       "      <th>RSD Curncy</th>\n",
       "      <th>AMD Curncy</th>\n",
       "    </tr>\n",
       "  </thead>\n",
       "  <tbody>\n",
       "    <tr>\n",
       "      <th>2020-09-07</th>\n",
       "      <td>1.1817</td>\n",
       "      <td>1.3166</td>\n",
       "      <td>106.27</td>\n",
       "      <td>0.7277</td>\n",
       "      <td>0.6692</td>\n",
       "      <td>1.3098</td>\n",
       "      <td>0.9161</td>\n",
       "      <td>8.9330</td>\n",
       "      <td>8.7704</td>\n",
       "      <td>75.7612</td>\n",
       "      <td>6.8305</td>\n",
       "      <td>73.3475</td>\n",
       "      <td>7.4501</td>\n",
       "      <td>1.3662</td>\n",
       "      <td>22.3999</td>\n",
       "      <td>6.2968</td>\n",
       "      <td>6.3785</td>\n",
       "      <td>99.5967</td>\n",
       "      <td>488.19</td>\n",
       "    </tr>\n",
       "    <tr>\n",
       "      <th>2020-09-08</th>\n",
       "      <td>1.1778</td>\n",
       "      <td>1.2982</td>\n",
       "      <td>106.03</td>\n",
       "      <td>0.7214</td>\n",
       "      <td>0.6619</td>\n",
       "      <td>1.3236</td>\n",
       "      <td>0.9178</td>\n",
       "      <td>9.1305</td>\n",
       "      <td>8.8310</td>\n",
       "      <td>76.2943</td>\n",
       "      <td>6.8464</td>\n",
       "      <td>73.5988</td>\n",
       "      <td>7.4849</td>\n",
       "      <td>1.3708</td>\n",
       "      <td>22.5171</td>\n",
       "      <td>6.3191</td>\n",
       "      <td>6.3982</td>\n",
       "      <td>99.9694</td>\n",
       "      <td>488.66</td>\n",
       "    </tr>\n",
       "    <tr>\n",
       "      <th>2020-09-09</th>\n",
       "      <td>1.1803</td>\n",
       "      <td>1.3002</td>\n",
       "      <td>106.18</td>\n",
       "      <td>0.7283</td>\n",
       "      <td>0.6684</td>\n",
       "      <td>1.3146</td>\n",
       "      <td>0.9124</td>\n",
       "      <td>9.0189</td>\n",
       "      <td>8.7465</td>\n",
       "      <td>75.3250</td>\n",
       "      <td>6.8333</td>\n",
       "      <td>73.5375</td>\n",
       "      <td>7.4879</td>\n",
       "      <td>1.3664</td>\n",
       "      <td>22.4496</td>\n",
       "      <td>6.3037</td>\n",
       "      <td>6.3811</td>\n",
       "      <td>99.6939</td>\n",
       "      <td>488.75</td>\n",
       "    </tr>\n",
       "    <tr>\n",
       "      <th>2020-09-10</th>\n",
       "      <td>1.1815</td>\n",
       "      <td>1.2805</td>\n",
       "      <td>106.13</td>\n",
       "      <td>0.7258</td>\n",
       "      <td>0.6651</td>\n",
       "      <td>1.3192</td>\n",
       "      <td>0.9106</td>\n",
       "      <td>9.0761</td>\n",
       "      <td>8.7760</td>\n",
       "      <td>75.2203</td>\n",
       "      <td>6.8343</td>\n",
       "      <td>73.4587</td>\n",
       "      <td>7.4494</td>\n",
       "      <td>1.3699</td>\n",
       "      <td>22.5110</td>\n",
       "      <td>6.2978</td>\n",
       "      <td>6.3794</td>\n",
       "      <td>99.6110</td>\n",
       "      <td>488.96</td>\n",
       "    </tr>\n",
       "    <tr>\n",
       "      <th>2020-09-11</th>\n",
       "      <td>1.1846</td>\n",
       "      <td>1.2796</td>\n",
       "      <td>106.16</td>\n",
       "      <td>0.7284</td>\n",
       "      <td>0.6666</td>\n",
       "      <td>1.3179</td>\n",
       "      <td>0.9089</td>\n",
       "      <td>9.0371</td>\n",
       "      <td>8.7761</td>\n",
       "      <td>75.0403</td>\n",
       "      <td>6.8344</td>\n",
       "      <td>73.5400</td>\n",
       "      <td>7.4761</td>\n",
       "      <td>1.3678</td>\n",
       "      <td>22.4352</td>\n",
       "      <td>6.2803</td>\n",
       "      <td>6.3684</td>\n",
       "      <td>99.3728</td>\n",
       "      <td>488.15</td>\n",
       "    </tr>\n",
       "  </tbody>\n",
       "</table>\n",
       "</div>"
      ],
      "text/plain": [
       "            EUR Curncy  GBP Curncy  JPY Curncy  AUD Curncy  NZD Curncy  \\\n",
       "2020-09-07      1.1817      1.3166      106.27      0.7277      0.6692   \n",
       "2020-09-08      1.1778      1.2982      106.03      0.7214      0.6619   \n",
       "2020-09-09      1.1803      1.3002      106.18      0.7283      0.6684   \n",
       "2020-09-10      1.1815      1.2805      106.13      0.7258      0.6651   \n",
       "2020-09-11      1.1846      1.2796      106.16      0.7284      0.6666   \n",
       "\n",
       "            CAD Curncy  CHF Curncy  NOK Curncy  SEK Curncy  RUB Curncy  \\\n",
       "2020-09-07      1.3098      0.9161      8.9330      8.7704     75.7612   \n",
       "2020-09-08      1.3236      0.9178      9.1305      8.8310     76.2943   \n",
       "2020-09-09      1.3146      0.9124      9.0189      8.7465     75.3250   \n",
       "2020-09-10      1.3192      0.9106      9.0761      8.7760     75.2203   \n",
       "2020-09-11      1.3179      0.9089      9.0371      8.7761     75.0403   \n",
       "\n",
       "            CNY Curncy  INR Curncy  TRY Curncy  SGD Curncy  CZK Curncy  \\\n",
       "2020-09-07      6.8305     73.3475      7.4501      1.3662     22.3999   \n",
       "2020-09-08      6.8464     73.5988      7.4849      1.3708     22.5171   \n",
       "2020-09-09      6.8333     73.5375      7.4879      1.3664     22.4496   \n",
       "2020-09-10      6.8343     73.4587      7.4494      1.3699     22.5110   \n",
       "2020-09-11      6.8344     73.5400      7.4761      1.3678     22.4352   \n",
       "\n",
       "            DKK Curncy  HRK Curncy  RSD Curncy  AMD Curncy  \n",
       "2020-09-07      6.2968      6.3785     99.5967      488.19  \n",
       "2020-09-08      6.3191      6.3982     99.9694      488.66  \n",
       "2020-09-09      6.3037      6.3811     99.6939      488.75  \n",
       "2020-09-10      6.2978      6.3794     99.6110      488.96  \n",
       "2020-09-11      6.2803      6.3684     99.3728      488.15  "
      ]
     },
     "execution_count": 4,
     "metadata": {},
     "output_type": "execute_result"
    }
   ],
   "source": [
    "FX_spot.tail()"
   ]
  },
  {
   "cell_type": "markdown",
   "metadata": {},
   "source": [
    "### b) Daily return "
   ]
  },
  {
   "cell_type": "code",
   "execution_count": 5,
   "metadata": {},
   "outputs": [],
   "source": [
    "FX_ret = FX_spot.pct_change().iloc[1:,:]"
   ]
  },
  {
   "cell_type": "code",
   "execution_count": 6,
   "metadata": {},
   "outputs": [
    {
     "data": {
      "text/html": [
       "<div>\n",
       "<style scoped>\n",
       "    .dataframe tbody tr th:only-of-type {\n",
       "        vertical-align: middle;\n",
       "    }\n",
       "\n",
       "    .dataframe tbody tr th {\n",
       "        vertical-align: top;\n",
       "    }\n",
       "\n",
       "    .dataframe thead th {\n",
       "        text-align: right;\n",
       "    }\n",
       "</style>\n",
       "<table border=\"1\" class=\"dataframe\">\n",
       "  <thead>\n",
       "    <tr style=\"text-align: right;\">\n",
       "      <th></th>\n",
       "      <th>EUR Curncy</th>\n",
       "      <th>GBP Curncy</th>\n",
       "      <th>JPY Curncy</th>\n",
       "      <th>AUD Curncy</th>\n",
       "      <th>NZD Curncy</th>\n",
       "      <th>CAD Curncy</th>\n",
       "      <th>CHF Curncy</th>\n",
       "      <th>NOK Curncy</th>\n",
       "      <th>SEK Curncy</th>\n",
       "      <th>RUB Curncy</th>\n",
       "      <th>CNY Curncy</th>\n",
       "      <th>INR Curncy</th>\n",
       "      <th>TRY Curncy</th>\n",
       "      <th>SGD Curncy</th>\n",
       "      <th>CZK Curncy</th>\n",
       "      <th>DKK Curncy</th>\n",
       "      <th>HRK Curncy</th>\n",
       "      <th>RSD Curncy</th>\n",
       "      <th>AMD Curncy</th>\n",
       "    </tr>\n",
       "  </thead>\n",
       "  <tbody>\n",
       "    <tr>\n",
       "      <th>2019-08-16</th>\n",
       "      <td>-0.001531</td>\n",
       "      <td>0.005046</td>\n",
       "      <td>0.002450</td>\n",
       "      <td>0.000590</td>\n",
       "      <td>-0.003101</td>\n",
       "      <td>-0.003305</td>\n",
       "      <td>0.001843</td>\n",
       "      <td>-0.001729</td>\n",
       "      <td>0.002198</td>\n",
       "      <td>0.006967</td>\n",
       "      <td>0.001251</td>\n",
       "      <td>-0.001667</td>\n",
       "      <td>0.002227</td>\n",
       "      <td>-0.003240</td>\n",
       "      <td>-0.002369</td>\n",
       "      <td>0.001117</td>\n",
       "      <td>0.001503</td>\n",
       "      <td>0.001784</td>\n",
       "      <td>0.000105</td>\n",
       "    </tr>\n",
       "    <tr>\n",
       "      <th>2019-08-19</th>\n",
       "      <td>-0.001082</td>\n",
       "      <td>-0.001893</td>\n",
       "      <td>0.002444</td>\n",
       "      <td>-0.002213</td>\n",
       "      <td>-0.002800</td>\n",
       "      <td>0.004145</td>\n",
       "      <td>0.003475</td>\n",
       "      <td>-0.002987</td>\n",
       "      <td>0.002318</td>\n",
       "      <td>0.006014</td>\n",
       "      <td>0.001122</td>\n",
       "      <td>0.004040</td>\n",
       "      <td>0.014463</td>\n",
       "      <td>0.001517</td>\n",
       "      <td>0.003249</td>\n",
       "      <td>0.001249</td>\n",
       "      <td>0.000946</td>\n",
       "      <td>0.001047</td>\n",
       "      <td>0.000210</td>\n",
       "    </tr>\n",
       "    <tr>\n",
       "      <th>2019-08-20</th>\n",
       "      <td>0.001986</td>\n",
       "      <td>0.003629</td>\n",
       "      <td>-0.003845</td>\n",
       "      <td>0.002070</td>\n",
       "      <td>0.000780</td>\n",
       "      <td>-0.000375</td>\n",
       "      <td>-0.003769</td>\n",
       "      <td>0.000501</td>\n",
       "      <td>0.000640</td>\n",
       "      <td>-0.005513</td>\n",
       "      <td>0.001390</td>\n",
       "      <td>0.003744</td>\n",
       "      <td>0.012561</td>\n",
       "      <td>-0.001226</td>\n",
       "      <td>-0.002177</td>\n",
       "      <td>-0.002228</td>\n",
       "      <td>-0.002504</td>\n",
       "      <td>-0.001640</td>\n",
       "      <td>-0.000315</td>\n",
       "    </tr>\n",
       "    <tr>\n",
       "      <th>2019-08-21</th>\n",
       "      <td>-0.001351</td>\n",
       "      <td>-0.003287</td>\n",
       "      <td>0.003671</td>\n",
       "      <td>0.000443</td>\n",
       "      <td>-0.001870</td>\n",
       "      <td>-0.002102</td>\n",
       "      <td>0.003988</td>\n",
       "      <td>-0.004241</td>\n",
       "      <td>-0.006974</td>\n",
       "      <td>-0.011784</td>\n",
       "      <td>0.000312</td>\n",
       "      <td>-0.002110</td>\n",
       "      <td>-0.002582</td>\n",
       "      <td>-0.000939</td>\n",
       "      <td>0.001240</td>\n",
       "      <td>0.001400</td>\n",
       "      <td>0.001323</td>\n",
       "      <td>0.001054</td>\n",
       "      <td>-0.000021</td>\n",
       "    </tr>\n",
       "    <tr>\n",
       "      <th>2019-08-22</th>\n",
       "      <td>-0.000451</td>\n",
       "      <td>0.009975</td>\n",
       "      <td>-0.001688</td>\n",
       "      <td>-0.003539</td>\n",
       "      <td>-0.005778</td>\n",
       "      <td>0.000903</td>\n",
       "      <td>0.001833</td>\n",
       "      <td>0.004025</td>\n",
       "      <td>0.005288</td>\n",
       "      <td>-0.002206</td>\n",
       "      <td>0.002917</td>\n",
       "      <td>0.003600</td>\n",
       "      <td>0.009096</td>\n",
       "      <td>0.001373</td>\n",
       "      <td>0.000464</td>\n",
       "      <td>0.000431</td>\n",
       "      <td>0.001757</td>\n",
       "      <td>0.001799</td>\n",
       "      <td>-0.000021</td>\n",
       "    </tr>\n",
       "  </tbody>\n",
       "</table>\n",
       "</div>"
      ],
      "text/plain": [
       "            EUR Curncy  GBP Curncy  JPY Curncy  AUD Curncy  NZD Curncy  \\\n",
       "2019-08-16   -0.001531    0.005046    0.002450    0.000590   -0.003101   \n",
       "2019-08-19   -0.001082   -0.001893    0.002444   -0.002213   -0.002800   \n",
       "2019-08-20    0.001986    0.003629   -0.003845    0.002070    0.000780   \n",
       "2019-08-21   -0.001351   -0.003287    0.003671    0.000443   -0.001870   \n",
       "2019-08-22   -0.000451    0.009975   -0.001688   -0.003539   -0.005778   \n",
       "\n",
       "            CAD Curncy  CHF Curncy  NOK Curncy  SEK Curncy  RUB Curncy  \\\n",
       "2019-08-16   -0.003305    0.001843   -0.001729    0.002198    0.006967   \n",
       "2019-08-19    0.004145    0.003475   -0.002987    0.002318    0.006014   \n",
       "2019-08-20   -0.000375   -0.003769    0.000501    0.000640   -0.005513   \n",
       "2019-08-21   -0.002102    0.003988   -0.004241   -0.006974   -0.011784   \n",
       "2019-08-22    0.000903    0.001833    0.004025    0.005288   -0.002206   \n",
       "\n",
       "            CNY Curncy  INR Curncy  TRY Curncy  SGD Curncy  CZK Curncy  \\\n",
       "2019-08-16    0.001251   -0.001667    0.002227   -0.003240   -0.002369   \n",
       "2019-08-19    0.001122    0.004040    0.014463    0.001517    0.003249   \n",
       "2019-08-20    0.001390    0.003744    0.012561   -0.001226   -0.002177   \n",
       "2019-08-21    0.000312   -0.002110   -0.002582   -0.000939    0.001240   \n",
       "2019-08-22    0.002917    0.003600    0.009096    0.001373    0.000464   \n",
       "\n",
       "            DKK Curncy  HRK Curncy  RSD Curncy  AMD Curncy  \n",
       "2019-08-16    0.001117    0.001503    0.001784    0.000105  \n",
       "2019-08-19    0.001249    0.000946    0.001047    0.000210  \n",
       "2019-08-20   -0.002228   -0.002504   -0.001640   -0.000315  \n",
       "2019-08-21    0.001400    0.001323    0.001054   -0.000021  \n",
       "2019-08-22    0.000431    0.001757    0.001799   -0.000021  "
      ]
     },
     "execution_count": 6,
     "metadata": {},
     "output_type": "execute_result"
    }
   ],
   "source": [
    "FX_ret.head()"
   ]
  },
  {
   "cell_type": "markdown",
   "metadata": {},
   "source": [
    "### c) Calculate mean return and stdev of return"
   ]
  },
  {
   "cell_type": "code",
   "execution_count": 7,
   "metadata": {},
   "outputs": [],
   "source": [
    "FX_ret_mean = FX_ret.mean()\n",
    "FX_ret_stdev = FX_ret.std()"
   ]
  },
  {
   "cell_type": "code",
   "execution_count": 8,
   "metadata": {},
   "outputs": [
    {
     "data": {
      "text/plain": [
       "EUR Curncy    0.000239\n",
       "GBP Curncy    0.000226\n",
       "JPY Curncy    0.000016\n",
       "AUD Curncy    0.000282\n",
       "NZD Curncy    0.000139\n",
       "CAD Curncy   -0.000024\n",
       "CHF Curncy   -0.000246\n",
       "NOK Curncy    0.000057\n",
       "SEK Curncy   -0.000317\n",
       "RUB Curncy    0.000499\n",
       "CNY Curncy   -0.000099\n",
       "INR Curncy    0.000117\n",
       "TRY Curncy    0.001070\n",
       "SGD Curncy   -0.000051\n",
       "CZK Curncy   -0.000106\n",
       "DKK Curncy   -0.000229\n",
       "HRK Curncy   -0.000145\n",
       "RSD Curncy   -0.000220\n",
       "AMD Curncy    0.000093\n",
       "dtype: float64"
      ]
     },
     "execution_count": 8,
     "metadata": {},
     "output_type": "execute_result"
    }
   ],
   "source": [
    "FX_ret_mean"
   ]
  },
  {
   "cell_type": "code",
   "execution_count": 9,
   "metadata": {},
   "outputs": [
    {
     "data": {
      "text/plain": [
       "EUR Curncy    0.004377\n",
       "GBP Curncy    0.006845\n",
       "JPY Curncy    0.005432\n",
       "AUD Curncy    0.006995\n",
       "NZD Curncy    0.006540\n",
       "CAD Curncy    0.004872\n",
       "CHF Curncy    0.004376\n",
       "NOK Curncy    0.010162\n",
       "SEK Curncy    0.006129\n",
       "RUB Curncy    0.009576\n",
       "CNY Curncy    0.002489\n",
       "INR Curncy    0.003460\n",
       "TRY Curncy    0.006363\n",
       "SGD Curncy    0.002771\n",
       "CZK Curncy    0.006864\n",
       "DKK Curncy    0.004404\n",
       "HRK Curncy    0.004545\n",
       "RSD Curncy    0.004289\n",
       "AMD Curncy    0.002072\n",
       "dtype: float64"
      ]
     },
     "execution_count": 9,
     "metadata": {},
     "output_type": "execute_result"
    }
   ],
   "source": [
    "FX_ret_stdev"
   ]
  },
  {
   "cell_type": "markdown",
   "metadata": {},
   "source": [
    "### d) Perform K means using K = 3,4,5,6"
   ]
  },
  {
   "cell_type": "code",
   "execution_count": 10,
   "metadata": {},
   "outputs": [],
   "source": [
    "from sklearn.cluster import KMeans"
   ]
  },
  {
   "cell_type": "code",
   "execution_count": 11,
   "metadata": {},
   "outputs": [],
   "source": [
    "FX_loc = pd.concat([FX_ret_mean, FX_ret_stdev], axis = 1)"
   ]
  },
  {
   "cell_type": "code",
   "execution_count": 12,
   "metadata": {},
   "outputs": [
    {
     "data": {
      "text/html": [
       "<div>\n",
       "<style scoped>\n",
       "    .dataframe tbody tr th:only-of-type {\n",
       "        vertical-align: middle;\n",
       "    }\n",
       "\n",
       "    .dataframe tbody tr th {\n",
       "        vertical-align: top;\n",
       "    }\n",
       "\n",
       "    .dataframe thead th {\n",
       "        text-align: right;\n",
       "    }\n",
       "</style>\n",
       "<table border=\"1\" class=\"dataframe\">\n",
       "  <thead>\n",
       "    <tr style=\"text-align: right;\">\n",
       "      <th></th>\n",
       "      <th>0</th>\n",
       "      <th>1</th>\n",
       "    </tr>\n",
       "  </thead>\n",
       "  <tbody>\n",
       "    <tr>\n",
       "      <th>EUR Curncy</th>\n",
       "      <td>0.000239</td>\n",
       "      <td>0.004377</td>\n",
       "    </tr>\n",
       "    <tr>\n",
       "      <th>GBP Curncy</th>\n",
       "      <td>0.000226</td>\n",
       "      <td>0.006845</td>\n",
       "    </tr>\n",
       "    <tr>\n",
       "      <th>JPY Curncy</th>\n",
       "      <td>0.000016</td>\n",
       "      <td>0.005432</td>\n",
       "    </tr>\n",
       "    <tr>\n",
       "      <th>AUD Curncy</th>\n",
       "      <td>0.000282</td>\n",
       "      <td>0.006995</td>\n",
       "    </tr>\n",
       "    <tr>\n",
       "      <th>NZD Curncy</th>\n",
       "      <td>0.000139</td>\n",
       "      <td>0.006540</td>\n",
       "    </tr>\n",
       "    <tr>\n",
       "      <th>CAD Curncy</th>\n",
       "      <td>-0.000024</td>\n",
       "      <td>0.004872</td>\n",
       "    </tr>\n",
       "    <tr>\n",
       "      <th>CHF Curncy</th>\n",
       "      <td>-0.000246</td>\n",
       "      <td>0.004376</td>\n",
       "    </tr>\n",
       "    <tr>\n",
       "      <th>NOK Curncy</th>\n",
       "      <td>0.000057</td>\n",
       "      <td>0.010162</td>\n",
       "    </tr>\n",
       "    <tr>\n",
       "      <th>SEK Curncy</th>\n",
       "      <td>-0.000317</td>\n",
       "      <td>0.006129</td>\n",
       "    </tr>\n",
       "    <tr>\n",
       "      <th>RUB Curncy</th>\n",
       "      <td>0.000499</td>\n",
       "      <td>0.009576</td>\n",
       "    </tr>\n",
       "    <tr>\n",
       "      <th>CNY Curncy</th>\n",
       "      <td>-0.000099</td>\n",
       "      <td>0.002489</td>\n",
       "    </tr>\n",
       "    <tr>\n",
       "      <th>INR Curncy</th>\n",
       "      <td>0.000117</td>\n",
       "      <td>0.003460</td>\n",
       "    </tr>\n",
       "    <tr>\n",
       "      <th>TRY Curncy</th>\n",
       "      <td>0.001070</td>\n",
       "      <td>0.006363</td>\n",
       "    </tr>\n",
       "    <tr>\n",
       "      <th>SGD Curncy</th>\n",
       "      <td>-0.000051</td>\n",
       "      <td>0.002771</td>\n",
       "    </tr>\n",
       "    <tr>\n",
       "      <th>CZK Curncy</th>\n",
       "      <td>-0.000106</td>\n",
       "      <td>0.006864</td>\n",
       "    </tr>\n",
       "    <tr>\n",
       "      <th>DKK Curncy</th>\n",
       "      <td>-0.000229</td>\n",
       "      <td>0.004404</td>\n",
       "    </tr>\n",
       "    <tr>\n",
       "      <th>HRK Curncy</th>\n",
       "      <td>-0.000145</td>\n",
       "      <td>0.004545</td>\n",
       "    </tr>\n",
       "    <tr>\n",
       "      <th>RSD Curncy</th>\n",
       "      <td>-0.000220</td>\n",
       "      <td>0.004289</td>\n",
       "    </tr>\n",
       "    <tr>\n",
       "      <th>AMD Curncy</th>\n",
       "      <td>0.000093</td>\n",
       "      <td>0.002072</td>\n",
       "    </tr>\n",
       "  </tbody>\n",
       "</table>\n",
       "</div>"
      ],
      "text/plain": [
       "                   0         1\n",
       "EUR Curncy  0.000239  0.004377\n",
       "GBP Curncy  0.000226  0.006845\n",
       "JPY Curncy  0.000016  0.005432\n",
       "AUD Curncy  0.000282  0.006995\n",
       "NZD Curncy  0.000139  0.006540\n",
       "CAD Curncy -0.000024  0.004872\n",
       "CHF Curncy -0.000246  0.004376\n",
       "NOK Curncy  0.000057  0.010162\n",
       "SEK Curncy -0.000317  0.006129\n",
       "RUB Curncy  0.000499  0.009576\n",
       "CNY Curncy -0.000099  0.002489\n",
       "INR Curncy  0.000117  0.003460\n",
       "TRY Curncy  0.001070  0.006363\n",
       "SGD Curncy -0.000051  0.002771\n",
       "CZK Curncy -0.000106  0.006864\n",
       "DKK Curncy -0.000229  0.004404\n",
       "HRK Curncy -0.000145  0.004545\n",
       "RSD Curncy -0.000220  0.004289\n",
       "AMD Curncy  0.000093  0.002072"
      ]
     },
     "execution_count": 12,
     "metadata": {},
     "output_type": "execute_result"
    }
   ],
   "source": [
    "FX_loc"
   ]
  },
  {
   "cell_type": "code",
   "execution_count": 13,
   "metadata": {},
   "outputs": [],
   "source": [
    "predict = {}\n",
    "inertia = np.zeros(len(range(2,8)))\n",
    "for n in range(2,8):\n",
    "    k = KMeans(n_clusters= n)\n",
    "    model = k.fit(FX_loc.values)\n",
    "    predict[n] = k.predict(FX_loc.values)\n",
    "    inertia[n-2] = model.inertia_"
   ]
  },
  {
   "cell_type": "code",
   "execution_count": 14,
   "metadata": {},
   "outputs": [
    {
     "data": {
      "text/plain": [
       "{2: array([1, 0, 1, 0, 0, 1, 1, 0, 0, 0, 1, 1, 0, 1, 0, 1, 1, 1, 1]),\n",
       " 3: array([0, 1, 1, 1, 1, 0, 0, 2, 1, 2, 0, 0, 1, 0, 1, 0, 0, 0, 0]),\n",
       " 4: array([0, 3, 0, 3, 3, 0, 0, 1, 3, 1, 2, 2, 3, 2, 3, 0, 0, 0, 2]),\n",
       " 5: array([4, 3, 0, 3, 3, 4, 4, 2, 0, 2, 1, 1, 3, 1, 3, 4, 4, 4, 1]),\n",
       " 6: array([3, 1, 5, 1, 1, 3, 3, 2, 5, 2, 4, 0, 1, 4, 1, 3, 3, 3, 4]),\n",
       " 7: array([0, 2, 4, 2, 2, 0, 0, 1, 4, 1, 3, 5, 6, 5, 2, 0, 0, 0, 3])}"
      ]
     },
     "execution_count": 14,
     "metadata": {},
     "output_type": "execute_result"
    }
   ],
   "source": [
    "predict"
   ]
  },
  {
   "cell_type": "markdown",
   "metadata": {},
   "source": [
    "### e) Plot a 2x2 figure with scatter plots with each color representing a cluster and currency label on the scatter plot. Visualization exercise – your opportunity to play with graphics."
   ]
  },
  {
   "cell_type": "code",
   "execution_count": 15,
   "metadata": {},
   "outputs": [
    {
     "data": {
      "image/png": "[encoded data removed]",
      "text/plain": [
       "<Figure size 1080x1080 with 6 Axes>"
      ]
     },
     "metadata": {},
     "output_type": "display_data"
    }
   ],
   "source": [
    "fig, axarr = plt.subplots(3,2, figsize = (15,15))\n",
    "fig.subplots_adjust(hspace = 0.3)\n",
    "\n",
    "for ax, n in zip(axarr.ravel(), range(2,8)):\n",
    "    ax.scatter(FX_loc[0], FX_loc[1], c = predict[n], cmap = 'winter', s=100, alpha=0.7)\n",
    "    ax.set_ylim([0,.012])\n",
    "    ax.set_xlim([-.00075,.00075])\n",
    "    ax.set_title('%i Clusters' %n)\n",
    "    ax.set_xlabel('mean returns')\n",
    "    ax.set_ylabel('std returns')\n",
    "    for i, txt in enumerate(FX_loc.index):\n",
    "        ax.annotate(txt[:4], (FX_loc[0][i], FX_loc[1][i]))"
   ]
  },
  {
   "cell_type": "markdown",
   "metadata": {},
   "source": [
    "### f) Use elbow method discussed in class plus qualitative argument to recommend # of clusters."
   ]
  },
  {
   "cell_type": "code",
   "execution_count": 16,
   "metadata": {},
   "outputs": [
    {
     "data": {
      "text/plain": [
       "Text(0, 0.5, 'Inertia')"
      ]
     },
     "execution_count": 16,
     "metadata": {},
     "output_type": "execute_result"
    },
    {
     "data": {
      "image/png": "[encoded data removed]",
      "text/plain": [
       "<Figure size 432x288 with 1 Axes>"
      ]
     },
     "metadata": {},
     "output_type": "display_data"
    }
   ],
   "source": [
    "plt.plot(range(2,8), inertia, marker='x')\n",
    "plt.xlabel('Number of clusters')\n",
    "plt.ylabel('Inertia')"
   ]
  },
  {
   "cell_type": "markdown",
   "metadata": {},
   "source": [
    "Thus, 4 clusters are recommended"
   ]
  },
  {
   "cell_type": "markdown",
   "metadata": {},
   "source": [
    "### g) Discuss cluster traits"
   ]
  },
  {
   "cell_type": "markdown",
   "metadata": {},
   "source": [
    "Clustering is done by standard deviation.\n",
    "\n",
    "1. Currencies with std dev [0.002,0.004] are in one cluster {CNY, SGD, INR, AMD} \n",
    "2. Currencies with std dev [0.004,0.006] are in one cluster {CHF, DKK, RSK, HRK ,CAD ,JPY ,EUR} \n",
    "3. Currencies with std dev [0.006,0.008] are in one cluster {SEK, CZK, NZD, GBP, AUD} \n",
    "4. Currencies with greater std dev in one cluster {NOK, RUB} "
   ]
  },
  {
   "cell_type": "markdown",
   "metadata": {},
   "source": [
    "# Problem 2"
   ]
  },
  {
   "cell_type": "markdown",
   "metadata": {},
   "source": [
    "### a) Write 2 sentences on your understanding of the methodology."
   ]
  },
  {
   "cell_type": "markdown",
   "metadata": {},
   "source": [
    "It suggests how covariance matrix can be used in portfolio optimization to reduce the errors in sample covariance matrix. The estimate is done by using  a weighted sum of the constant correlation matrix and the sample covariance matrix. The weight is take in such a way that the variation between the two covariance matrix is minimized."
   ]
  },
  {
   "cell_type": "markdown",
   "metadata": {},
   "source": [
    "### b) Create a 1000x20 matrix “X” from random normal dist. Create new matrix X* that is a copy of X. Replace last two columns with first column with 1e-4 random normal noise added to it.¶"
   ]
  },
  {
   "cell_type": "code",
   "execution_count": 17,
   "metadata": {},
   "outputs": [],
   "source": [
    "samples = 1000\n",
    "features = 20\n",
    "\n",
    "X = np.random.randn(samples, features)\n",
    "X_star = X.copy()"
   ]
  },
  {
   "cell_type": "code",
   "execution_count": 18,
   "metadata": {},
   "outputs": [],
   "source": [
    "X_star[:,(features - 2):] = np.vstack([X[:,0],X[:,0]]).T + np.random.randn(samples, 2)*1e-4"
   ]
  },
  {
   "cell_type": "code",
   "execution_count": 19,
   "metadata": {},
   "outputs": [
    {
     "data": {
      "text/plain": [
       "array([[-0.65181066,  0.6661958 , -1.76705065, ..., -0.18261518,\n",
       "        -0.65187552, -0.65177575],\n",
       "       [-0.88599383, -1.01199484, -0.30304778, ...,  0.5586019 ,\n",
       "        -0.88613684, -0.88613043],\n",
       "       [-0.51920798,  2.7263807 , -0.00712405, ..., -1.12394969,\n",
       "        -0.51918299, -0.51907699],\n",
       "       ...,\n",
       "       [ 1.03015554,  0.36064962, -0.7222401 , ...,  0.0554404 ,\n",
       "         1.03011414,  1.03011718],\n",
       "       [ 1.39692203,  0.26139912, -1.01167745, ...,  0.11466396,\n",
       "         1.39703428,  1.397015  ],\n",
       "       [-0.69863665,  0.94471855, -0.34928998, ...,  0.48443164,\n",
       "        -0.69843226, -0.69875855]])"
      ]
     },
     "execution_count": 19,
     "metadata": {},
     "output_type": "execute_result"
    }
   ],
   "source": [
    "X_star"
   ]
  },
  {
   "cell_type": "markdown",
   "metadata": {},
   "source": [
    "### c) Calculate the covariance matrix of X and X* (Sigma, Sigma*) and the corresponding condition number."
   ]
  },
  {
   "cell_type": "code",
   "execution_count": 20,
   "metadata": {},
   "outputs": [],
   "source": [
    "Sigma = np.cov(X.T)\n",
    "Sigma_star = np.cov(X_star.T)"
   ]
  },
  {
   "cell_type": "code",
   "execution_count": 21,
   "metadata": {},
   "outputs": [
    {
     "data": {
      "text/plain": [
       "1.5731569582972722"
      ]
     },
     "execution_count": 21,
     "metadata": {},
     "output_type": "execute_result"
    }
   ],
   "source": [
    "np.linalg.cond(Sigma)"
   ]
  },
  {
   "cell_type": "code",
   "execution_count": 22,
   "metadata": {},
   "outputs": [
    {
     "data": {
      "text/plain": [
       "944610690.4157753"
      ]
     },
     "execution_count": 22,
     "metadata": {},
     "output_type": "execute_result"
    }
   ],
   "source": [
    "np.linalg.cond(Sigma_star)"
   ]
  },
  {
   "cell_type": "markdown",
   "metadata": {},
   "source": [
    "### d) Shrink covariace matrix using OAS and Ledoit and Wolf. Calculate the condition number after shrinkage."
   ]
  },
  {
   "cell_type": "code",
   "execution_count": 23,
   "metadata": {},
   "outputs": [],
   "source": [
    "from sklearn.covariance import OAS\n",
    "from sklearn.covariance import LedoitWolf"
   ]
  },
  {
   "cell_type": "code",
   "execution_count": 24,
   "metadata": {},
   "outputs": [],
   "source": [
    "o = OAS().fit(Sigma_star)\n",
    "lw = LedoitWolf().fit(Sigma_star)"
   ]
  },
  {
   "cell_type": "code",
   "execution_count": 25,
   "metadata": {},
   "outputs": [
    {
     "data": {
      "text/plain": [
       "5.996985179802607"
      ]
     },
     "execution_count": 25,
     "metadata": {},
     "output_type": "execute_result"
    }
   ],
   "source": [
    "np.linalg.cond(o.covariance_)"
   ]
  },
  {
   "cell_type": "code",
   "execution_count": 26,
   "metadata": {},
   "outputs": [
    {
     "data": {
      "text/plain": [
       "7.020323975024855"
      ]
     },
     "execution_count": 26,
     "metadata": {},
     "output_type": "execute_result"
    }
   ],
   "source": [
    "np.linalg.cond(lw.covariance_)"
   ]
  },
  {
   "cell_type": "markdown",
   "metadata": {},
   "source": [
    "### e) One sentence on the difference between the two."
   ]
  },
  {
   "cell_type": "markdown",
   "metadata": {},
   "source": [
    "From the OAS method, the shrinked covariance matrix obtained  has a lower condition number than the one obtained from the Ledoit-Wolf method. The OAS method gives a better performance of convergence to the true covariance matrix than the Ledoit-Wolf method."
   ]
  },
  {
   "cell_type": "markdown",
   "metadata": {},
   "source": [
    "# Problem 3"
   ]
  },
  {
   "cell_type": "code",
   "execution_count": 27,
   "metadata": {},
   "outputs": [],
   "source": [
    "Indx = pd.read_csv('index_prices.csv')\n",
    "Indx.iloc[:,0] = pd.to_datetime(Indx.iloc[:,0])\n",
    "Indx = Indx.set_index(Indx.iloc[:,0].values)\n",
    "Indx = Indx.iloc[:,1:len(Indx.columns)]"
   ]
  },
  {
   "cell_type": "code",
   "execution_count": 28,
   "metadata": {},
   "outputs": [
    {
     "data": {
      "text/html": [
       "<div>\n",
       "<style scoped>\n",
       "    .dataframe tbody tr th:only-of-type {\n",
       "        vertical-align: middle;\n",
       "    }\n",
       "\n",
       "    .dataframe tbody tr th {\n",
       "        vertical-align: top;\n",
       "    }\n",
       "\n",
       "    .dataframe thead th {\n",
       "        text-align: right;\n",
       "    }\n",
       "</style>\n",
       "<table border=\"1\" class=\"dataframe\">\n",
       "  <thead>\n",
       "    <tr style=\"text-align: right;\">\n",
       "      <th></th>\n",
       "      <th>AGG</th>\n",
       "      <th>TLT</th>\n",
       "      <th>IEF</th>\n",
       "      <th>LQD</th>\n",
       "      <th>XLB</th>\n",
       "      <th>XLE</th>\n",
       "      <th>XLF</th>\n",
       "      <th>XLI</th>\n",
       "      <th>XLK</th>\n",
       "      <th>XLP</th>\n",
       "      <th>XLU</th>\n",
       "      <th>XLV</th>\n",
       "      <th>XLY</th>\n",
       "      <th>EFA</th>\n",
       "      <th>EWJ</th>\n",
       "      <th>EWW</th>\n",
       "      <th>EWY</th>\n",
       "      <th>EZU</th>\n",
       "    </tr>\n",
       "  </thead>\n",
       "  <tbody>\n",
       "    <tr>\n",
       "      <th>2017-09-18</th>\n",
       "      <td>109.860001</td>\n",
       "      <td>126.129997</td>\n",
       "      <td>107.269997</td>\n",
       "      <td>120.900002</td>\n",
       "      <td>56.380001</td>\n",
       "      <td>66.120003</td>\n",
       "      <td>25.059999</td>\n",
       "      <td>69.779999</td>\n",
       "      <td>58.790001</td>\n",
       "      <td>55.299999</td>\n",
       "      <td>54.189999</td>\n",
       "      <td>82.570000</td>\n",
       "      <td>89.320000</td>\n",
       "      <td>68.150002</td>\n",
       "      <td>55.250000</td>\n",
       "      <td>55.910000</td>\n",
       "      <td>69.839996</td>\n",
       "      <td>43.080002</td>\n",
       "    </tr>\n",
       "    <tr>\n",
       "      <th>2017-09-19</th>\n",
       "      <td>109.800003</td>\n",
       "      <td>125.820000</td>\n",
       "      <td>107.150002</td>\n",
       "      <td>120.970001</td>\n",
       "      <td>56.669998</td>\n",
       "      <td>66.389999</td>\n",
       "      <td>25.250000</td>\n",
       "      <td>69.849998</td>\n",
       "      <td>59.049999</td>\n",
       "      <td>55.130001</td>\n",
       "      <td>54.080002</td>\n",
       "      <td>81.919998</td>\n",
       "      <td>89.239998</td>\n",
       "      <td>68.470001</td>\n",
       "      <td>55.570000</td>\n",
       "      <td>55.650002</td>\n",
       "      <td>70.070000</td>\n",
       "      <td>43.290001</td>\n",
       "    </tr>\n",
       "    <tr>\n",
       "      <th>2017-09-20</th>\n",
       "      <td>109.709999</td>\n",
       "      <td>125.910004</td>\n",
       "      <td>106.940002</td>\n",
       "      <td>120.820000</td>\n",
       "      <td>56.869999</td>\n",
       "      <td>66.839996</td>\n",
       "      <td>25.400000</td>\n",
       "      <td>70.360001</td>\n",
       "      <td>58.810001</td>\n",
       "      <td>54.599998</td>\n",
       "      <td>53.680000</td>\n",
       "      <td>82.000000</td>\n",
       "      <td>89.540001</td>\n",
       "      <td>68.320000</td>\n",
       "      <td>55.590000</td>\n",
       "      <td>55.860001</td>\n",
       "      <td>69.699997</td>\n",
       "      <td>43.080002</td>\n",
       "    </tr>\n",
       "    <tr>\n",
       "      <th>2017-09-21</th>\n",
       "      <td>109.690002</td>\n",
       "      <td>125.839996</td>\n",
       "      <td>106.800003</td>\n",
       "      <td>120.820000</td>\n",
       "      <td>56.750000</td>\n",
       "      <td>66.860001</td>\n",
       "      <td>25.459999</td>\n",
       "      <td>70.570000</td>\n",
       "      <td>58.490002</td>\n",
       "      <td>54.080002</td>\n",
       "      <td>53.669998</td>\n",
       "      <td>81.580002</td>\n",
       "      <td>89.389999</td>\n",
       "      <td>68.180000</td>\n",
       "      <td>55.369999</td>\n",
       "      <td>55.730000</td>\n",
       "      <td>69.690002</td>\n",
       "      <td>43.110001</td>\n",
       "    </tr>\n",
       "    <tr>\n",
       "      <th>2017-09-22</th>\n",
       "      <td>109.769997</td>\n",
       "      <td>126.199997</td>\n",
       "      <td>106.989998</td>\n",
       "      <td>120.980003</td>\n",
       "      <td>56.549999</td>\n",
       "      <td>67.199997</td>\n",
       "      <td>25.430000</td>\n",
       "      <td>70.750000</td>\n",
       "      <td>58.520000</td>\n",
       "      <td>53.919998</td>\n",
       "      <td>53.230000</td>\n",
       "      <td>81.580002</td>\n",
       "      <td>89.540001</td>\n",
       "      <td>68.389999</td>\n",
       "      <td>55.430000</td>\n",
       "      <td>55.990002</td>\n",
       "      <td>69.330002</td>\n",
       "      <td>43.200001</td>\n",
       "    </tr>\n",
       "  </tbody>\n",
       "</table>\n",
       "</div>"
      ],
      "text/plain": [
       "                   AGG         TLT         IEF         LQD        XLB  \\\n",
       "2017-09-18  109.860001  126.129997  107.269997  120.900002  56.380001   \n",
       "2017-09-19  109.800003  125.820000  107.150002  120.970001  56.669998   \n",
       "2017-09-20  109.709999  125.910004  106.940002  120.820000  56.869999   \n",
       "2017-09-21  109.690002  125.839996  106.800003  120.820000  56.750000   \n",
       "2017-09-22  109.769997  126.199997  106.989998  120.980003  56.549999   \n",
       "\n",
       "                  XLE        XLF        XLI        XLK        XLP        XLU  \\\n",
       "2017-09-18  66.120003  25.059999  69.779999  58.790001  55.299999  54.189999   \n",
       "2017-09-19  66.389999  25.250000  69.849998  59.049999  55.130001  54.080002   \n",
       "2017-09-20  66.839996  25.400000  70.360001  58.810001  54.599998  53.680000   \n",
       "2017-09-21  66.860001  25.459999  70.570000  58.490002  54.080002  53.669998   \n",
       "2017-09-22  67.199997  25.430000  70.750000  58.520000  53.919998  53.230000   \n",
       "\n",
       "                  XLV        XLY        EFA        EWJ        EWW        EWY  \\\n",
       "2017-09-18  82.570000  89.320000  68.150002  55.250000  55.910000  69.839996   \n",
       "2017-09-19  81.919998  89.239998  68.470001  55.570000  55.650002  70.070000   \n",
       "2017-09-20  82.000000  89.540001  68.320000  55.590000  55.860001  69.699997   \n",
       "2017-09-21  81.580002  89.389999  68.180000  55.369999  55.730000  69.690002   \n",
       "2017-09-22  81.580002  89.540001  68.389999  55.430000  55.990002  69.330002   \n",
       "\n",
       "                  EZU  \n",
       "2017-09-18  43.080002  \n",
       "2017-09-19  43.290001  \n",
       "2017-09-20  43.080002  \n",
       "2017-09-21  43.110001  \n",
       "2017-09-22  43.200001  "
      ]
     },
     "execution_count": 28,
     "metadata": {},
     "output_type": "execute_result"
    }
   ],
   "source": [
    "Indx.head()"
   ]
  },
  {
   "cell_type": "markdown",
   "metadata": {},
   "source": [
    "### a) Calculate Daily Returns"
   ]
  },
  {
   "cell_type": "code",
   "execution_count": 29,
   "metadata": {},
   "outputs": [],
   "source": [
    "Indx_ret = Indx.pct_change().iloc[1:,:]"
   ]
  },
  {
   "cell_type": "code",
   "execution_count": 30,
   "metadata": {},
   "outputs": [
    {
     "data": {
      "text/html": [
       "<div>\n",
       "<style scoped>\n",
       "    .dataframe tbody tr th:only-of-type {\n",
       "        vertical-align: middle;\n",
       "    }\n",
       "\n",
       "    .dataframe tbody tr th {\n",
       "        vertical-align: top;\n",
       "    }\n",
       "\n",
       "    .dataframe thead th {\n",
       "        text-align: right;\n",
       "    }\n",
       "</style>\n",
       "<table border=\"1\" class=\"dataframe\">\n",
       "  <thead>\n",
       "    <tr style=\"text-align: right;\">\n",
       "      <th></th>\n",
       "      <th>AGG</th>\n",
       "      <th>TLT</th>\n",
       "      <th>IEF</th>\n",
       "      <th>LQD</th>\n",
       "      <th>XLB</th>\n",
       "      <th>XLE</th>\n",
       "      <th>XLF</th>\n",
       "      <th>XLI</th>\n",
       "      <th>XLK</th>\n",
       "      <th>XLP</th>\n",
       "      <th>XLU</th>\n",
       "      <th>XLV</th>\n",
       "      <th>XLY</th>\n",
       "      <th>EFA</th>\n",
       "      <th>EWJ</th>\n",
       "      <th>EWW</th>\n",
       "      <th>EWY</th>\n",
       "      <th>EZU</th>\n",
       "    </tr>\n",
       "  </thead>\n",
       "  <tbody>\n",
       "    <tr>\n",
       "      <th>2017-09-19</th>\n",
       "      <td>-0.000546</td>\n",
       "      <td>-0.002458</td>\n",
       "      <td>-0.001119</td>\n",
       "      <td>0.000579</td>\n",
       "      <td>0.005144</td>\n",
       "      <td>0.004083</td>\n",
       "      <td>0.007582</td>\n",
       "      <td>0.001003</td>\n",
       "      <td>0.004422</td>\n",
       "      <td>-0.003074</td>\n",
       "      <td>-0.002030</td>\n",
       "      <td>-0.007872</td>\n",
       "      <td>-0.000896</td>\n",
       "      <td>0.004696</td>\n",
       "      <td>0.005792</td>\n",
       "      <td>-0.004650</td>\n",
       "      <td>0.003293</td>\n",
       "      <td>0.004875</td>\n",
       "    </tr>\n",
       "    <tr>\n",
       "      <th>2017-09-20</th>\n",
       "      <td>-0.000820</td>\n",
       "      <td>0.000715</td>\n",
       "      <td>-0.001960</td>\n",
       "      <td>-0.001240</td>\n",
       "      <td>0.003529</td>\n",
       "      <td>0.006778</td>\n",
       "      <td>0.005941</td>\n",
       "      <td>0.007301</td>\n",
       "      <td>-0.004064</td>\n",
       "      <td>-0.009614</td>\n",
       "      <td>-0.007396</td>\n",
       "      <td>0.000977</td>\n",
       "      <td>0.003362</td>\n",
       "      <td>-0.002191</td>\n",
       "      <td>0.000360</td>\n",
       "      <td>0.003774</td>\n",
       "      <td>-0.005280</td>\n",
       "      <td>-0.004851</td>\n",
       "    </tr>\n",
       "    <tr>\n",
       "      <th>2017-09-21</th>\n",
       "      <td>-0.000182</td>\n",
       "      <td>-0.000556</td>\n",
       "      <td>-0.001309</td>\n",
       "      <td>0.000000</td>\n",
       "      <td>-0.002110</td>\n",
       "      <td>0.000299</td>\n",
       "      <td>0.002362</td>\n",
       "      <td>0.002985</td>\n",
       "      <td>-0.005441</td>\n",
       "      <td>-0.009524</td>\n",
       "      <td>-0.000186</td>\n",
       "      <td>-0.005122</td>\n",
       "      <td>-0.001675</td>\n",
       "      <td>-0.002049</td>\n",
       "      <td>-0.003958</td>\n",
       "      <td>-0.002327</td>\n",
       "      <td>-0.000143</td>\n",
       "      <td>0.000696</td>\n",
       "    </tr>\n",
       "    <tr>\n",
       "      <th>2017-09-22</th>\n",
       "      <td>0.000729</td>\n",
       "      <td>0.002861</td>\n",
       "      <td>0.001779</td>\n",
       "      <td>0.001324</td>\n",
       "      <td>-0.003524</td>\n",
       "      <td>0.005085</td>\n",
       "      <td>-0.001178</td>\n",
       "      <td>0.002551</td>\n",
       "      <td>0.000513</td>\n",
       "      <td>-0.002959</td>\n",
       "      <td>-0.008198</td>\n",
       "      <td>0.000000</td>\n",
       "      <td>0.001678</td>\n",
       "      <td>0.003080</td>\n",
       "      <td>0.001084</td>\n",
       "      <td>0.004665</td>\n",
       "      <td>-0.005166</td>\n",
       "      <td>0.002088</td>\n",
       "    </tr>\n",
       "    <tr>\n",
       "      <th>2017-09-25</th>\n",
       "      <td>0.002369</td>\n",
       "      <td>0.006260</td>\n",
       "      <td>0.002991</td>\n",
       "      <td>0.003720</td>\n",
       "      <td>0.001768</td>\n",
       "      <td>0.014435</td>\n",
       "      <td>-0.001180</td>\n",
       "      <td>0.000000</td>\n",
       "      <td>-0.011791</td>\n",
       "      <td>0.007233</td>\n",
       "      <td>0.009205</td>\n",
       "      <td>-0.002942</td>\n",
       "      <td>-0.002122</td>\n",
       "      <td>-0.005703</td>\n",
       "      <td>0.002165</td>\n",
       "      <td>-0.007144</td>\n",
       "      <td>-0.006491</td>\n",
       "      <td>-0.010880</td>\n",
       "    </tr>\n",
       "  </tbody>\n",
       "</table>\n",
       "</div>"
      ],
      "text/plain": [
       "                 AGG       TLT       IEF       LQD       XLB       XLE  \\\n",
       "2017-09-19 -0.000546 -0.002458 -0.001119  0.000579  0.005144  0.004083   \n",
       "2017-09-20 -0.000820  0.000715 -0.001960 -0.001240  0.003529  0.006778   \n",
       "2017-09-21 -0.000182 -0.000556 -0.001309  0.000000 -0.002110  0.000299   \n",
       "2017-09-22  0.000729  0.002861  0.001779  0.001324 -0.003524  0.005085   \n",
       "2017-09-25  0.002369  0.006260  0.002991  0.003720  0.001768  0.014435   \n",
       "\n",
       "                 XLF       XLI       XLK       XLP       XLU       XLV  \\\n",
       "2017-09-19  0.007582  0.001003  0.004422 -0.003074 -0.002030 -0.007872   \n",
       "2017-09-20  0.005941  0.007301 -0.004064 -0.009614 -0.007396  0.000977   \n",
       "2017-09-21  0.002362  0.002985 -0.005441 -0.009524 -0.000186 -0.005122   \n",
       "2017-09-22 -0.001178  0.002551  0.000513 -0.002959 -0.008198  0.000000   \n",
       "2017-09-25 -0.001180  0.000000 -0.011791  0.007233  0.009205 -0.002942   \n",
       "\n",
       "                 XLY       EFA       EWJ       EWW       EWY       EZU  \n",
       "2017-09-19 -0.000896  0.004696  0.005792 -0.004650  0.003293  0.004875  \n",
       "2017-09-20  0.003362 -0.002191  0.000360  0.003774 -0.005280 -0.004851  \n",
       "2017-09-21 -0.001675 -0.002049 -0.003958 -0.002327 -0.000143  0.000696  \n",
       "2017-09-22  0.001678  0.003080  0.001084  0.004665 -0.005166  0.002088  \n",
       "2017-09-25 -0.002122 -0.005703  0.002165 -0.007144 -0.006491 -0.010880  "
      ]
     },
     "execution_count": 30,
     "metadata": {},
     "output_type": "execute_result"
    }
   ],
   "source": [
    "Indx_ret.head()"
   ]
  },
  {
   "cell_type": "markdown",
   "metadata": {},
   "source": [
    "### b) Calculate covariance matrix"
   ]
  },
  {
   "cell_type": "code",
   "execution_count": 31,
   "metadata": {},
   "outputs": [],
   "source": [
    "Indx_cov = np.cov(Indx_ret.T)"
   ]
  },
  {
   "cell_type": "code",
   "execution_count": 32,
   "metadata": {},
   "outputs": [
    {
     "data": {
      "text/plain": [
       "array([[ 3.31107948e-06,  1.04007844e-05,  4.76329972e-06,\n",
       "         4.40120284e-06, -3.97228517e-06, -5.08795616e-06,\n",
       "        -7.79601998e-06, -4.83395066e-06, -3.50123403e-06,\n",
       "        -3.75883189e-08,  3.89483063e-06, -2.03229169e-06,\n",
       "        -3.28260379e-06, -2.44770252e-06, -2.10574854e-06,\n",
       "        -8.04431234e-07, -1.91287351e-06, -3.37561732e-06],\n",
       "       [ 1.04007844e-05,  4.12914303e-05,  1.68158075e-05,\n",
       "         1.37713720e-05, -2.24169942e-05, -2.50601281e-05,\n",
       "        -3.48894787e-05, -2.68007132e-05, -2.39823421e-05,\n",
       "        -4.76923785e-06,  1.15626024e-05, -1.51365152e-05,\n",
       "        -2.14154228e-05, -1.62371251e-05, -1.55006118e-05,\n",
       "        -1.10611557e-05, -1.76848319e-05, -1.96931588e-05],\n",
       "       [ 4.76329972e-06,  1.68158075e-05,  8.02387637e-06,\n",
       "         5.86137286e-06, -1.14668614e-05, -1.28571810e-05,\n",
       "        -1.73304666e-05, -1.34166179e-05, -1.33380666e-05,\n",
       "        -2.83364025e-06,  5.24087390e-06, -8.12655407e-06,\n",
       "        -1.10868492e-05, -8.63794959e-06, -8.19621135e-06,\n",
       "        -6.51072337e-06, -9.72888564e-06, -1.04692483e-05],\n",
       "       [ 4.40120284e-06,  1.37713720e-05,  5.86137286e-06,\n",
       "         7.66773546e-06,  6.22894833e-07, -7.06294963e-07,\n",
       "        -4.23983837e-06,  3.60635790e-07,  3.35552548e-06,\n",
       "         4.03833877e-06,  7.44184018e-06,  2.57304562e-06,\n",
       "         2.14166569e-06,  1.76349510e-06,  2.10918302e-06,\n",
       "         3.83874049e-06,  4.13234320e-06,  1.03132000e-06],\n",
       "       [-3.97228517e-06, -2.24169942e-05, -1.14668614e-05,\n",
       "         6.22894833e-07,  1.19086956e-04,  9.22990329e-05,\n",
       "         8.83595410e-05,  1.00578087e-04,  1.03653001e-04,\n",
       "         4.88960843e-05,  1.35915618e-05,  7.06972027e-05,\n",
       "         8.76046281e-05,  6.88480785e-05,  6.84417035e-05,\n",
       "         6.82452731e-05,  9.43389814e-05,  7.62639643e-05],\n",
       "       [-5.08795616e-06, -2.50601281e-05, -1.28571810e-05,\n",
       "        -7.06294963e-07,  9.22990329e-05,  1.59977433e-04,\n",
       "         8.84797382e-05,  9.45117113e-05,  1.01212213e-04,\n",
       "         4.01176559e-05,  8.11894069e-06,  6.94424122e-05,\n",
       "         8.62640852e-05,  6.77448524e-05,  6.92281853e-05,\n",
       "         7.31837829e-05,  8.48107726e-05,  7.15652909e-05],\n",
       "       [-7.79601998e-06, -3.48894787e-05, -1.73304666e-05,\n",
       "        -4.23983837e-06,  8.83595410e-05,  8.84797382e-05,\n",
       "         1.22608759e-04,  9.65353589e-05,  1.02644941e-04,\n",
       "         4.49791038e-05,  7.62995499e-06,  7.22285742e-05,\n",
       "         8.74807243e-05,  6.63544461e-05,  6.75486864e-05,\n",
       "         5.81242814e-05,  8.29669026e-05,  7.30852625e-05],\n",
       "       [-4.83395066e-06, -2.68007132e-05, -1.34166179e-05,\n",
       "         3.60635790e-07,  1.00578087e-04,  9.45117113e-05,\n",
       "         9.65353589e-05,  1.17182004e-04,  1.09954541e-04,\n",
       "         4.96601126e-05,  1.38800242e-05,  7.55986326e-05,\n",
       "         9.28232643e-05,  6.80058997e-05,  6.87234885e-05,\n",
       "         6.49121296e-05,  8.81657474e-05,  7.32929455e-05],\n",
       "       [-3.50123403e-06, -2.39823421e-05, -1.33380666e-05,\n",
       "         3.35552548e-06,  1.03653001e-04,  1.01212213e-04,\n",
       "         1.02644941e-04,  1.09954541e-04,  1.70566693e-04,\n",
       "         5.23024029e-05,  1.76008147e-05,  9.53941917e-05,\n",
       "         1.19875623e-04,  8.05856039e-05,  8.23553704e-05,\n",
       "         7.68474523e-05,  1.12712498e-04,  8.72443466e-05],\n",
       "       [-3.75883189e-08, -4.76923785e-06, -2.83364025e-06,\n",
       "         4.03833877e-06,  4.88960843e-05,  4.01176559e-05,\n",
       "         4.49791038e-05,  4.96601126e-05,  5.23024029e-05,\n",
       "         6.62044258e-05,  3.60836708e-05,  4.99885462e-05,\n",
       "         4.74070987e-05,  3.39961189e-05,  3.62047538e-05,\n",
       "         3.67428008e-05,  3.98724633e-05,  3.48389158e-05],\n",
       "       [ 3.89483063e-06,  1.15626024e-05,  5.24087390e-06,\n",
       "         7.44184018e-06,  1.35915618e-05,  8.11894069e-06,\n",
       "         7.62995499e-06,  1.38800242e-05,  1.76008147e-05,\n",
       "         3.60836708e-05,  7.21846521e-05,  2.51455500e-05,\n",
       "         1.31768963e-05,  6.79488496e-06,  8.73670222e-06,\n",
       "         9.58258660e-06,  8.61627669e-06,  4.53145319e-06],\n",
       "       [-2.03229169e-06, -1.51365152e-05, -8.12655407e-06,\n",
       "         2.57304562e-06,  7.06972027e-05,  6.94424122e-05,\n",
       "         7.22285742e-05,  7.55986326e-05,  9.53941917e-05,\n",
       "         4.99885462e-05,  2.51455500e-05,  9.31600269e-05,\n",
       "         7.57922106e-05,  5.42160779e-05,  5.63744203e-05,\n",
       "         5.49328428e-05,  6.98271452e-05,  5.66861401e-05],\n",
       "       [-3.28260379e-06, -2.14154228e-05, -1.10868492e-05,\n",
       "         2.14166569e-06,  8.76046281e-05,  8.62640852e-05,\n",
       "         8.74807243e-05,  9.28232643e-05,  1.19875623e-04,\n",
       "         4.74070987e-05,  1.31768963e-05,  7.57922106e-05,\n",
       "         1.11452753e-04,  6.48907207e-05,  6.70640336e-05,\n",
       "         6.71670803e-05,  8.92260919e-05,  7.04318980e-05],\n",
       "       [-2.44770252e-06, -1.62371251e-05, -8.63794959e-06,\n",
       "         1.76349510e-06,  6.88480785e-05,  6.77448524e-05,\n",
       "         6.63544461e-05,  6.80058997e-05,  8.05856039e-05,\n",
       "         3.39961189e-05,  6.79488496e-06,  5.42160779e-05,\n",
       "         6.48907207e-05,  6.52004949e-05,  6.24052670e-05,\n",
       "         6.25817256e-05,  8.07574353e-05,  7.23283191e-05],\n",
       "       [-2.10574854e-06, -1.55006118e-05, -8.19621135e-06,\n",
       "         2.10918302e-06,  6.84417035e-05,  6.92281853e-05,\n",
       "         6.75486864e-05,  6.87234885e-05,  8.23553704e-05,\n",
       "         3.62047538e-05,  8.73670222e-06,  5.63744203e-05,\n",
       "         6.70640336e-05,  6.24052670e-05,  7.78146621e-05,\n",
       "         6.00417971e-05,  8.14080727e-05,  6.29566683e-05],\n",
       "       [-8.04431234e-07, -1.10611557e-05, -6.51072337e-06,\n",
       "         3.83874049e-06,  6.82452731e-05,  7.31837829e-05,\n",
       "         5.81242814e-05,  6.49121296e-05,  7.68474523e-05,\n",
       "         3.67428008e-05,  9.58258660e-06,  5.49328428e-05,\n",
       "         6.71670803e-05,  6.25817256e-05,  6.00417971e-05,\n",
       "         1.99287123e-04,  9.43583766e-05,  6.97085039e-05],\n",
       "       [-1.91287351e-06, -1.76848319e-05, -9.72888564e-06,\n",
       "         4.13234320e-06,  9.43389814e-05,  8.48107726e-05,\n",
       "         8.29669026e-05,  8.81657474e-05,  1.12712498e-04,\n",
       "         3.98724633e-05,  8.61627669e-06,  6.98271452e-05,\n",
       "         8.92260919e-05,  8.07574353e-05,  8.14080727e-05,\n",
       "         9.43583766e-05,  1.76115006e-04,  8.72226115e-05],\n",
       "       [-3.37561732e-06, -1.96931588e-05, -1.04692483e-05,\n",
       "         1.03132000e-06,  7.62639643e-05,  7.15652909e-05,\n",
       "         7.30852625e-05,  7.32929455e-05,  8.72443466e-05,\n",
       "         3.48389158e-05,  4.53145319e-06,  5.66861401e-05,\n",
       "         7.04318980e-05,  7.23283191e-05,  6.29566683e-05,\n",
       "         6.97085039e-05,  8.72226115e-05,  8.77409887e-05]])"
      ]
     },
     "execution_count": 32,
     "metadata": {},
     "output_type": "execute_result"
    }
   ],
   "source": [
    "Indx_cov"
   ]
  },
  {
   "cell_type": "markdown",
   "metadata": {},
   "source": [
    "### c) Calculate condition number"
   ]
  },
  {
   "cell_type": "code",
   "execution_count": 33,
   "metadata": {},
   "outputs": [
    {
     "data": {
      "text/plain": [
       "6084.011362592125"
      ]
     },
     "execution_count": 33,
     "metadata": {},
     "output_type": "execute_result"
    }
   ],
   "source": [
    "np.linalg.cond(Indx_cov)"
   ]
  },
  {
   "cell_type": "markdown",
   "metadata": {},
   "source": [
    "### d) Use OAS, calculate condition number"
   ]
  },
  {
   "cell_type": "code",
   "execution_count": 34,
   "metadata": {},
   "outputs": [
    {
     "data": {
      "text/plain": [
       "108.80172839843482"
      ]
     },
     "execution_count": 34,
     "metadata": {},
     "output_type": "execute_result"
    }
   ],
   "source": [
    "oi = OAS().fit(Indx_cov)\n",
    "np.linalg.cond(oi.covariance_)"
   ]
  },
  {
   "cell_type": "markdown",
   "metadata": {},
   "source": [
    "### e) Perform agglomerative clustering"
   ]
  },
  {
   "cell_type": "code",
   "execution_count": 35,
   "metadata": {},
   "outputs": [],
   "source": [
    "from sklearn.cluster import AgglomerativeClustering\n",
    "from scipy.spatial.distance import pdist, squareform\n",
    "from scipy.cluster.hierarchy import linkage\n",
    "from scipy.cluster.hierarchy import dendrogram\n",
    "import scipy.cluster.hierarchy as sch"
   ]
  },
  {
   "cell_type": "code",
   "execution_count": 36,
   "metadata": {},
   "outputs": [
    {
     "data": {
      "text/plain": [
       "array([1, 1, 1, 1, 0, 0, 0, 0, 0, 0, 1, 0, 0, 0, 0, 2, 0, 0], dtype=int64)"
      ]
     },
     "execution_count": 36,
     "metadata": {},
     "output_type": "execute_result"
    }
   ],
   "source": [
    "ac = AgglomerativeClustering(n_clusters=3, affinity = 'euclidean', linkage = 'complete')\n",
    "ac.fit_predict(Indx_ret.T)"
   ]
  },
  {
   "cell_type": "code",
   "execution_count": 37,
   "metadata": {},
   "outputs": [
    {
     "data": {
      "text/plain": [
       "array([1, 1, 1, 1, 0, 0, 0, 0, 0, 0, 1, 0, 0, 0, 0, 2, 3, 0], dtype=int64)"
      ]
     },
     "execution_count": 37,
     "metadata": {},
     "output_type": "execute_result"
    }
   ],
   "source": [
    "ac = AgglomerativeClustering(n_clusters=4, affinity = 'euclidean', linkage = 'complete')\n",
    "ac.fit_predict(Indx_ret.T)"
   ]
  },
  {
   "cell_type": "code",
   "execution_count": 38,
   "metadata": {},
   "outputs": [
    {
     "data": {
      "text/plain": [
       "array([1, 1, 1, 1, 0, 0, 0, 0, 0, 4, 1, 4, 0, 0, 0, 2, 3, 0], dtype=int64)"
      ]
     },
     "execution_count": 38,
     "metadata": {},
     "output_type": "execute_result"
    }
   ],
   "source": [
    "ac = AgglomerativeClustering(n_clusters=5, affinity = 'euclidean', linkage = 'complete')\n",
    "ac.fit_predict(Indx_ret.T)"
   ]
  },
  {
   "cell_type": "code",
   "execution_count": 39,
   "metadata": {},
   "outputs": [
    {
     "data": {
      "text/plain": [
       "array([9, 9, 9, 9, 4, 5, 8, 4, 1, 0, 6, 0, 1, 3, 3, 2, 7, 3], dtype=int64)"
      ]
     },
     "execution_count": 39,
     "metadata": {},
     "output_type": "execute_result"
    }
   ],
   "source": [
    "ac = AgglomerativeClustering(n_clusters=10, affinity = 'euclidean', linkage = 'complete')\n",
    "ac.fit_predict(Indx_ret.T)"
   ]
  },
  {
   "cell_type": "code",
   "execution_count": 40,
   "metadata": {},
   "outputs": [
    {
     "data": {
      "text/plain": [
       "array([ 1,  1,  1,  1,  0, 11,  8,  0, 12, 10,  6,  7,  9,  4,  5,  2,  3,\n",
       "        4], dtype=int64)"
      ]
     },
     "execution_count": 40,
     "metadata": {},
     "output_type": "execute_result"
    }
   ],
   "source": [
    "ac = AgglomerativeClustering(n_clusters=13, affinity = 'euclidean', linkage = 'complete')\n",
    "ac.fit_predict(Indx_ret.T)"
   ]
  },
  {
   "cell_type": "code",
   "execution_count": 41,
   "metadata": {},
   "outputs": [],
   "source": [
    "dist = squareform(pdist(Indx_ret.transpose().values, metric = 'euclidean'))"
   ]
  },
  {
   "cell_type": "code",
   "execution_count": 42,
   "metadata": {},
   "outputs": [],
   "source": [
    "df_dist = pd.DataFrame(data=dist, columns=Indx_ret.columns, index=Indx_ret.columns)"
   ]
  },
  {
   "cell_type": "code",
   "execution_count": 43,
   "metadata": {},
   "outputs": [
    {
     "data": {
      "text/html": [
       "<div>\n",
       "<style scoped>\n",
       "    .dataframe tbody tr th:only-of-type {\n",
       "        vertical-align: middle;\n",
       "    }\n",
       "\n",
       "    .dataframe tbody tr th {\n",
       "        vertical-align: top;\n",
       "    }\n",
       "\n",
       "    .dataframe thead th {\n",
       "        text-align: right;\n",
       "    }\n",
       "</style>\n",
       "<table border=\"1\" class=\"dataframe\">\n",
       "  <thead>\n",
       "    <tr style=\"text-align: right;\">\n",
       "      <th></th>\n",
       "      <th>AGG</th>\n",
       "      <th>TLT</th>\n",
       "      <th>IEF</th>\n",
       "      <th>LQD</th>\n",
       "      <th>XLB</th>\n",
       "      <th>XLE</th>\n",
       "      <th>XLF</th>\n",
       "      <th>XLI</th>\n",
       "      <th>XLK</th>\n",
       "      <th>XLP</th>\n",
       "      <th>XLU</th>\n",
       "      <th>XLV</th>\n",
       "      <th>XLY</th>\n",
       "      <th>EFA</th>\n",
       "      <th>EWJ</th>\n",
       "      <th>EWW</th>\n",
       "      <th>EWY</th>\n",
       "      <th>EZU</th>\n",
       "    </tr>\n",
       "  </thead>\n",
       "  <tbody>\n",
       "    <tr>\n",
       "      <th>AGG</th>\n",
       "      <td>0.000000</td>\n",
       "      <td>0.109150</td>\n",
       "      <td>0.030077</td>\n",
       "      <td>0.032997</td>\n",
       "      <td>0.255293</td>\n",
       "      <td>0.294506</td>\n",
       "      <td>0.266068</td>\n",
       "      <td>0.255182</td>\n",
       "      <td>0.301121</td>\n",
       "      <td>0.186574</td>\n",
       "      <td>0.184111</td>\n",
       "      <td>0.224253</td>\n",
       "      <td>0.246711</td>\n",
       "      <td>0.191593</td>\n",
       "      <td>0.206566</td>\n",
       "      <td>0.319704</td>\n",
       "      <td>0.302804</td>\n",
       "      <td>0.221179</td>\n",
       "    </tr>\n",
       "    <tr>\n",
       "      <th>TLT</th>\n",
       "      <td>0.109150</td>\n",
       "      <td>0.000000</td>\n",
       "      <td>0.088604</td>\n",
       "      <td>0.103521</td>\n",
       "      <td>0.320327</td>\n",
       "      <td>0.354567</td>\n",
       "      <td>0.341826</td>\n",
       "      <td>0.325643</td>\n",
       "      <td>0.360620</td>\n",
       "      <td>0.241903</td>\n",
       "      <td>0.212566</td>\n",
       "      <td>0.286990</td>\n",
       "      <td>0.312888</td>\n",
       "      <td>0.263658</td>\n",
       "      <td>0.273972</td>\n",
       "      <td>0.362694</td>\n",
       "      <td>0.355703</td>\n",
       "      <td>0.290298</td>\n",
       "    </tr>\n",
       "    <tr>\n",
       "      <th>IEF</th>\n",
       "      <td>0.030077</td>\n",
       "      <td>0.088604</td>\n",
       "      <td>0.000000</td>\n",
       "      <td>0.044547</td>\n",
       "      <td>0.273904</td>\n",
       "      <td>0.311226</td>\n",
       "      <td>0.287533</td>\n",
       "      <td>0.275770</td>\n",
       "      <td>0.320697</td>\n",
       "      <td>0.199894</td>\n",
       "      <td>0.186811</td>\n",
       "      <td>0.242351</td>\n",
       "      <td>0.266473</td>\n",
       "      <td>0.212739</td>\n",
       "      <td>0.226088</td>\n",
       "      <td>0.332097</td>\n",
       "      <td>0.319178</td>\n",
       "      <td>0.241613</td>\n",
       "    </tr>\n",
       "    <tr>\n",
       "      <th>LQD</th>\n",
       "      <td>0.032997</td>\n",
       "      <td>0.103521</td>\n",
       "      <td>0.044547</td>\n",
       "      <td>0.000000</td>\n",
       "      <td>0.250511</td>\n",
       "      <td>0.290745</td>\n",
       "      <td>0.263450</td>\n",
       "      <td>0.249184</td>\n",
       "      <td>0.293211</td>\n",
       "      <td>0.181403</td>\n",
       "      <td>0.180329</td>\n",
       "      <td>0.218759</td>\n",
       "      <td>0.239998</td>\n",
       "      <td>0.186222</td>\n",
       "      <td>0.201574</td>\n",
       "      <td>0.315852</td>\n",
       "      <td>0.296372</td>\n",
       "      <td>0.216099</td>\n",
       "    </tr>\n",
       "    <tr>\n",
       "      <th>XLB</th>\n",
       "      <td>0.255293</td>\n",
       "      <td>0.320327</td>\n",
       "      <td>0.273904</td>\n",
       "      <td>0.250511</td>\n",
       "      <td>0.000000</td>\n",
       "      <td>0.217353</td>\n",
       "      <td>0.180295</td>\n",
       "      <td>0.132570</td>\n",
       "      <td>0.203361</td>\n",
       "      <td>0.209174</td>\n",
       "      <td>0.286474</td>\n",
       "      <td>0.188240</td>\n",
       "      <td>0.166790</td>\n",
       "      <td>0.152678</td>\n",
       "      <td>0.173233</td>\n",
       "      <td>0.301811</td>\n",
       "      <td>0.230996</td>\n",
       "      <td>0.164887</td>\n",
       "    </tr>\n",
       "  </tbody>\n",
       "</table>\n",
       "</div>"
      ],
      "text/plain": [
       "          AGG       TLT       IEF       LQD       XLB       XLE       XLF  \\\n",
       "AGG  0.000000  0.109150  0.030077  0.032997  0.255293  0.294506  0.266068   \n",
       "TLT  0.109150  0.000000  0.088604  0.103521  0.320327  0.354567  0.341826   \n",
       "IEF  0.030077  0.088604  0.000000  0.044547  0.273904  0.311226  0.287533   \n",
       "LQD  0.032997  0.103521  0.044547  0.000000  0.250511  0.290745  0.263450   \n",
       "XLB  0.255293  0.320327  0.273904  0.250511  0.000000  0.217353  0.180295   \n",
       "\n",
       "          XLI       XLK       XLP       XLU       XLV       XLY       EFA  \\\n",
       "AGG  0.255182  0.301121  0.186574  0.184111  0.224253  0.246711  0.191593   \n",
       "TLT  0.325643  0.360620  0.241903  0.212566  0.286990  0.312888  0.263658   \n",
       "IEF  0.275770  0.320697  0.199894  0.186811  0.242351  0.266473  0.212739   \n",
       "LQD  0.249184  0.293211  0.181403  0.180329  0.218759  0.239998  0.186222   \n",
       "XLB  0.132570  0.203361  0.209174  0.286474  0.188240  0.166790  0.152678   \n",
       "\n",
       "          EWJ       EWW       EWY       EZU  \n",
       "AGG  0.206566  0.319704  0.302804  0.221179  \n",
       "TLT  0.273972  0.362694  0.355703  0.290298  \n",
       "IEF  0.226088  0.332097  0.319178  0.241613  \n",
       "LQD  0.201574  0.315852  0.296372  0.216099  \n",
       "XLB  0.173233  0.301811  0.230996  0.164887  "
      ]
     },
     "execution_count": 43,
     "metadata": {},
     "output_type": "execute_result"
    }
   ],
   "source": [
    "df_dist.head()"
   ]
  },
  {
   "cell_type": "code",
   "execution_count": 44,
   "metadata": {},
   "outputs": [],
   "source": [
    "cls = linkage(Indx_ret.transpose().values, method = 'complete', metric = 'euclidean')"
   ]
  },
  {
   "cell_type": "markdown",
   "metadata": {},
   "source": [
    "### f) Plot Dendrogram – describe the different clusters."
   ]
  },
  {
   "cell_type": "code",
   "execution_count": 45,
   "metadata": {},
   "outputs": [
    {
     "data": {
      "text/plain": [
       "Text(145.0, 0.5, 'euclidean distance')"
      ]
     },
     "execution_count": 45,
     "metadata": {},
     "output_type": "execute_result"
    },
    {
     "data": {
      "image/png": "[encoded data removed]",
      "text/plain": [
       "<Figure size 1440x720 with 1 Axes>"
      ]
     },
     "metadata": {},
     "output_type": "display_data"
    }
   ],
   "source": [
    "plt.figure(figsize=(20,10))\n",
    "dendr=dendrogram(cls, labels=Indx_ret.columns)\n",
    "plt.tight_layout()\n",
    "plt.ylabel('euclidean distance')"
   ]
  },
  {
   "cell_type": "markdown",
   "metadata": {},
   "source": [
    "XLU, TLT, LQD, AGG and IEF are grouped together.\n",
    "\n",
    "XLB and XLI are grouped together, which are US Basic Materials and US Industrial tracking Funds.\n",
    "\n",
    "XLP and XLV are grouped together, which are US Consumer staples and US Healthcare tracking Funds. \n",
    "\n",
    "EFA: MSCI EAFE ETF and EZU: MSCI European Union ETF are finally grouped together.\n",
    "\n",
    "XLK and XLY are grouped together, which are US Technology and US Consumer Discretionary tracking Funds.\n",
    "\n",
    "EWW: MSCI Mexico ETF, EWY: MSCI South Korea ETF, XLE: US Energy tracking fund, XLF: US Financials tracking fund, EWJ: MSCI Japan ETF are all standalone groups and are grouped with other equity groups."
   ]
  },
  {
   "cell_type": "markdown",
   "metadata": {},
   "source": [
    "### g) Get HRP weights using provided functions"
   ]
  },
  {
   "cell_type": "code",
   "execution_count": 46,
   "metadata": {},
   "outputs": [],
   "source": [
    "def getIVP(cov):\n",
    "    # Compute the inverse-variance portfolio\n",
    "    ivp = 1. / np.diag(cov)\n",
    "    ivp /= ivp.sum()\n",
    "    return ivp"
   ]
  },
  {
   "cell_type": "code",
   "execution_count": 47,
   "metadata": {},
   "outputs": [],
   "source": [
    "def getHRP(cov, corr):\n",
    "    # Construct a hierarchical portfolio\n",
    "    dist = correlDist(corr)\n",
    "    link = sch.linkage(dist, 'single')\n",
    "    #dn = sch.dendrogram(link, labels=cov.index.values, label_rotation=90)\n",
    "    #plt.show()\n",
    "    sortIx = getQuasiDiag(link)\n",
    "    sortIx = corr.index[sortIx].tolist()\n",
    "    hrp = getRecBipart(cov, sortIx)\n",
    "    return hrp.sort_index()"
   ]
  },
  {
   "cell_type": "code",
   "execution_count": 48,
   "metadata": {},
   "outputs": [],
   "source": [
    "def correlDist(corr):\n",
    "    # A distance matrix based on correlation, where 0<=d[i,j]<=1\n",
    "    # This is a proper distance metric\n",
    "    dist = ((1 - corr) / 2.)**.5  # distance matrix\n",
    "    return dist\n",
    "\n",
    "\n",
    "def getQuasiDiag(link):\n",
    "    # Sort clustered items by distance\n",
    "    link = link.astype(int)\n",
    "    sortIx = pd.Series([link[-1, 0], link[-1, 1]])\n",
    "    numItems = link[-1, 3]  # number of original items\n",
    "    while sortIx.max() >= numItems:\n",
    "        sortIx.index = range(0, sortIx.shape[0] * 2, 2)  # make space\n",
    "        df0 = sortIx[sortIx >= numItems]  # find clusters\n",
    "        i = df0.index\n",
    "        j = df0.values - numItems\n",
    "        sortIx[i] = link[j, 0]  # item 1\n",
    "        df0 = pd.Series(link[j, 1], index=i + 1)\n",
    "        sortIx = sortIx.append(df0)  # item 2\n",
    "        sortIx = sortIx.sort_index()  # re-sort\n",
    "        sortIx.index = range(sortIx.shape[0])  # re-index\n",
    "    return sortIx.tolist()\n",
    "\n",
    "def getRecBipart(cov, sortIx):\n",
    "    # Compute HRP alloc\n",
    "    w = pd.Series(1, index=sortIx)\n",
    "    cItems = [sortIx]  # initialize all items in one cluster\n",
    "    while len(cItems) > 0:\n",
    "        cItems = [i[j:k] for i in cItems for j, k in ((0, len(i) // 2), (len(i) // 2, len(i))) if len(i) > 1]  # bi-section\n",
    "        for i in range(0, len(cItems), 2):  # parse in pairs\n",
    "            cItems0 = cItems[i]  # cluster 1\n",
    "            cItems1 = cItems[i + 1]  # cluster 2\n",
    "            cVar0 = getClusterVar(cov, cItems0)\n",
    "            cVar1 = getClusterVar(cov, cItems1)\n",
    "            alpha = 1 - cVar0 / (cVar0 + cVar1)\n",
    "            w[cItems0] *= alpha  # weight 1\n",
    "            w[cItems1] *= 1 - alpha  # weight 2\n",
    "    return w\n",
    "\n",
    "def getClusterVar(cov,cItems):\n",
    "    # Compute variance per cluster\n",
    "    cov_=cov.loc[cItems,cItems] # matrix slice\n",
    "    w_=getIVP(cov_).reshape(-1,1)\n",
    "    cVar=np.dot(np.dot(w_.T,cov_),w_)[0,0]\n",
    "    return cVar"
   ]
  },
  {
   "cell_type": "code",
   "execution_count": 49,
   "metadata": {},
   "outputs": [],
   "source": [
    "Indx_corr = Indx_ret.corr().values"
   ]
  },
  {
   "cell_type": "code",
   "execution_count": 50,
   "metadata": {},
   "outputs": [
    {
     "name": "stderr",
     "output_type": "stream",
     "text": [
      "<ipython-input-47-db4fcc5f64fa>:4: ClusterWarning: scipy.cluster: The symmetric non-negative hollow observation matrix looks suspiciously like an uncondensed distance matrix\n",
      "  link = sch.linkage(dist, 'single')\n"
     ]
    }
   ],
   "source": [
    "w_hrp = getHRP(Indx_ret.cov(), Indx_ret.corr())"
   ]
  },
  {
   "cell_type": "code",
   "execution_count": 51,
   "metadata": {},
   "outputs": [],
   "source": [
    "w_ivp = getIVP(Indx_cov)"
   ]
  },
  {
   "cell_type": "code",
   "execution_count": 52,
   "metadata": {},
   "outputs": [],
   "source": [
    "weights = pd.DataFrame(index = Indx_ret.columns, columns = ['IVP','HRP'] ,data = np.vstack((w_ivp, w_hrp)).transpose())"
   ]
  },
  {
   "cell_type": "code",
   "execution_count": 53,
   "metadata": {},
   "outputs": [
    {
     "data": {
      "text/html": [
       "<div>\n",
       "<style scoped>\n",
       "    .dataframe tbody tr th:only-of-type {\n",
       "        vertical-align: middle;\n",
       "    }\n",
       "\n",
       "    .dataframe tbody tr th {\n",
       "        vertical-align: top;\n",
       "    }\n",
       "\n",
       "    .dataframe thead th {\n",
       "        text-align: right;\n",
       "    }\n",
       "</style>\n",
       "<table border=\"1\" class=\"dataframe\">\n",
       "  <thead>\n",
       "    <tr style=\"text-align: right;\">\n",
       "      <th></th>\n",
       "      <th>IVP</th>\n",
       "      <th>HRP</th>\n",
       "    </tr>\n",
       "  </thead>\n",
       "  <tbody>\n",
       "    <tr>\n",
       "      <th>AGG</th>\n",
       "      <td>0.420972</td>\n",
       "      <td>0.431040</td>\n",
       "    </tr>\n",
       "    <tr>\n",
       "      <th>TLT</th>\n",
       "      <td>0.033757</td>\n",
       "      <td>0.010560</td>\n",
       "    </tr>\n",
       "    <tr>\n",
       "      <th>IEF</th>\n",
       "      <td>0.173716</td>\n",
       "      <td>0.008848</td>\n",
       "    </tr>\n",
       "    <tr>\n",
       "      <th>LQD</th>\n",
       "      <td>0.181784</td>\n",
       "      <td>0.013448</td>\n",
       "    </tr>\n",
       "    <tr>\n",
       "      <th>XLB</th>\n",
       "      <td>0.011705</td>\n",
       "      <td>0.007237</td>\n",
       "    </tr>\n",
       "    <tr>\n",
       "      <th>XLE</th>\n",
       "      <td>0.008713</td>\n",
       "      <td>0.009033</td>\n",
       "    </tr>\n",
       "    <tr>\n",
       "      <th>XLF</th>\n",
       "      <td>0.011368</td>\n",
       "      <td>0.190538</td>\n",
       "    </tr>\n",
       "    <tr>\n",
       "      <th>XLI</th>\n",
       "      <td>0.011895</td>\n",
       "      <td>0.186131</td>\n",
       "    </tr>\n",
       "    <tr>\n",
       "      <th>XLK</th>\n",
       "      <td>0.008172</td>\n",
       "      <td>0.037026</td>\n",
       "    </tr>\n",
       "    <tr>\n",
       "      <th>XLP</th>\n",
       "      <td>0.021054</td>\n",
       "      <td>0.003220</td>\n",
       "    </tr>\n",
       "    <tr>\n",
       "      <th>XLU</th>\n",
       "      <td>0.019310</td>\n",
       "      <td>0.007967</td>\n",
       "    </tr>\n",
       "    <tr>\n",
       "      <th>XLV</th>\n",
       "      <td>0.014962</td>\n",
       "      <td>0.006228</td>\n",
       "    </tr>\n",
       "    <tr>\n",
       "      <th>XLY</th>\n",
       "      <td>0.012506</td>\n",
       "      <td>0.003272</td>\n",
       "    </tr>\n",
       "    <tr>\n",
       "      <th>EFA</th>\n",
       "      <td>0.021378</td>\n",
       "      <td>0.004477</td>\n",
       "    </tr>\n",
       "    <tr>\n",
       "      <th>EWJ</th>\n",
       "      <td>0.017913</td>\n",
       "      <td>0.028969</td>\n",
       "    </tr>\n",
       "    <tr>\n",
       "      <th>EWW</th>\n",
       "      <td>0.006994</td>\n",
       "      <td>0.037127</td>\n",
       "    </tr>\n",
       "    <tr>\n",
       "      <th>EWY</th>\n",
       "      <td>0.007915</td>\n",
       "      <td>0.008508</td>\n",
       "    </tr>\n",
       "    <tr>\n",
       "      <th>EZU</th>\n",
       "      <td>0.015886</td>\n",
       "      <td>0.006370</td>\n",
       "    </tr>\n",
       "  </tbody>\n",
       "</table>\n",
       "</div>"
      ],
      "text/plain": [
       "          IVP       HRP\n",
       "AGG  0.420972  0.431040\n",
       "TLT  0.033757  0.010560\n",
       "IEF  0.173716  0.008848\n",
       "LQD  0.181784  0.013448\n",
       "XLB  0.011705  0.007237\n",
       "XLE  0.008713  0.009033\n",
       "XLF  0.011368  0.190538\n",
       "XLI  0.011895  0.186131\n",
       "XLK  0.008172  0.037026\n",
       "XLP  0.021054  0.003220\n",
       "XLU  0.019310  0.007967\n",
       "XLV  0.014962  0.006228\n",
       "XLY  0.012506  0.003272\n",
       "EFA  0.021378  0.004477\n",
       "EWJ  0.017913  0.028969\n",
       "EWW  0.006994  0.037127\n",
       "EWY  0.007915  0.008508\n",
       "EZU  0.015886  0.006370"
      ]
     },
     "execution_count": 53,
     "metadata": {},
     "output_type": "execute_result"
    }
   ],
   "source": [
    "weights"
   ]
  }
 ],
 "metadata": {
  "kernelspec": {
   "display_name": "Python 3",
   "language": "python",
   "name": "python3"
  },
  "language_info": {
   "codemirror_mode": {
    "name": "ipython",
    "version": 3
   },
   "file_extension": ".py",
   "mimetype": "text/x-python",
   "name": "python",
   "nbconvert_exporter": "python",
   "pygments_lexer": "ipython3",
   "version": "3.8.5"
  }
 },
 "nbformat": 4,
 "nbformat_minor": 4
}
